{
  "cells": [
    {
      "cell_type": "markdown",
      "metadata": {
        "id": "view-in-github",
        "colab_type": "text"
      },
      "source": [
        "<a href=\"https://colab.research.google.com/github/aishwarya-shekar-babu/Road-Accident-Prediction/blob/main/Road_Accident_Prediction_finalmodels_app.ipynb\" target=\"_parent\"><img src=\"https://colab.research.google.com/assets/colab-badge.svg\" alt=\"Open In Colab\"/></a>"
      ]
    },
    {
      "cell_type": "markdown",
      "metadata": {
        "id": "yl7Nej_si_xh"
      },
      "source": [
        "# Machine Learning Prediction of Road Accident Severity with Urban factors and Weather conditions"
      ]
    },
    {
      "cell_type": "markdown",
      "metadata": {
        "id": "YhO-8oYCjIIK"
      },
      "source": [
        "## Research question\n",
        "\n",
        "\n",
        "1.   **Research Question 1:** which machine learning approach is optimal in accurately predict the severity of UK road accidents using environmental (e.g. weather), temporal (e.g. time of day, season), vehicle data and spatial (e.g. urban/rural), and which features contribute most to severe outcomes?\n",
        "\n"
      ]
    },
    {
      "cell_type": "code",
      "execution_count": null,
      "metadata": {
        "id": "6HtFbVoiMTES"
      },
      "outputs": [],
      "source": [
        "from google.colab import drive\n",
        "drive.mount('/content/drive')"
      ]
    },
    {
      "cell_type": "markdown",
      "metadata": {
        "id": "Z480R16gh_0d"
      },
      "source": [
        "# LOADING DATASET FROM GITHUB"
      ]
    },
    {
      "cell_type": "markdown",
      "metadata": {
        "id": "bSjwHQUAiOlx"
      },
      "source": [
        "# IMPORTING LIBRARIES"
      ]
    },
    {
      "cell_type": "code",
      "execution_count": null,
      "metadata": {
        "id": "EDQQUHwGNHJt"
      },
      "outputs": [],
      "source": [
        "import pandas as pd\n",
        "import matplotlib.pyplot as plt\n",
        "import numpy as np\n",
        "import seaborn as sns\n",
        "import folium\n",
        "from sklearn.preprocessing import LabelEncoder\n",
        "from sklearn.model_selection import train_test_split\n",
        "from sklearn.linear_model import LogisticRegression\n",
        "from sklearn.ensemble import RandomForestClassifier\n",
        "from sklearn.metrics import classification_report, confusion_matrix, roc_auc_score\n",
        "from sklearn.metrics import precision_recall_curve\n"
      ]
    },
    {
      "cell_type": "code",
      "source": [
        "\n",
        "import joblib\n",
        "import pandas as pd\n",
        "import ipywidgets as widgets\n",
        "from IPython.display import display, clear_output, HTML\n",
        "import warnings\n",
        "warnings.filterwarnings(\"ignore\", category=UserWarning)\n",
        "\n",
        "# === LOAD MODEL & ENCODERS ===\n",
        "best_xgb = joblib.load(\"xgboost_model.pkl\")\n",
        "label_encoders = joblib.load(\"label_encoders.pkl\")\n",
        "onehot_encode_cols = joblib.load(\"onehot_cols.pkl\")\n",
        "X_columns = joblib.load(\"X_columns.pkl\")\n",
        "print(\"✅ Model, encoders, and column metadata loaded.\")\n",
        "\n",
        "# === OPTIONS ===\n",
        "season_opts = ['Autumn', 'Spring', 'Summer', 'Winter']\n",
        "time_opts = ['Daytime', 'Evening_Peak', 'Late_Night', 'Morning_Peak', 'Night']\n",
        "urban_opts = ['Rural', 'Unknown', 'Urban']\n",
        "speed_opts = ['High_70', 'Low_30', 'Mid_50']\n",
        "weather_opts = ['Fine', 'Raining', 'Snowing_Ice', 'Fine+high winds', 'Other_Adverse', 'Unknown', 'Fog']\n",
        "light_opts = ['Darkness_Lights_On', 'Daylight', 'Dark_No_Lighting', 'Darkness_Lights_Off', 'Unknown']\n",
        "surface_opts = ['Dry', 'Wet_or_Damp', 'Snow_Ice', 'Flood', 'Unknown']\n",
        "road_type_opts = ['Dual_Carriageway', 'Single_Carriageway', 'One_Way_Street', 'Roundabout', 'Slip_Road', 'Unknown']\n",
        "day_opts = ['Wednesday', 'Thursday', 'Friday', 'Monday', 'Tuesday', 'Sunday', 'Saturday']\n",
        "age_band_opts = ['36 - 45', '26 - 35', '46 - 55', '66 - 75', '16 - 20', '56 - 65', 'Unknown',\n",
        "                 '21 - 25', 'Over 75', '11 - 15', '6 - 10', '0 - 5']\n",
        "sex_opts = ['Male', 'Female', 'Unknown']\n",
        "vehicle_type_opts = ['Bus or coach (17 or more pass seats)', 'Car', 'Motorcycle 125cc and under',\n",
        "                     'Motorcycle over 500cc','Motorcycle over 125cc and up to 500cc', 'Taxi/Private hire car',\n",
        "                     'Goods 7.5 tonnes mgw and over','Van / Goods 3.5 tonnes mgw or under', 'Motorcycle 50cc and under',\n",
        "                     'Goods over 3.5t. and under 7.5t','Minibus (8 - 16 passenger seats)', 'Other vehicle',\n",
        "                     'Agricultural vehicle', 'Pedal cycle', 'Tram','Ridden horse', 'Unknown',\n",
        "                     'Motorcycle - unknown cc', 'Mobility scooter','Goods vehicle - unknown weight', 'Electric motorcycle']\n",
        "left_drive_opts = ['No', 'Yes', 'Unknown']\n",
        "\n",
        "# === WIDGETS ===\n",
        "casualties = widgets.IntSlider(description='Casualties', min=1, max=10, value=1)\n",
        "vehicles = widgets.IntSlider(description='Vehicles', min=1, max=10, value=1)\n",
        "hour = widgets.IntSlider(description='Hour', min=0, max=23, value=12)\n",
        "month = widgets.Dropdown(description='Month', options=list(range(1, 13)), value=6)\n",
        "year = widgets.Dropdown(description='Year', options=list(range(2005, 2026)), value=2023)\n",
        "day = widgets.Dropdown(description='Day of Week', options=day_opts)\n",
        "road_type = widgets.Dropdown(description='Road Type', options=road_type_opts)\n",
        "speed_bin = widgets.Dropdown(description='Speed Bin', options=speed_opts)\n",
        "urban = widgets.Dropdown(description='Urban/Rural', options=urban_opts)\n",
        "weather = widgets.Dropdown(description='Weather', options=weather_opts)\n",
        "light = widgets.Dropdown(description='Lighting', options=light_opts)\n",
        "surface = widgets.Dropdown(description='Surface', options=surface_opts)\n",
        "season = widgets.Dropdown(description='Season', options=season_opts)\n",
        "time_of_day = widgets.Dropdown(description='Time of Day', options=time_opts)\n",
        "age_band = widgets.Dropdown(description='Driver Age', options=age_band_opts)\n",
        "sex = widgets.Dropdown(description='Sex of Driver', options=sex_opts)\n",
        "imd = widgets.FloatSlider(description='IMD Decile', min=1, max=10, step=1, value=5.0)\n",
        "vehicle_type = widgets.Dropdown(description='Vehicle Type', options=vehicle_type_opts)\n",
        "left_drive = widgets.Dropdown(description='Left-Hand Drive', options=left_drive_opts)\n",
        "vehicle_age = widgets.IntSlider(description='Vehicle Age', min=0, max=30, value=5)\n",
        "engine_cc = widgets.IntSlider(description='Engine CC', min=500, max=5000, step=100, value=1600)\n",
        "\n",
        "predict_btn = widgets.Button(description=\"🚦 Predict\", button_style='success')\n",
        "output_box = widgets.Output()\n",
        "\n",
        "# === LAYOUT ===\n",
        "form_widgets = widgets.VBox([\n",
        "    casualties, vehicles, hour, month, year, day,\n",
        "    road_type, speed_bin, urban, weather, light, surface,\n",
        "    season, time_of_day, age_band, sex, imd,\n",
        "    vehicle_type, left_drive, vehicle_age, engine_cc,\n",
        "    predict_btn, output_box\n",
        "])\n",
        "\n",
        "# === CALLBACK ===\n",
        "def on_predict_clicked(b):\n",
        "    input_data = {\n",
        "        'Number_of_Casualties': casualties.value,\n",
        "        'Number_of_Vehicles': vehicles.value,\n",
        "        'Hour': hour.value,\n",
        "        'Month': month.value,\n",
        "        'Year': year.value,\n",
        "        'Season': season.value,\n",
        "        'Time_of_Day': time_of_day.value,\n",
        "        'Urban_Rural_Label': urban.value,\n",
        "        'Speed_Bin': speed_bin.value,\n",
        "        'Weather_Label': weather.value,\n",
        "        'Light_Label': light.value,\n",
        "        'Road_Surface_Label': surface.value,\n",
        "        'Road_Type_Label': road_type.value,\n",
        "        'Day_of_Week_Label': day.value,\n",
        "        'Age_Band_of_Driver': age_band.value,\n",
        "        'Sex_of_Driver': sex.value,\n",
        "        'Vehicle_Type': vehicle_type.value,\n",
        "        'Was_Vehicle_Left_Hand_Drive': left_drive.value,\n",
        "        'Age_of_Vehicle': vehicle_age.value,\n",
        "        'Driver_IMD_Decile': imd.value,\n",
        "        'Engine_Capacity_.CC.': engine_cc.value,\n",
        "        'Vehicle_Reference': 12345\n",
        "    }\n",
        "\n",
        "    df = pd.DataFrame([input_data])\n",
        "\n",
        "    # === Apply Encoding (same as training) ===\n",
        "    for col in label_encoders:\n",
        "        if col in df.columns:\n",
        "            df[col] = label_encoders[col].transform(df[col])\n",
        "\n",
        "    df = pd.get_dummies(df, columns=onehot_encode_cols)\n",
        "\n",
        "    # Add missing columns to match training data\n",
        "    for col in X_columns:\n",
        "        if col not in df.columns:\n",
        "            df[col] = 0\n",
        "    df = df[X_columns]\n",
        "\n",
        "    # === Prediction ===\n",
        "    proba = best_xgb.predict_proba(df)[0][1]\n",
        "    threshold = 0.6\n",
        "    label = \"Severe/Fatal\" if proba >= threshold else \"Slight\"\n",
        "    emoji = \"🔴\" if label == \"Severe/Fatal\" else \"🟢\"\n",
        "    color = \"#ffdddd\" if label == \"Severe/Fatal\" else \"#ddffdd\"\n",
        "\n",
        "    with output_box:\n",
        "        clear_output()\n",
        "        display(HTML(f\"\"\"\n",
        "            <div style=\"\n",
        "                border: 2px solid #333;\n",
        "                border-radius: 10px;\n",
        "                padding: 15px;\n",
        "                background-color: {color};\n",
        "                font-family: Arial, sans-serif;\n",
        "                width: 420px;\n",
        "            \">\n",
        "                <h3 style=\"margin-top:0; color:#333;\">📊 Prediction Summary</h3>\n",
        "                <p style=\"font-size:18px; font-weight:bold;\">\n",
        "                    Label: {emoji} <span style=\"color:{'red' if label=='Severe/Fatal' else 'green'};\">{label}</span>\n",
        "                </p>\n",
        "                <p style=\"font-size:16px;\">\n",
        "                    Probability of Severe/Fatal: <b>{round(proba * 100, 2)}%</b>\n",
        "                </p>\n",
        "            </div>\n",
        "        \"\"\"))\n",
        "\n",
        "predict_btn.on_click(on_predict_clicked)\n",
        "\n",
        "# === DISPLAY ===\n",
        "display(HTML(\"<h2>🚧 Accident Severity Prediction Tool</h2>\"))\n",
        "display(form_widgets)\n",
        "\n"
      ],
      "metadata": {
        "id": "eOvQil1Ghwiy"
      },
      "execution_count": null,
      "outputs": []
    },
    {
      "cell_type": "code",
      "source": [],
      "metadata": {
        "id": "dIxaj6Xtq4UG"
      },
      "execution_count": null,
      "outputs": []
    }
  ],
  "metadata": {
    "accelerator": "GPU",
    "colab": {
      "gpuType": "T4",
      "provenance": [],
      "include_colab_link": true
    },
    "kernelspec": {
      "display_name": "Python 3",
      "name": "python3"
    },
    "language_info": {
      "name": "python"
    }
  },
  "nbformat": 4,
  "nbformat_minor": 0
}