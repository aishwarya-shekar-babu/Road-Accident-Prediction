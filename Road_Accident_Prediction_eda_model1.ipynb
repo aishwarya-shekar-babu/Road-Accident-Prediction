{
  "cells": [
    {
      "cell_type": "markdown",
      "metadata": {
        "id": "view-in-github",
        "colab_type": "text"
      },
      "source": [
        "<a href=\"https://colab.research.google.com/github/aishwarya-shekar-babu/Road-Accident-Prediction/blob/main/Road_Accident_Prediction_eda_model1.ipynb\" target=\"_parent\"><img src=\"https://colab.research.google.com/assets/colab-badge.svg\" alt=\"Open In Colab\"/></a>"
      ]
    },
    {
      "cell_type": "markdown",
      "metadata": {
        "id": "yl7Nej_si_xh"
      },
      "source": [
        "# Machine Learning Prediction of Road Accident Severity with Urban factors and Weather conditions"
      ]
    },
    {
      "cell_type": "markdown",
      "metadata": {
        "id": "YhO-8oYCjIIK"
      },
      "source": [
        "## Research question\n",
        "\n",
        "\n",
        "1.   **Research Question 1:** which machine learning approach is optimal in accurately predict the severity of UK road accidents using environmental (e.g. weather), temporal (e.g. time of day, season), spatial (e.g. urban/rural), and which features contribute most to severe outcomes?\n",
        "2.  **Research Question 2:** How do different weather conditions influence the severity of road traffic accidents, and to predict risk levels associated with specific weather categories? and which location are associated with the highest severity of accidents\n",
        "\n"
      ]
    },
    {
      "cell_type": "code",
      "execution_count": 1,
      "metadata": {
        "id": "6HtFbVoiMTES",
        "colab": {
          "base_uri": "https://localhost:8080/"
        },
        "outputId": "2dbf38a1-523c-4036-e006-557fbc7b9b31"
      },
      "outputs": [
        {
          "output_type": "stream",
          "name": "stdout",
          "text": [
            "Mounted at /content/drive\n"
          ]
        }
      ],
      "source": [
        "from google.colab import drive\n",
        "drive.mount('/content/drive')\n"
      ]
    },
    {
      "cell_type": "markdown",
      "metadata": {
        "id": "Z480R16gh_0d"
      },
      "source": [
        "# LOADING DATASET FROM GITHUB"
      ]
    },
    {
      "cell_type": "code",
      "execution_count": null,
      "metadata": {
        "id": "pSHP_P1zM4ge"
      },
      "outputs": [],
      "source": [
        "#!wget https://github.com/aishwarya-shekar-babu/Road-Accident-Prediction/raw/main/archive.zip -O /content/drive/MyDrive/RoadAccidentData/archive.zip\n"
      ]
    },
    {
      "cell_type": "code",
      "execution_count": null,
      "metadata": {
        "id": "EAaOoT4qK1lV"
      },
      "outputs": [],
      "source": [
        "#!wget https://github.com/aishwarya-shekar-babu/Road-Accident-Prediction/raw/main/archive-vehicle.zip -O /content/drive/MyDrive/RoadAccidentData/archive-vehicle.zip"
      ]
    },
    {
      "cell_type": "code",
      "execution_count": null,
      "metadata": {
        "colab": {
          "base_uri": "https://localhost:8080/"
        },
        "id": "B0yheQk8M8o_",
        "outputId": "e8c1903d-a980-4ec5-ef99-89554e8448a9"
      },
      "outputs": [
        {
          "name": "stdout",
          "output_type": "stream",
          "text": [
            "Archive:  /content/drive/MyDrive/RoadAccidentData/archive.zip\n",
            "   creating: /content/drive/MyDrive/RoadAccidentData/archive/\n",
            "  inflating: /content/drive/MyDrive/RoadAccidentData/archive/Accident_Information.csv  \n"
          ]
        }
      ],
      "source": [
        "#!unzip /content/drive/MyDrive/RoadAccidentData/archive.zip -d /content/drive/MyDrive/RoadAccidentData/"
      ]
    },
    {
      "cell_type": "code",
      "execution_count": null,
      "metadata": {
        "colab": {
          "base_uri": "https://localhost:8080/"
        },
        "id": "bzYysSdSM9VM",
        "outputId": "0f31c707-9bc7-4983-968b-0d920531ace2"
      },
      "outputs": [
        {
          "name": "stdout",
          "output_type": "stream",
          "text": [
            "Archive:  /content/drive/MyDrive/RoadAccidentData/archive-vehicle.zip\n",
            "   creating: /content/drive/MyDrive/RoadAccidentData/archive-vehicle (1)/\n",
            "  inflating: /content/drive/MyDrive/RoadAccidentData/archive-vehicle (1)/Vehicle_Information.csv  \n"
          ]
        }
      ],
      "source": [
        "#!unzip /content/drive/MyDrive/RoadAccidentData/archive-vehicle.zip -d /content/drive/MyDrive/RoadAccidentData/\n"
      ]
    },
    {
      "cell_type": "markdown",
      "metadata": {
        "id": "bSjwHQUAiOlx"
      },
      "source": [
        "# IMPORTING LIBRARIES"
      ]
    },
    {
      "cell_type": "code",
      "execution_count": 2,
      "metadata": {
        "id": "EDQQUHwGNHJt"
      },
      "outputs": [],
      "source": [
        "import pandas as pd\n",
        "import matplotlib.pyplot as plt\n",
        "import numpy as np\n",
        "import seaborn as sns\n",
        "import folium\n",
        "import pandas as pd"
      ]
    },
    {
      "cell_type": "markdown",
      "metadata": {
        "id": "63FA6GRwiWJi"
      },
      "source": [
        "# READING DATASET\n",
        "\n",
        "The dataset contains accident details .Following code is written to merge this dataset and analyse the columns to be considered for further research"
      ]
    },
    {
      "cell_type": "code",
      "execution_count": 3,
      "metadata": {
        "colab": {
          "base_uri": "https://localhost:8080/"
        },
        "id": "iV_oXa4BcQaD",
        "outputId": "56e71d16-8aa3-47f0-969f-766876a0e5e8"
      },
      "outputs": [
        {
          "output_type": "stream",
          "name": "stdout",
          "text": [
            "Index(['Accident_Index', '1st_Road_Class', '1st_Road_Number', '2nd_Road_Class',\n",
            "       '2nd_Road_Number', 'Accident_Severity', 'Carriageway_Hazards', 'Date',\n",
            "       'Day_of_Week', 'Did_Police_Officer_Attend_Scene_of_Accident',\n",
            "       'Junction_Control', 'Junction_Detail', 'Latitude', 'Light_Conditions',\n",
            "       'Local_Authority_(District)', 'Local_Authority_(Highway)',\n",
            "       'Location_Easting_OSGR', 'Location_Northing_OSGR', 'Longitude',\n",
            "       'LSOA_of_Accident_Location', 'Number_of_Casualties',\n",
            "       'Number_of_Vehicles', 'Pedestrian_Crossing-Human_Control',\n",
            "       'Pedestrian_Crossing-Physical_Facilities', 'Police_Force',\n",
            "       'Road_Surface_Conditions', 'Road_Type', 'Special_Conditions_at_Site',\n",
            "       'Speed_limit', 'Time', 'Urban_or_Rural_Area', 'Weather_Conditions',\n",
            "       'Year', 'InScotland'],\n",
            "      dtype='object')\n"
          ]
        }
      ],
      "source": [
        "# Path to your file\n",
        "as_accident_df = pd.read_csv(\n",
        "    '/content/drive/MyDrive/RoadAccidentData/archive/Accident_Information.csv',\n",
        "    encoding='ISO-8859-1',\n",
        "    dtype={'Accident_Index': str},\n",
        ")\n",
        "\n",
        "print(as_accident_df.columns)"
      ]
    },
    {
      "cell_type": "code",
      "execution_count": 4,
      "metadata": {
        "colab": {
          "base_uri": "https://localhost:8080/"
        },
        "id": "aXt6B7hCKVO2",
        "outputId": "63f359dc-85f9-478b-fdf7-74c248659b34"
      },
      "outputs": [
        {
          "output_type": "execute_result",
          "data": {
            "text/plain": [
              "(2047256, 34)"
            ]
          },
          "metadata": {},
          "execution_count": 4
        }
      ],
      "source": [
        "as_accident_df.shape"
      ]
    },
    {
      "cell_type": "code",
      "execution_count": 5,
      "metadata": {
        "colab": {
          "base_uri": "https://localhost:8080/"
        },
        "id": "SL0xEvHsJvde",
        "outputId": "00ca5a52-a368-4f3c-ad7c-88638f6c54c2"
      },
      "outputs": [
        {
          "output_type": "stream",
          "name": "stdout",
          "text": [
            "<class 'pandas.core.frame.DataFrame'>\n",
            "RangeIndex: 2047256 entries, 0 to 2047255\n",
            "Data columns (total 34 columns):\n",
            " #   Column                                       Dtype  \n",
            "---  ------                                       -----  \n",
            " 0   Accident_Index                               object \n",
            " 1   1st_Road_Class                               object \n",
            " 2   1st_Road_Number                              float64\n",
            " 3   2nd_Road_Class                               object \n",
            " 4   2nd_Road_Number                              float64\n",
            " 5   Accident_Severity                            object \n",
            " 6   Carriageway_Hazards                          object \n",
            " 7   Date                                         object \n",
            " 8   Day_of_Week                                  object \n",
            " 9   Did_Police_Officer_Attend_Scene_of_Accident  float64\n",
            " 10  Junction_Control                             object \n",
            " 11  Junction_Detail                              object \n",
            " 12  Latitude                                     float64\n",
            " 13  Light_Conditions                             object \n",
            " 14  Local_Authority_(District)                   object \n",
            " 15  Local_Authority_(Highway)                    object \n",
            " 16  Location_Easting_OSGR                        float64\n",
            " 17  Location_Northing_OSGR                       float64\n",
            " 18  Longitude                                    float64\n",
            " 19  LSOA_of_Accident_Location                    object \n",
            " 20  Number_of_Casualties                         int64  \n",
            " 21  Number_of_Vehicles                           int64  \n",
            " 22  Pedestrian_Crossing-Human_Control            float64\n",
            " 23  Pedestrian_Crossing-Physical_Facilities      float64\n",
            " 24  Police_Force                                 object \n",
            " 25  Road_Surface_Conditions                      object \n",
            " 26  Road_Type                                    object \n",
            " 27  Special_Conditions_at_Site                   object \n",
            " 28  Speed_limit                                  float64\n",
            " 29  Time                                         object \n",
            " 30  Urban_or_Rural_Area                          object \n",
            " 31  Weather_Conditions                           object \n",
            " 32  Year                                         int64  \n",
            " 33  InScotland                                   object \n",
            "dtypes: float64(10), int64(3), object(21)\n",
            "memory usage: 531.1+ MB\n"
          ]
        }
      ],
      "source": [
        "as_accident_df.info()"
      ]
    },
    {
      "cell_type": "code",
      "execution_count": 6,
      "metadata": {
        "colab": {
          "base_uri": "https://localhost:8080/"
        },
        "id": "JjDQ_Tp2RDPP",
        "outputId": "e0ccff1a-5565-4413-975f-1e374c291a38"
      },
      "outputs": [
        {
          "output_type": "execute_result",
          "data": {
            "text/plain": [
              "(2047256, 34)"
            ]
          },
          "metadata": {},
          "execution_count": 6
        }
      ],
      "source": [
        "as_accident_df.shape"
      ]
    },
    {
      "cell_type": "markdown",
      "source": [
        "# Data cleaning and preprocessing"
      ],
      "metadata": {
        "id": "PX7BK5vrb9tn"
      }
    },
    {
      "cell_type": "markdown",
      "source": [
        "## To check missing counts per column"
      ],
      "metadata": {
        "id": "ch7ozdDGZlYP"
      }
    },
    {
      "cell_type": "code",
      "execution_count": 7,
      "metadata": {
        "colab": {
          "base_uri": "https://localhost:8080/"
        },
        "id": "BsaABKJNRspi",
        "outputId": "cb6dd85e-de03-45f5-b3c5-25adfe716062"
      },
      "outputs": [
        {
          "output_type": "stream",
          "name": "stdout",
          "text": [
            "Missing counts per column:\n",
            "Carriageway_Hazards                            2007807\n",
            "Special_Conditions_at_Site                     1995137\n",
            "2nd_Road_Class                                  844272\n",
            "LSOA_of_Accident_Location                       144953\n",
            "2nd_Road_Number                                  17593\n",
            "Pedestrian_Crossing-Physical_Facilities           3560\n",
            "Pedestrian_Crossing-Human_Control                 2920\n",
            "Did_Police_Officer_Attend_Scene_of_Accident        278\n",
            "Longitude                                          175\n",
            "Latitude                                           174\n",
            "Location_Easting_OSGR                              164\n",
            "Location_Northing_OSGR                             164\n",
            "Time                                               156\n",
            "InScotland                                          53\n",
            "Speed_limit                                         37\n",
            "1st_Road_Number                                      2\n",
            "1st_Road_Class                                       0\n",
            "Accident_Index                                       0\n",
            "Local_Authority_(District)                           0\n",
            "Local_Authority_(Highway)                            0\n",
            "Junction_Detail                                      0\n",
            "Light_Conditions                                     0\n",
            "Junction_Control                                     0\n",
            "Accident_Severity                                    0\n",
            "Date                                                 0\n",
            "Day_of_Week                                          0\n",
            "Road_Surface_Conditions                              0\n",
            "Police_Force                                         0\n",
            "Number_of_Casualties                                 0\n",
            "Number_of_Vehicles                                   0\n",
            "Road_Type                                            0\n",
            "Urban_or_Rural_Area                                  0\n",
            "Weather_Conditions                                   0\n",
            "Year                                                 0\n",
            "dtype: int64\n",
            "\n",
            "Missing percentages per column:\n",
            "Carriageway_Hazards                            98.073079\n",
            "Special_Conditions_at_Site                     97.454202\n",
            "2nd_Road_Class                                 41.239200\n",
            "LSOA_of_Accident_Location                       7.080355\n",
            "2nd_Road_Number                                 0.859345\n",
            "Pedestrian_Crossing-Physical_Facilities         0.173891\n",
            "Pedestrian_Crossing-Human_Control               0.142630\n",
            "Did_Police_Officer_Attend_Scene_of_Accident     0.013579\n",
            "Longitude                                       0.008548\n",
            "Latitude                                        0.008499\n",
            "Location_Easting_OSGR                           0.008011\n",
            "Location_Northing_OSGR                          0.008011\n",
            "Time                                            0.007620\n",
            "InScotland                                      0.002589\n",
            "Speed_limit                                     0.001807\n",
            "1st_Road_Number                                 0.000098\n",
            "1st_Road_Class                                  0.000000\n",
            "Accident_Index                                  0.000000\n",
            "Local_Authority_(District)                      0.000000\n",
            "Local_Authority_(Highway)                       0.000000\n",
            "Junction_Detail                                 0.000000\n",
            "Light_Conditions                                0.000000\n",
            "Junction_Control                                0.000000\n",
            "Accident_Severity                               0.000000\n",
            "Date                                            0.000000\n",
            "Day_of_Week                                     0.000000\n",
            "Road_Surface_Conditions                         0.000000\n",
            "Police_Force                                    0.000000\n",
            "Number_of_Casualties                            0.000000\n",
            "Number_of_Vehicles                              0.000000\n",
            "Road_Type                                       0.000000\n",
            "Urban_or_Rural_Area                             0.000000\n",
            "Weather_Conditions                              0.000000\n",
            "Year                                            0.000000\n",
            "dtype: float64\n"
          ]
        }
      ],
      "source": [
        "#  Missing counts per column and it displays in ascending order\n",
        "missing_counts = as_accident_df.isna().sum().sort_values(ascending=False)\n",
        "print(\"Missing counts per column:\")\n",
        "print(missing_counts)\n",
        "\n",
        "# 2. Missing values in percentage\n",
        "missing_pct = (missing_counts / len(as_accident_df) * 100).sort_values(ascending=False)\n",
        "print(\"\\nMissing percentages per column:\")\n",
        "print(missing_pct)\n"
      ]
    },
    {
      "cell_type": "code",
      "source": [],
      "metadata": {
        "id": "Leykv-wwZs3W"
      },
      "execution_count": null,
      "outputs": []
    },
    {
      "cell_type": "markdown",
      "source": [
        "## Dropping unwanted columns and which has more missing values\n",
        "\n",
        "\n",
        "\n",
        "*   Any column that has more than 40% data missing dropping columns\n",
        "\n",
        "*   Dropping columns which are not necsaary for further analysis\n",
        "\n",
        "\n",
        "\n",
        "\n"
      ],
      "metadata": {
        "id": "dREpS5YtZzg1"
      }
    },
    {
      "cell_type": "code",
      "execution_count": 8,
      "metadata": {
        "colab": {
          "base_uri": "https://localhost:8080/"
        },
        "id": "YSVZ9u2gR7Jn",
        "outputId": "01ea337e-4606-49f6-80a3-8c7888b66fc4"
      },
      "outputs": [
        {
          "output_type": "stream",
          "name": "stdout",
          "text": [
            "Remaining columns: ['Accident_Severity', 'Date', 'Day_of_Week', 'Latitude', 'Light_Conditions', 'Local_Authority_(District)', 'Location_Easting_OSGR', 'Location_Northing_OSGR', 'Longitude', 'LSOA_of_Accident_Location', 'Number_of_Casualties', 'Number_of_Vehicles', 'Police_Force', 'Road_Surface_Conditions', 'Road_Type', 'Speed_limit', 'Time', 'Urban_or_Rural_Area', 'Weather_Conditions', 'Year', 'InScotland']\n",
            "New shape: (2047256, 21)\n"
          ]
        }
      ],
      "source": [
        "# listing the columns to be dropped\n",
        "cols_to_drop = [\n",
        "    'Accident_Index',\n",
        "    '1st_Road_Class',\n",
        "    '1st_Road_Number',\n",
        "    '2nd_Road_Class',\n",
        "    '2nd_Road_Number',\n",
        "    'Carriageway_Hazards',\n",
        "    'Did_Police_Officer_Attend_Scene_of_Accident',\n",
        "    'Junction_Control',\n",
        "    'Junction_Detail',\n",
        "    'Local_Authority_(Highway)',\n",
        "    'Pedestrian_Crossing-Human_Control',\n",
        "    'Pedestrian_Crossing-Physical_Facilities',\n",
        "    'Special_Conditions_at_Site',\n",
        "]\n",
        "\n",
        "# Drop them in one go:\n",
        "as_accident_df = as_accident_df.drop(columns=cols_to_drop, errors='ignore')\n",
        "\n",
        "print(\"Remaining columns:\", as_accident_df.columns.tolist())\n",
        "print(\"New shape:\", as_accident_df.shape)\n"
      ]
    },
    {
      "cell_type": "code",
      "source": [],
      "metadata": {
        "id": "o9WOIxOwasCx"
      },
      "execution_count": null,
      "outputs": []
    },
    {
      "cell_type": "markdown",
      "source": [
        "## Subsetting further to filter the columns\n",
        "\n",
        "The columns are filtered further be proceeding with the modelling"
      ],
      "metadata": {
        "id": "Eb5Lrv_Tav2x"
      }
    },
    {
      "cell_type": "code",
      "execution_count": 9,
      "metadata": {
        "colab": {
          "base_uri": "https://localhost:8080/"
        },
        "id": "tKDw4OX0tAo9",
        "outputId": "73810ed3-b8ef-4dc4-cd13-219705c1dc58"
      },
      "outputs": [
        {
          "output_type": "stream",
          "name": "stdout",
          "text": [
            "After subsetting: (2047256, 18)\n"
          ]
        }
      ],
      "source": [
        "as_cols = [\n",
        "    'Accident_Severity','Date','Time','Latitude','Longitude',\n",
        "    'Local_Authority_(District)','LSOA_of_Accident_Location','Urban_or_Rural_Area',\n",
        "    'Road_Surface_Conditions','Road_Type','Speed_limit','Weather_Conditions',\n",
        "    'Light_Conditions','Number_of_Casualties','Number_of_Vehicles',\n",
        "    'Police_Force','Day_of_Week','InScotland'\n",
        "]\n",
        "as_accident_level = as_accident_df[as_cols].copy()\n",
        "print(\"After subsetting:\", as_accident_level.shape)"
      ]
    },
    {
      "cell_type": "code",
      "source": [],
      "metadata": {
        "id": "Pb-kLOcFa53-"
      },
      "execution_count": null,
      "outputs": []
    },
    {
      "cell_type": "markdown",
      "source": [
        "## To find the hidden null values\n",
        "Null values always need not be **NaN**,usually in categorical columns and data missing could also be representd as Data out of Range or unalloacted string,to identify if there is such ourrances checking the unqiue values"
      ],
      "metadata": {
        "id": "biZ2lCMFa6uw"
      }
    },
    {
      "cell_type": "code",
      "execution_count": 10,
      "metadata": {
        "colab": {
          "base_uri": "https://localhost:8080/"
        },
        "id": "MNsmSK7fvw66",
        "outputId": "72d02934-92bf-41a5-9204-749542494577"
      },
      "outputs": [
        {
          "output_type": "stream",
          "name": "stdout",
          "text": [
            "Unique values in Urban_or_Rural_Area:\n",
            "Urban_or_Rural_Area\n",
            "Urban          1322339\n",
            "Rural           724757\n",
            "Unallocated        160\n",
            "Name: count, dtype: int64\n",
            "\n",
            "Unique values in Weather_Conditions:\n",
            "Weather_Conditions\n",
            "Fine no high winds              1640095\n",
            "Raining no high winds            239281\n",
            "Other                             44083\n",
            "Unknown                           42521\n",
            "Raining + high winds              28343\n",
            "Fine + high winds                 25816\n",
            "Snowing no high winds             13387\n",
            "Fog or mist                       11068\n",
            "Snowing + high winds               2487\n",
            "Data missing or out of range        175\n",
            "Name: count, dtype: int64\n"
          ]
        }
      ],
      "source": [
        "# 1. Unique values in Urban_or_Rural_Area\n",
        "print(\"Unique values in Urban_or_Rural_Area:\")\n",
        "print(as_accident_level['Urban_or_Rural_Area'].value_counts(dropna=False))\n",
        "\n",
        "# 2. Unique values in Weather_Conditions\n",
        "print(\"\\nUnique values in Weather_Conditions:\")\n",
        "print(as_accident_level['Weather_Conditions'].value_counts(dropna=False))"
      ]
    },
    {
      "cell_type": "code",
      "execution_count": 11,
      "metadata": {
        "colab": {
          "base_uri": "https://localhost:8080/"
        },
        "id": "05ux79X_v2Kz",
        "outputId": "43b97cd3-bd8b-45ff-dfa3-e3d4d08eb630"
      },
      "outputs": [
        {
          "output_type": "stream",
          "name": "stdout",
          "text": [
            "Column: Accident_Severity\n",
            "  (3 unique values) → ['Serious' 'Slight' 'Fatal']\n",
            "\n",
            "Column: Date\n",
            "  (4748 unique values) → ['2005-01-04' '2005-01-05' '2005-01-06' ... '2017-12-28' '2017-12-29'\n",
            " '2017-12-30']\n",
            "\n",
            "Column: Time\n",
            "  (1440 unique values) → ['17:42' '17:36' '00:15' ... '05:57' '04:26' '01:57']\n",
            "\n",
            "Column: Local_Authority_(District)\n",
            "  (416 unique values) → ['Kensington and Chelsea' 'Westminster' 'Hammersmith and Fulham'\n",
            " 'City of London' 'Tower Hamlets' 'Southwark' 'Hackney' 'Islington'\n",
            " 'Camden' 'Lambeth' 'Brent' 'Haringey' 'Barnet' 'Ealing'\n",
            " 'Richmond upon Thames' 'Waltham Forest' 'Newham'\n",
            " 'London Airport (Heathrow)' 'Hillingdon' 'Harrow' 'Hounslow' 'Enfield'\n",
            " 'Redbridge' 'Barking and Dagenham' 'Havering' 'Croydon' 'Wandsworth'\n",
            " 'Sutton' 'Lewisham' 'Bromley' 'Greenwich' 'Bexley' 'Kingston upon Thames'\n",
            " 'Merton' 'South Lakeland' 'Barrow-in-Furness' 'Carlisle' 'Eden'\n",
            " 'Allerdale' 'Copeland' 'Blackpool' 'Fylde' 'Lancaster'\n",
            " 'Blackburn with Darwen' 'Preston' 'Wyre' 'South Ribble' 'West Lancashire'\n",
            " 'Chorley' 'Hyndburn' 'Ribble Valley' 'Pendle' 'Rossendale' 'Burnley'\n",
            " 'Wirral' 'Sefton' 'Liverpool' 'Knowsley' 'St. Helens' 'Manchester'\n",
            " 'Oldham' 'Salford' 'Bury' 'Rochdale' 'Trafford' 'Tameside' 'Stockport'\n",
            " 'Wigan' 'Bolton' 'Chester' 'Warrington' 'Halton' 'Macclesfield'\n",
            " 'Crewe and Nantwich' 'Ellesmere Port and Neston' 'Vale Royal' 'Congleton'\n",
            " 'Newcastle upon Tyne' 'Sunderland' 'North Tyneside' 'Alnwick' 'Wansbeck'\n",
            " 'Blyth Valley' 'Gateshead' 'South Tyneside' 'Tynedale' 'Castle Morpeth'\n",
            " 'Berwick-upon-Tweed' 'Wear Valley' 'Sedgefield' 'Durham' 'Easington'\n",
            " 'Chester-le-Street' 'Derwentside' 'Teesdale' 'Darlington' 'York'\n",
            " 'Scarborough' 'Craven' 'Selby' 'Harrogate' 'Hambleton' 'Richmondshire'\n",
            " 'Ryedale' 'Leeds' 'Calderdale' 'Bradford' 'Kirklees' 'Wakefield'\n",
            " 'Doncaster' 'Rotherham' 'Barnsley' 'Sheffield' 'North East Lincolnshire'\n",
            " 'North Lincolnshire' 'East Riding of Yorkshire'\n",
            " 'Kingston upon Hull, City of' 'Hartlepool' 'Redcar and Cleveland'\n",
            " 'Middlesbrough' 'Stockton-on-Tees' 'Birmingham' 'Wolverhampton' 'Walsall'\n",
            " 'Dudley' 'Sandwell' 'Solihull' 'Coventry' 'Stoke-on-Trent' 'Stafford'\n",
            " 'Staffordshire Moorlands' 'Newcastle-under-Lyme' 'East Staffordshire'\n",
            " 'Cannock Chase' 'South Staffordshire' 'Lichfield' 'Tamworth' 'Worcester'\n",
            " 'Wychavon' 'Malvern Hills' 'Wyre Forest' 'Bromsgrove' 'Redditch'\n",
            " 'Bridgnorth' 'Herefordshire, County of' 'Shrewsbury and Atcham'\n",
            " 'North Shropshire' 'Oswestry' 'South Shropshire' 'Telford and Wrekin'\n",
            " 'Stratford-upon-Avon' 'Warwick' 'Rugby' 'North Warwickshire'\n",
            " 'Nuneaton and Bedworth' 'Erewash' 'Amber Valley' 'Bolsover'\n",
            " 'Derbyshire Dales' 'High Peak' 'North East Derbyshire' 'Chesterfield'\n",
            " 'South Derbyshire' 'Derby' 'Mansfield' 'Ashfield' 'Newark and Sherwood'\n",
            " 'Bassetlaw' 'Rushcliffe' 'Nottingham' 'Broxtowe' 'Gedling'\n",
            " 'South Holland' 'South Kesteven' 'North Kesteven' 'East Lindsey'\n",
            " 'West Lindsey' 'Boston' 'Lincoln' 'Leicester' 'Harborough' 'Charnwood'\n",
            " 'North West Leicestershire' 'Rutland' 'Blaby' 'Hinckley and Bosworth'\n",
            " 'Oadby and Wigston' 'Melton' 'Kettering' 'Corby' 'East Northamptonshire'\n",
            " 'Daventry' 'Northampton' 'South Northamptonshire' 'Wellingborough'\n",
            " 'South Cambridgeshire' 'Cambridge' 'Huntingdonshire' 'Peterborough'\n",
            " 'East Cambridgeshire' 'Fenland' 'Breckland'\n",
            " \"King's Lynn and West Norfolk\" 'Great Yarmouth' 'Broadland'\n",
            " 'North Norfolk' 'Norwich' 'South Norfolk' 'Suffolk Coastal'\n",
            " 'St. Edmundsbury' 'Ipswich' 'Forest Heath' 'Mid Suffolk' 'Babergh'\n",
            " 'Waveney' 'Bedford' 'Mid Bedfordshire' 'Luton' 'South Bedfordshire'\n",
            " 'East Hertfordshire' 'North Hertfordshire' 'Welwyn Hatfield' 'Broxbourne'\n",
            " 'St. Albans' 'Watford' 'Three Rivers' 'Hertsmere' 'Dacorum' 'Stevenage'\n",
            " 'Uttlesford' 'Braintree' 'Colchester' 'Epping Forest' 'Chelmsford'\n",
            " 'Harlow' 'Basildon' 'Thurrock' 'Brentwood' 'Maldon' 'Tendring'\n",
            " 'Southend-on-Sea' 'Rochford' 'Castle Point' 'Aylesbury Vale' 'Wycombe'\n",
            " 'South Bucks' 'Milton Keynes' 'Chiltern' 'Slough' 'Cherwell'\n",
            " 'South Oxfordshire' 'Windsor and Maidenhead' 'Vale of White Horse'\n",
            " 'West Oxfordshire' 'Oxford' 'West Berkshire' 'Wokingham' 'Reading'\n",
            " 'Bracknell Forest' 'Isle of Wight' 'Southampton' 'East Hampshire'\n",
            " 'Havant' 'Gosport' 'Fareham' 'Winchester' 'Hart' 'Eastleigh'\n",
            " 'Basingstoke and Deane' 'New Forest' 'Portsmouth' 'Test Valley'\n",
            " 'Rushmoor' 'Elmbridge' 'Runnymede' 'Guildford' 'Mole Valley' 'Spelthorne'\n",
            " 'Epsom and Ewell' 'Reigate and Banstead' 'Woking' 'Waverley'\n",
            " 'Surrey Heath' 'Tandridge' 'Medway' 'Dartford' 'Gravesham' 'Sevenoaks'\n",
            " 'Dover' 'Shepway' 'Ashford' 'Thanet' 'Canterbury' 'Tunbridge Wells'\n",
            " 'Swale' 'Tonbridge and Malling' 'Maidstone' 'Brighton and Hove' 'Wealden'\n",
            " 'Mid Sussex' 'Eastbourne' 'Lewes' 'Chichester' 'Rother' 'Hastings'\n",
            " 'Crawley' 'Horsham' 'Worthing' 'Arun' 'Adur' 'Kerrier' 'Carrick'\n",
            " 'Penwith' 'Restormel' 'North Cornwall' 'West Devon' 'Torridge' 'Caradon'\n",
            " 'North Devon' 'Exeter' 'East Devon' 'Teignbridge' 'Mid Devon' 'Plymouth'\n",
            " 'South Hams' 'Torbay' 'Bristol, City of' 'Bath and North East Somerset'\n",
            " 'Sedgemoor' 'Mendip' 'South Gloucestershire' 'South Somerset'\n",
            " 'West Somerset' 'Taunton Deane' 'North Somerset' 'Stroud' 'Tewkesbury'\n",
            " 'Cheltenham' 'Gloucester' 'Forest of Dean' 'Cotswold' 'Salisbury'\n",
            " 'Kennet' 'West Wiltshire' 'North Wiltshire' 'Swindon' 'Bournemouth'\n",
            " 'Poole' 'Christchurch' 'East Dorset' 'North Dorset' 'Purbeck'\n",
            " 'West Dorset' 'Weymouth and Portland' 'Isle of Anglesey' 'Conwy'\n",
            " 'Gwynedd' 'Denbighshire' 'Flintshire' 'Wrexham' 'Caerphilly'\n",
            " 'Blaenau Gwent' 'Newport' 'Torfaen' 'Monmouthshire' 'Swansea'\n",
            " 'Merthyr Tydfil' 'Neath Port Talbot' 'Bridgend' 'Cardiff'\n",
            " 'The Vale of Glamorgan' 'Rhondda, Cynon, Taff' 'Carmarthenshire'\n",
            " 'Ceredigion' 'Pembrokeshire' 'Powys' 'Highland' 'Western Isles'\n",
            " 'Orkney Islands' 'Shetland Islands' 'Aberdeen City' 'Moray'\n",
            " 'Aberdeenshire' 'Perth and Kinross' 'Dundee City' 'Angus' 'Fife'\n",
            " 'Edinburgh, City of' 'Scottish Borders' 'West Lothian' 'Midlothian'\n",
            " 'East Lothian' 'Falkirk' 'Stirling' 'Clackmannanshire' 'Glasgow City'\n",
            " 'East Dunbartonshire' 'East Renfrewshire' 'Renfrewshire' 'Inverclyde'\n",
            " 'Argyll and Bute' 'West Dunbartonshire' 'North Lanarkshire'\n",
            " 'South Lanarkshire' 'North Ayrshire' 'East Ayrshire' 'South Ayrshire'\n",
            " 'Dumfries and Galloway' 'Cheshire East' 'Cheshire West and Chester'\n",
            " 'Northumberland' 'County Durham' 'Shropshire' 'Central Bedfordshire'\n",
            " 'Cornwall' 'Wiltshire']\n",
            "\n",
            "Column: LSOA_of_Accident_Location\n",
            "  (35565 unique values) → ['E01002849' 'E01002909' 'E01002857' ... 'E01032883' 'E01032678'\n",
            " 'E01032701']\n",
            "\n",
            "Column: Urban_or_Rural_Area\n",
            "  (3 unique values) → ['Urban' 'Rural' 'Unallocated']\n",
            "\n",
            "Column: Road_Surface_Conditions\n",
            "  (6 unique values) → ['Wet or damp' 'Dry' 'Frost or ice' 'Snow' 'Flood over 3cm. deep'\n",
            " 'Data missing or out of range']\n",
            "\n",
            "Column: Road_Type\n",
            "  (7 unique values) → ['Single carriageway' 'Dual carriageway' 'One way street' 'Roundabout'\n",
            " 'Slip road' 'Unknown' 'Data missing or out of range']\n",
            "\n",
            "Column: Weather_Conditions\n",
            "  (10 unique values) → ['Raining no high winds' 'Fine no high winds' 'Unknown'\n",
            " 'Snowing no high winds' 'Other' 'Fine + high winds'\n",
            " 'Raining + high winds' 'Fog or mist' 'Snowing + high winds'\n",
            " 'Data missing or out of range']\n",
            "\n",
            "Column: Light_Conditions\n",
            "  (6 unique values) → ['Daylight' 'Darkness - lights lit' 'Darkness - lighting unknown'\n",
            " 'Darkness - lights unlit' 'Darkness - no lighting'\n",
            " 'Data missing or out of range']\n",
            "\n",
            "Column: Police_Force\n",
            "  (51 unique values) → ['Metropolitan Police' 'City of London' 'Cumbria' 'Lancashire'\n",
            " 'Merseyside' 'Greater Manchester' 'Cheshire' 'Northumbria' 'Durham'\n",
            " 'North Yorkshire' 'West Yorkshire' 'South Yorkshire' 'Humberside'\n",
            " 'Cleveland' 'West Midlands' 'Staffordshire' 'West Mercia' 'Warwickshire'\n",
            " 'Derbyshire' 'Nottinghamshire' 'Lincolnshire' 'Leicestershire'\n",
            " 'Northamptonshire' 'Cambridgeshire' 'Norfolk' 'Suffolk' 'Bedfordshire'\n",
            " 'Hertfordshire' 'Essex' 'Thames Valley' 'Hampshire' 'Surrey' 'Kent'\n",
            " 'Sussex' 'Devon and Cornwall' 'Avon and Somerset' 'Gloucestershire'\n",
            " 'Wiltshire' 'Dorset' 'North Wales' 'Gwent' 'South Wales' 'Dyfed-Powys'\n",
            " 'Northern' 'Grampian' 'Tayside' 'Fife' 'Lothian and Borders' 'Central'\n",
            " 'Strathclyde' 'Dumfries and Galloway']\n",
            "\n",
            "Column: Day_of_Week\n",
            "  (7 unique values) → ['Tuesday' 'Wednesday' 'Thursday' 'Friday' 'Monday' 'Saturday' 'Sunday']\n",
            "\n",
            "Column: InScotland\n",
            "  (3 unique values) → ['No' 'Yes' nan]\n",
            "\n"
          ]
        }
      ],
      "source": [
        "# 1. Identify all object‐ or category‐dtype columns\n",
        "cat_cols = as_accident_level.select_dtypes(include=['object', 'category']).columns.tolist()\n",
        "\n",
        "# 2. Loop through and print unique values for each\n",
        "for col in cat_cols:\n",
        "    unique_vals = as_accident_level[col].unique()\n",
        "    print(f\"Column: {col}\")\n",
        "    print(f\"  ({len(unique_vals)} unique values) → {unique_vals}\\n\")\n"
      ]
    },
    {
      "cell_type": "code",
      "execution_count": 12,
      "metadata": {
        "colab": {
          "base_uri": "https://localhost:8080/"
        },
        "id": "hyjxZ8GSv9BE",
        "outputId": "00826d5d-897b-4d96-94b1-0af7eb75e840"
      },
      "outputs": [
        {
          "output_type": "execute_result",
          "data": {
            "text/plain": [
              "(2047256, 18)"
            ]
          },
          "metadata": {},
          "execution_count": 12
        }
      ],
      "source": [
        "as_accident_level.shape"
      ]
    },
    {
      "cell_type": "code",
      "source": [],
      "metadata": {
        "id": "GSLfawBfbUUI"
      },
      "execution_count": null,
      "outputs": []
    },
    {
      "cell_type": "markdown",
      "source": [
        "## Handling missing values and duplicate data\n",
        "\n",
        "\n",
        "*   Dropping most of missing values rows might lead to data loss\n",
        "*   Other popular ways to handle missing values is imputing values or replacing with unkown parameter\n",
        "\n",
        "\n",
        "*   While handling the missing values its necessary to also check if the datatype allocated is right its also part of data cleaning and preprocessing\n",
        "*   There might be columns which is representing data with same details which would be redudant\n",
        "\n",
        "\n",
        "\n"
      ],
      "metadata": {
        "id": "28VNysBXbWJo"
      }
    },
    {
      "cell_type": "code",
      "execution_count": 13,
      "metadata": {
        "id": "dpiXkCnwwBy-"
      },
      "outputs": [],
      "source": [
        "# 2.3 Fill missing Time with \"00:00\"\n",
        "as_accident_level['Time'] = as_accident_level['Time'].fillna('00:00')\n",
        "\n",
        "# 1) First, coerce Latitude/Longitude to numeric (so any non-numeric becomes NaN)\n",
        "as_accident_level['Latitude'] = pd.to_numeric(\n",
        "    as_accident_level['Latitude'], errors='coerce'\n",
        ")\n",
        "as_accident_level['Longitude'] = pd.to_numeric(\n",
        "    as_accident_level['Longitude'], errors='coerce'\n",
        ")\n",
        "\n",
        "# 2) Now drop any row where either is NaN\n",
        "before = as_accident_level.shape[0]\n",
        "as_accident_level = as_accident_level.dropna(\n",
        "    subset=['Latitude','Longitude'], how='any'\n",
        ")"
      ]
    },
    {
      "cell_type": "code",
      "execution_count": 14,
      "metadata": {
        "id": "wb9LTcCawJdz"
      },
      "outputs": [],
      "source": [
        "# 2.5 Drop OS grid columns entirely\n",
        "as_accident_level = as_accident_level.drop(columns=['Location_Easting_OSGR', 'Location_Northing_OSGR'], errors='ignore')\n",
        "\n",
        "# 2.6 Fill missing Speed_limit with -1\n",
        "as_accident_level['Speed_limit'] = as_accident_level['Speed_limit'].fillna(-1)\n",
        "\n",
        "# 2.10 Fill missing Number_of_Casualties / Number_of_Vehicles with 0\n",
        "as_accident_level['Number_of_Casualties'] = \\\n",
        "    as_accident_level['Number_of_Casualties'].fillna(0).astype(int)\n",
        "as_accident_level['Number_of_Vehicles']   = \\\n",
        "    as_accident_level['Number_of_Vehicles'].fillna(0).astype(int)"
      ]
    },
    {
      "cell_type": "code",
      "execution_count": 15,
      "metadata": {
        "id": "JDLfk3jVwSiV"
      },
      "outputs": [],
      "source": [
        "# 2.7 Fill missing InScotland with \"Unknown\"\n",
        "as_accident_level['InScotland'] = as_accident_level['InScotland'].fillna('Unknown').astype(str).str.strip()\n",
        "\n",
        "# 2.8 Fill missing LSOA_of_Accident_Location (~7%) with \"Unknown\"\n",
        "as_accident_level['LSOA_of_Accident_Location'] = (\n",
        "    as_accident_level['LSOA_of_Accident_Location']\n",
        "    .fillna('Unknown')\n",
        "    .astype(str)\n",
        "    .str.strip()\n",
        ")"
      ]
    },
    {
      "cell_type": "code",
      "execution_count": 16,
      "metadata": {
        "colab": {
          "base_uri": "https://localhost:8080/"
        },
        "id": "QtX3OKHYwan8",
        "outputId": "a665a38d-69ee-467a-a272-33653d702cdb"
      },
      "outputs": [
        {
          "output_type": "stream",
          "name": "stdout",
          "text": [
            "Before date parsing, rows: 2047081\n",
            "Dropped 0 rows where Date parse failed\n",
            "After date parsing, rows: 2047081\n"
          ]
        }
      ],
      "source": [
        "# 2.9 Fill all remaining categorical columns with \"Unknown\" if missing\n",
        "for col in [\n",
        "    'Local_Authority_(District)',\n",
        "    'Urban_or_Rural_Area',\n",
        "    'Road_Surface_Conditions',\n",
        "    'Road_Type',\n",
        "    'Weather_Conditions',\n",
        "    'Light_Conditions',\n",
        "    'Day_of_Week',\n",
        "    'Police_Force'\n",
        "]:\n",
        "    as_accident_level[col] = as_accident_level[col].fillna('Unknown').astype(str).str.strip()\n",
        "\n",
        "\n",
        "# 2.11 PARSE DATE into datetime, letting pandas infer format (no explicit format string):\n",
        "print(\"Before date parsing, rows:\", as_accident_level.shape[0])\n",
        "as_accident_level['Date_dt'] = pd.to_datetime(as_accident_level['Date'], errors='coerce')\n",
        "# Drop any rows where date parse failed—should be very few if any\n",
        "before_drop_date = as_accident_level.shape[0]\n",
        "as_accident_level = as_accident_level.dropna(subset=['Date_dt'])\n",
        "print(\"Dropped\", before_drop_date - as_accident_level.shape[0], \"rows where Date parse failed\")\n",
        "print(\"After date parsing, rows:\", as_accident_level.shape[0])\n",
        "\n",
        "\n",
        "\n"
      ]
    },
    {
      "cell_type": "markdown",
      "source": [
        "# FEATURE ENGINNERING\n"
      ],
      "metadata": {
        "id": "5VDFed6vcnpr"
      }
    },
    {
      "cell_type": "markdown",
      "source": [
        "## Obtaining temporal features"
      ],
      "metadata": {
        "id": "R8N_Mmy0lUPi"
      }
    },
    {
      "cell_type": "code",
      "execution_count": 17,
      "metadata": {
        "id": "gtZ6aHzmw3ul"
      },
      "outputs": [],
      "source": [
        "\n",
        "# 3.1 TEMPORAL FEATURES\n",
        "as_accident_level['Hour'] = pd.to_datetime(\n",
        "    as_accident_level['Date'] + ' ' + as_accident_level['Time'],\n",
        "    format='%Y-%m-%d %H:%M',  # Time string already \"HH:MM\", Date \"YYYY-MM-DD\"\n",
        "    errors='coerce'\n",
        ").dt.hour\n",
        "\n",
        "# If any Hour parse failed (unlikely), fill with median\n",
        "as_accident_level['Hour'] = as_accident_level['Hour'].fillna(as_accident_level['Hour'].median()).astype(int)\n",
        "\n",
        "# Weekday and Month from Date_dt\n",
        "as_accident_level['Weekday_Num'] = as_accident_level['Date_dt'].dt.dayofweek\n",
        "as_accident_level['Month']       = as_accident_level['Date_dt'].dt.month\n",
        "\n",
        "# 5.8 DAY OF WEEK: Day_of_Week_Label from Date_dt (ignore original Day_of_Week)\n",
        "as_accident_level['Day_of_Week_Label'] = as_accident_level['Date_dt'].dt.day_name()\n",
        "\n",
        "# Assuming 'Date_dt' is your datetime column\n",
        "as_accident_level['Year'] = as_accident_level['Date_dt'].dt.year\n",
        "\n",
        "# Season from Month\n",
        "def month_to_season(m):\n",
        "    if m in [12, 1, 2]:\n",
        "        return 'Winter'\n",
        "    elif m in [3, 4, 5]:\n",
        "        return 'Spring'\n",
        "    elif m in [6, 7, 8]:\n",
        "        return 'Summer'\n",
        "    else:\n",
        "        return 'Autumn'\n",
        "as_accident_level['Season'] = as_accident_level['Month'].apply(month_to_season)\n",
        "\n",
        "# Time_of_Day from Hour\n",
        "def time_of_day(h):\n",
        "    if pd.isna(h):\n",
        "        return 'Unknown'\n",
        "    if h < 6:\n",
        "        return 'Late_Night'\n",
        "    elif h < 9:\n",
        "        return 'Morning_Peak'\n",
        "    elif h < 16:\n",
        "        return 'Daytime'\n",
        "    elif h < 19:\n",
        "        return 'Evening_Peak'\n",
        "    else:\n",
        "        return 'Night'\n",
        "as_accident_level['Time_of_Day'] = as_accident_level['Hour'].apply(time_of_day)\n",
        "\n"
      ]
    },
    {
      "cell_type": "code",
      "execution_count": 18,
      "metadata": {
        "colab": {
          "base_uri": "https://localhost:8080/",
          "height": 342
        },
        "id": "_JNACpFaxVdP",
        "outputId": "8d295e19-4733-4bb3-a81f-c284e4c16069"
      },
      "outputs": [
        {
          "output_type": "execute_result",
          "data": {
            "text/plain": [
              "  Accident_Severity        Date   Time   Latitude  Longitude  \\\n",
              "0           Serious  2005-01-04  17:42  51.489096  -0.191170   \n",
              "1            Slight  2005-01-05  17:36  51.520075  -0.211708   \n",
              "2            Slight  2005-01-06  00:15  51.525301  -0.206458   \n",
              "3            Slight  2005-01-07  10:35  51.482442  -0.173862   \n",
              "4            Slight  2005-01-10  21:13  51.495752  -0.156618   \n",
              "\n",
              "  Local_Authority_(District) LSOA_of_Accident_Location Urban_or_Rural_Area  \\\n",
              "0     Kensington and Chelsea                 E01002849               Urban   \n",
              "1     Kensington and Chelsea                 E01002909               Urban   \n",
              "2     Kensington and Chelsea                 E01002857               Urban   \n",
              "3     Kensington and Chelsea                 E01002840               Urban   \n",
              "4     Kensington and Chelsea                 E01002863               Urban   \n",
              "\n",
              "  Road_Surface_Conditions           Road_Type  ...  Day_of_Week InScotland  \\\n",
              "0             Wet or damp  Single carriageway  ...      Tuesday         No   \n",
              "1                     Dry    Dual carriageway  ...    Wednesday         No   \n",
              "2                     Dry  Single carriageway  ...     Thursday         No   \n",
              "3                     Dry  Single carriageway  ...       Friday         No   \n",
              "4             Wet or damp  Single carriageway  ...       Monday         No   \n",
              "\n",
              "     Date_dt  Hour  Weekday_Num Month Day_of_Week_Label  Year  Season  \\\n",
              "0 2005-01-04    17            1     1           Tuesday  2005  Winter   \n",
              "1 2005-01-05    17            2     1         Wednesday  2005  Winter   \n",
              "2 2005-01-06     0            3     1          Thursday  2005  Winter   \n",
              "3 2005-01-07    10            4     1            Friday  2005  Winter   \n",
              "4 2005-01-10    21            0     1            Monday  2005  Winter   \n",
              "\n",
              "    Time_of_Day  \n",
              "0  Evening_Peak  \n",
              "1  Evening_Peak  \n",
              "2    Late_Night  \n",
              "3       Daytime  \n",
              "4         Night  \n",
              "\n",
              "[5 rows x 26 columns]"
            ],
            "text/html": [
              "\n",
              "  <div id=\"df-34ac1aa5-141f-459b-a80d-e14543a99ebe\" class=\"colab-df-container\">\n",
              "    <div>\n",
              "<style scoped>\n",
              "    .dataframe tbody tr th:only-of-type {\n",
              "        vertical-align: middle;\n",
              "    }\n",
              "\n",
              "    .dataframe tbody tr th {\n",
              "        vertical-align: top;\n",
              "    }\n",
              "\n",
              "    .dataframe thead th {\n",
              "        text-align: right;\n",
              "    }\n",
              "</style>\n",
              "<table border=\"1\" class=\"dataframe\">\n",
              "  <thead>\n",
              "    <tr style=\"text-align: right;\">\n",
              "      <th></th>\n",
              "      <th>Accident_Severity</th>\n",
              "      <th>Date</th>\n",
              "      <th>Time</th>\n",
              "      <th>Latitude</th>\n",
              "      <th>Longitude</th>\n",
              "      <th>Local_Authority_(District)</th>\n",
              "      <th>LSOA_of_Accident_Location</th>\n",
              "      <th>Urban_or_Rural_Area</th>\n",
              "      <th>Road_Surface_Conditions</th>\n",
              "      <th>Road_Type</th>\n",
              "      <th>...</th>\n",
              "      <th>Day_of_Week</th>\n",
              "      <th>InScotland</th>\n",
              "      <th>Date_dt</th>\n",
              "      <th>Hour</th>\n",
              "      <th>Weekday_Num</th>\n",
              "      <th>Month</th>\n",
              "      <th>Day_of_Week_Label</th>\n",
              "      <th>Year</th>\n",
              "      <th>Season</th>\n",
              "      <th>Time_of_Day</th>\n",
              "    </tr>\n",
              "  </thead>\n",
              "  <tbody>\n",
              "    <tr>\n",
              "      <th>0</th>\n",
              "      <td>Serious</td>\n",
              "      <td>2005-01-04</td>\n",
              "      <td>17:42</td>\n",
              "      <td>51.489096</td>\n",
              "      <td>-0.191170</td>\n",
              "      <td>Kensington and Chelsea</td>\n",
              "      <td>E01002849</td>\n",
              "      <td>Urban</td>\n",
              "      <td>Wet or damp</td>\n",
              "      <td>Single carriageway</td>\n",
              "      <td>...</td>\n",
              "      <td>Tuesday</td>\n",
              "      <td>No</td>\n",
              "      <td>2005-01-04</td>\n",
              "      <td>17</td>\n",
              "      <td>1</td>\n",
              "      <td>1</td>\n",
              "      <td>Tuesday</td>\n",
              "      <td>2005</td>\n",
              "      <td>Winter</td>\n",
              "      <td>Evening_Peak</td>\n",
              "    </tr>\n",
              "    <tr>\n",
              "      <th>1</th>\n",
              "      <td>Slight</td>\n",
              "      <td>2005-01-05</td>\n",
              "      <td>17:36</td>\n",
              "      <td>51.520075</td>\n",
              "      <td>-0.211708</td>\n",
              "      <td>Kensington and Chelsea</td>\n",
              "      <td>E01002909</td>\n",
              "      <td>Urban</td>\n",
              "      <td>Dry</td>\n",
              "      <td>Dual carriageway</td>\n",
              "      <td>...</td>\n",
              "      <td>Wednesday</td>\n",
              "      <td>No</td>\n",
              "      <td>2005-01-05</td>\n",
              "      <td>17</td>\n",
              "      <td>2</td>\n",
              "      <td>1</td>\n",
              "      <td>Wednesday</td>\n",
              "      <td>2005</td>\n",
              "      <td>Winter</td>\n",
              "      <td>Evening_Peak</td>\n",
              "    </tr>\n",
              "    <tr>\n",
              "      <th>2</th>\n",
              "      <td>Slight</td>\n",
              "      <td>2005-01-06</td>\n",
              "      <td>00:15</td>\n",
              "      <td>51.525301</td>\n",
              "      <td>-0.206458</td>\n",
              "      <td>Kensington and Chelsea</td>\n",
              "      <td>E01002857</td>\n",
              "      <td>Urban</td>\n",
              "      <td>Dry</td>\n",
              "      <td>Single carriageway</td>\n",
              "      <td>...</td>\n",
              "      <td>Thursday</td>\n",
              "      <td>No</td>\n",
              "      <td>2005-01-06</td>\n",
              "      <td>0</td>\n",
              "      <td>3</td>\n",
              "      <td>1</td>\n",
              "      <td>Thursday</td>\n",
              "      <td>2005</td>\n",
              "      <td>Winter</td>\n",
              "      <td>Late_Night</td>\n",
              "    </tr>\n",
              "    <tr>\n",
              "      <th>3</th>\n",
              "      <td>Slight</td>\n",
              "      <td>2005-01-07</td>\n",
              "      <td>10:35</td>\n",
              "      <td>51.482442</td>\n",
              "      <td>-0.173862</td>\n",
              "      <td>Kensington and Chelsea</td>\n",
              "      <td>E01002840</td>\n",
              "      <td>Urban</td>\n",
              "      <td>Dry</td>\n",
              "      <td>Single carriageway</td>\n",
              "      <td>...</td>\n",
              "      <td>Friday</td>\n",
              "      <td>No</td>\n",
              "      <td>2005-01-07</td>\n",
              "      <td>10</td>\n",
              "      <td>4</td>\n",
              "      <td>1</td>\n",
              "      <td>Friday</td>\n",
              "      <td>2005</td>\n",
              "      <td>Winter</td>\n",
              "      <td>Daytime</td>\n",
              "    </tr>\n",
              "    <tr>\n",
              "      <th>4</th>\n",
              "      <td>Slight</td>\n",
              "      <td>2005-01-10</td>\n",
              "      <td>21:13</td>\n",
              "      <td>51.495752</td>\n",
              "      <td>-0.156618</td>\n",
              "      <td>Kensington and Chelsea</td>\n",
              "      <td>E01002863</td>\n",
              "      <td>Urban</td>\n",
              "      <td>Wet or damp</td>\n",
              "      <td>Single carriageway</td>\n",
              "      <td>...</td>\n",
              "      <td>Monday</td>\n",
              "      <td>No</td>\n",
              "      <td>2005-01-10</td>\n",
              "      <td>21</td>\n",
              "      <td>0</td>\n",
              "      <td>1</td>\n",
              "      <td>Monday</td>\n",
              "      <td>2005</td>\n",
              "      <td>Winter</td>\n",
              "      <td>Night</td>\n",
              "    </tr>\n",
              "  </tbody>\n",
              "</table>\n",
              "<p>5 rows × 26 columns</p>\n",
              "</div>\n",
              "    <div class=\"colab-df-buttons\">\n",
              "\n",
              "  <div class=\"colab-df-container\">\n",
              "    <button class=\"colab-df-convert\" onclick=\"convertToInteractive('df-34ac1aa5-141f-459b-a80d-e14543a99ebe')\"\n",
              "            title=\"Convert this dataframe to an interactive table.\"\n",
              "            style=\"display:none;\">\n",
              "\n",
              "  <svg xmlns=\"http://www.w3.org/2000/svg\" height=\"24px\" viewBox=\"0 -960 960 960\">\n",
              "    <path d=\"M120-120v-720h720v720H120Zm60-500h600v-160H180v160Zm220 220h160v-160H400v160Zm0 220h160v-160H400v160ZM180-400h160v-160H180v160Zm440 0h160v-160H620v160ZM180-180h160v-160H180v160Zm440 0h160v-160H620v160Z\"/>\n",
              "  </svg>\n",
              "    </button>\n",
              "\n",
              "  <style>\n",
              "    .colab-df-container {\n",
              "      display:flex;\n",
              "      gap: 12px;\n",
              "    }\n",
              "\n",
              "    .colab-df-convert {\n",
              "      background-color: #E8F0FE;\n",
              "      border: none;\n",
              "      border-radius: 50%;\n",
              "      cursor: pointer;\n",
              "      display: none;\n",
              "      fill: #1967D2;\n",
              "      height: 32px;\n",
              "      padding: 0 0 0 0;\n",
              "      width: 32px;\n",
              "    }\n",
              "\n",
              "    .colab-df-convert:hover {\n",
              "      background-color: #E2EBFA;\n",
              "      box-shadow: 0px 1px 2px rgba(60, 64, 67, 0.3), 0px 1px 3px 1px rgba(60, 64, 67, 0.15);\n",
              "      fill: #174EA6;\n",
              "    }\n",
              "\n",
              "    .colab-df-buttons div {\n",
              "      margin-bottom: 4px;\n",
              "    }\n",
              "\n",
              "    [theme=dark] .colab-df-convert {\n",
              "      background-color: #3B4455;\n",
              "      fill: #D2E3FC;\n",
              "    }\n",
              "\n",
              "    [theme=dark] .colab-df-convert:hover {\n",
              "      background-color: #434B5C;\n",
              "      box-shadow: 0px 1px 3px 1px rgba(0, 0, 0, 0.15);\n",
              "      filter: drop-shadow(0px 1px 2px rgba(0, 0, 0, 0.3));\n",
              "      fill: #FFFFFF;\n",
              "    }\n",
              "  </style>\n",
              "\n",
              "    <script>\n",
              "      const buttonEl =\n",
              "        document.querySelector('#df-34ac1aa5-141f-459b-a80d-e14543a99ebe button.colab-df-convert');\n",
              "      buttonEl.style.display =\n",
              "        google.colab.kernel.accessAllowed ? 'block' : 'none';\n",
              "\n",
              "      async function convertToInteractive(key) {\n",
              "        const element = document.querySelector('#df-34ac1aa5-141f-459b-a80d-e14543a99ebe');\n",
              "        const dataTable =\n",
              "          await google.colab.kernel.invokeFunction('convertToInteractive',\n",
              "                                                    [key], {});\n",
              "        if (!dataTable) return;\n",
              "\n",
              "        const docLinkHtml = 'Like what you see? Visit the ' +\n",
              "          '<a target=\"_blank\" href=https://colab.research.google.com/notebooks/data_table.ipynb>data table notebook</a>'\n",
              "          + ' to learn more about interactive tables.';\n",
              "        element.innerHTML = '';\n",
              "        dataTable['output_type'] = 'display_data';\n",
              "        await google.colab.output.renderOutput(dataTable, element);\n",
              "        const docLink = document.createElement('div');\n",
              "        docLink.innerHTML = docLinkHtml;\n",
              "        element.appendChild(docLink);\n",
              "      }\n",
              "    </script>\n",
              "  </div>\n",
              "\n",
              "\n",
              "    <div id=\"df-06985c67-f1a1-4cc5-acfe-ad0148c9385c\">\n",
              "      <button class=\"colab-df-quickchart\" onclick=\"quickchart('df-06985c67-f1a1-4cc5-acfe-ad0148c9385c')\"\n",
              "                title=\"Suggest charts\"\n",
              "                style=\"display:none;\">\n",
              "\n",
              "<svg xmlns=\"http://www.w3.org/2000/svg\" height=\"24px\"viewBox=\"0 0 24 24\"\n",
              "     width=\"24px\">\n",
              "    <g>\n",
              "        <path d=\"M19 3H5c-1.1 0-2 .9-2 2v14c0 1.1.9 2 2 2h14c1.1 0 2-.9 2-2V5c0-1.1-.9-2-2-2zM9 17H7v-7h2v7zm4 0h-2V7h2v10zm4 0h-2v-4h2v4z\"/>\n",
              "    </g>\n",
              "</svg>\n",
              "      </button>\n",
              "\n",
              "<style>\n",
              "  .colab-df-quickchart {\n",
              "      --bg-color: #E8F0FE;\n",
              "      --fill-color: #1967D2;\n",
              "      --hover-bg-color: #E2EBFA;\n",
              "      --hover-fill-color: #174EA6;\n",
              "      --disabled-fill-color: #AAA;\n",
              "      --disabled-bg-color: #DDD;\n",
              "  }\n",
              "\n",
              "  [theme=dark] .colab-df-quickchart {\n",
              "      --bg-color: #3B4455;\n",
              "      --fill-color: #D2E3FC;\n",
              "      --hover-bg-color: #434B5C;\n",
              "      --hover-fill-color: #FFFFFF;\n",
              "      --disabled-bg-color: #3B4455;\n",
              "      --disabled-fill-color: #666;\n",
              "  }\n",
              "\n",
              "  .colab-df-quickchart {\n",
              "    background-color: var(--bg-color);\n",
              "    border: none;\n",
              "    border-radius: 50%;\n",
              "    cursor: pointer;\n",
              "    display: none;\n",
              "    fill: var(--fill-color);\n",
              "    height: 32px;\n",
              "    padding: 0;\n",
              "    width: 32px;\n",
              "  }\n",
              "\n",
              "  .colab-df-quickchart:hover {\n",
              "    background-color: var(--hover-bg-color);\n",
              "    box-shadow: 0 1px 2px rgba(60, 64, 67, 0.3), 0 1px 3px 1px rgba(60, 64, 67, 0.15);\n",
              "    fill: var(--button-hover-fill-color);\n",
              "  }\n",
              "\n",
              "  .colab-df-quickchart-complete:disabled,\n",
              "  .colab-df-quickchart-complete:disabled:hover {\n",
              "    background-color: var(--disabled-bg-color);\n",
              "    fill: var(--disabled-fill-color);\n",
              "    box-shadow: none;\n",
              "  }\n",
              "\n",
              "  .colab-df-spinner {\n",
              "    border: 2px solid var(--fill-color);\n",
              "    border-color: transparent;\n",
              "    border-bottom-color: var(--fill-color);\n",
              "    animation:\n",
              "      spin 1s steps(1) infinite;\n",
              "  }\n",
              "\n",
              "  @keyframes spin {\n",
              "    0% {\n",
              "      border-color: transparent;\n",
              "      border-bottom-color: var(--fill-color);\n",
              "      border-left-color: var(--fill-color);\n",
              "    }\n",
              "    20% {\n",
              "      border-color: transparent;\n",
              "      border-left-color: var(--fill-color);\n",
              "      border-top-color: var(--fill-color);\n",
              "    }\n",
              "    30% {\n",
              "      border-color: transparent;\n",
              "      border-left-color: var(--fill-color);\n",
              "      border-top-color: var(--fill-color);\n",
              "      border-right-color: var(--fill-color);\n",
              "    }\n",
              "    40% {\n",
              "      border-color: transparent;\n",
              "      border-right-color: var(--fill-color);\n",
              "      border-top-color: var(--fill-color);\n",
              "    }\n",
              "    60% {\n",
              "      border-color: transparent;\n",
              "      border-right-color: var(--fill-color);\n",
              "    }\n",
              "    80% {\n",
              "      border-color: transparent;\n",
              "      border-right-color: var(--fill-color);\n",
              "      border-bottom-color: var(--fill-color);\n",
              "    }\n",
              "    90% {\n",
              "      border-color: transparent;\n",
              "      border-bottom-color: var(--fill-color);\n",
              "    }\n",
              "  }\n",
              "</style>\n",
              "\n",
              "      <script>\n",
              "        async function quickchart(key) {\n",
              "          const quickchartButtonEl =\n",
              "            document.querySelector('#' + key + ' button');\n",
              "          quickchartButtonEl.disabled = true;  // To prevent multiple clicks.\n",
              "          quickchartButtonEl.classList.add('colab-df-spinner');\n",
              "          try {\n",
              "            const charts = await google.colab.kernel.invokeFunction(\n",
              "                'suggestCharts', [key], {});\n",
              "          } catch (error) {\n",
              "            console.error('Error during call to suggestCharts:', error);\n",
              "          }\n",
              "          quickchartButtonEl.classList.remove('colab-df-spinner');\n",
              "          quickchartButtonEl.classList.add('colab-df-quickchart-complete');\n",
              "        }\n",
              "        (() => {\n",
              "          let quickchartButtonEl =\n",
              "            document.querySelector('#df-06985c67-f1a1-4cc5-acfe-ad0148c9385c button');\n",
              "          quickchartButtonEl.style.display =\n",
              "            google.colab.kernel.accessAllowed ? 'block' : 'none';\n",
              "        })();\n",
              "      </script>\n",
              "    </div>\n",
              "\n",
              "    </div>\n",
              "  </div>\n"
            ],
            "application/vnd.google.colaboratory.intrinsic+json": {
              "type": "dataframe",
              "variable_name": "as_accident_level"
            }
          },
          "metadata": {},
          "execution_count": 18
        }
      ],
      "source": [
        "as_accident_level.head()"
      ]
    },
    {
      "cell_type": "markdown",
      "source": [
        "## Handling urban_or_rural area"
      ],
      "metadata": {
        "id": "JnaTpTBbldpr"
      }
    },
    {
      "cell_type": "code",
      "execution_count": 19,
      "metadata": {
        "id": "MnbsiCCexZj8"
      },
      "outputs": [],
      "source": [
        "# 5.2 SPATIAL: URBAN_OR_RURAL_AREA → Urban_Rural_Label\n",
        "#     Unique raw values: ['Urban', 'Rural', 'Unallocated']\n",
        "as_accident_level['Urban_or_Rural_Area'] = as_accident_level['Urban_or_Rural_Area'].astype(str).str.strip()\n",
        "def map_urban_rural(x):\n",
        "    if x == 'Urban':\n",
        "        return 'Urban'\n",
        "    elif x == 'Rural':\n",
        "        return 'Rural'\n",
        "    else:  # 'Unallocated' or anything else\n",
        "        return 'Unknown'\n",
        "as_accident_level['Urban_Rural_Label'] = as_accident_level['Urban_or_Rural_Area'].apply(map_urban_rural)"
      ]
    },
    {
      "cell_type": "code",
      "execution_count": 20,
      "metadata": {
        "colab": {
          "base_uri": "https://localhost:8080/",
          "height": 342
        },
        "id": "kDvaqZdBxgYz",
        "outputId": "3c358105-755d-4406-dadb-75d340d6431f"
      },
      "outputs": [
        {
          "output_type": "execute_result",
          "data": {
            "text/plain": [
              "  Accident_Severity        Date   Time   Latitude  Longitude  \\\n",
              "0           Serious  2005-01-04  17:42  51.489096  -0.191170   \n",
              "1            Slight  2005-01-05  17:36  51.520075  -0.211708   \n",
              "2            Slight  2005-01-06  00:15  51.525301  -0.206458   \n",
              "3            Slight  2005-01-07  10:35  51.482442  -0.173862   \n",
              "4            Slight  2005-01-10  21:13  51.495752  -0.156618   \n",
              "\n",
              "  Local_Authority_(District) LSOA_of_Accident_Location Urban_or_Rural_Area  \\\n",
              "0     Kensington and Chelsea                 E01002849               Urban   \n",
              "1     Kensington and Chelsea                 E01002909               Urban   \n",
              "2     Kensington and Chelsea                 E01002857               Urban   \n",
              "3     Kensington and Chelsea                 E01002840               Urban   \n",
              "4     Kensington and Chelsea                 E01002863               Urban   \n",
              "\n",
              "  Road_Surface_Conditions           Road_Type  ...  InScotland    Date_dt  \\\n",
              "0             Wet or damp  Single carriageway  ...          No 2005-01-04   \n",
              "1                     Dry    Dual carriageway  ...          No 2005-01-05   \n",
              "2                     Dry  Single carriageway  ...          No 2005-01-06   \n",
              "3                     Dry  Single carriageway  ...          No 2005-01-07   \n",
              "4             Wet or damp  Single carriageway  ...          No 2005-01-10   \n",
              "\n",
              "  Hour  Weekday_Num  Month Day_of_Week_Label  Year  Season   Time_of_Day  \\\n",
              "0   17            1      1           Tuesday  2005  Winter  Evening_Peak   \n",
              "1   17            2      1         Wednesday  2005  Winter  Evening_Peak   \n",
              "2    0            3      1          Thursday  2005  Winter    Late_Night   \n",
              "3   10            4      1            Friday  2005  Winter       Daytime   \n",
              "4   21            0      1            Monday  2005  Winter         Night   \n",
              "\n",
              "   Urban_Rural_Label  \n",
              "0              Urban  \n",
              "1              Urban  \n",
              "2              Urban  \n",
              "3              Urban  \n",
              "4              Urban  \n",
              "\n",
              "[5 rows x 27 columns]"
            ],
            "text/html": [
              "\n",
              "  <div id=\"df-fde1366c-dd53-4044-81bd-9d6cca6edf3e\" class=\"colab-df-container\">\n",
              "    <div>\n",
              "<style scoped>\n",
              "    .dataframe tbody tr th:only-of-type {\n",
              "        vertical-align: middle;\n",
              "    }\n",
              "\n",
              "    .dataframe tbody tr th {\n",
              "        vertical-align: top;\n",
              "    }\n",
              "\n",
              "    .dataframe thead th {\n",
              "        text-align: right;\n",
              "    }\n",
              "</style>\n",
              "<table border=\"1\" class=\"dataframe\">\n",
              "  <thead>\n",
              "    <tr style=\"text-align: right;\">\n",
              "      <th></th>\n",
              "      <th>Accident_Severity</th>\n",
              "      <th>Date</th>\n",
              "      <th>Time</th>\n",
              "      <th>Latitude</th>\n",
              "      <th>Longitude</th>\n",
              "      <th>Local_Authority_(District)</th>\n",
              "      <th>LSOA_of_Accident_Location</th>\n",
              "      <th>Urban_or_Rural_Area</th>\n",
              "      <th>Road_Surface_Conditions</th>\n",
              "      <th>Road_Type</th>\n",
              "      <th>...</th>\n",
              "      <th>InScotland</th>\n",
              "      <th>Date_dt</th>\n",
              "      <th>Hour</th>\n",
              "      <th>Weekday_Num</th>\n",
              "      <th>Month</th>\n",
              "      <th>Day_of_Week_Label</th>\n",
              "      <th>Year</th>\n",
              "      <th>Season</th>\n",
              "      <th>Time_of_Day</th>\n",
              "      <th>Urban_Rural_Label</th>\n",
              "    </tr>\n",
              "  </thead>\n",
              "  <tbody>\n",
              "    <tr>\n",
              "      <th>0</th>\n",
              "      <td>Serious</td>\n",
              "      <td>2005-01-04</td>\n",
              "      <td>17:42</td>\n",
              "      <td>51.489096</td>\n",
              "      <td>-0.191170</td>\n",
              "      <td>Kensington and Chelsea</td>\n",
              "      <td>E01002849</td>\n",
              "      <td>Urban</td>\n",
              "      <td>Wet or damp</td>\n",
              "      <td>Single carriageway</td>\n",
              "      <td>...</td>\n",
              "      <td>No</td>\n",
              "      <td>2005-01-04</td>\n",
              "      <td>17</td>\n",
              "      <td>1</td>\n",
              "      <td>1</td>\n",
              "      <td>Tuesday</td>\n",
              "      <td>2005</td>\n",
              "      <td>Winter</td>\n",
              "      <td>Evening_Peak</td>\n",
              "      <td>Urban</td>\n",
              "    </tr>\n",
              "    <tr>\n",
              "      <th>1</th>\n",
              "      <td>Slight</td>\n",
              "      <td>2005-01-05</td>\n",
              "      <td>17:36</td>\n",
              "      <td>51.520075</td>\n",
              "      <td>-0.211708</td>\n",
              "      <td>Kensington and Chelsea</td>\n",
              "      <td>E01002909</td>\n",
              "      <td>Urban</td>\n",
              "      <td>Dry</td>\n",
              "      <td>Dual carriageway</td>\n",
              "      <td>...</td>\n",
              "      <td>No</td>\n",
              "      <td>2005-01-05</td>\n",
              "      <td>17</td>\n",
              "      <td>2</td>\n",
              "      <td>1</td>\n",
              "      <td>Wednesday</td>\n",
              "      <td>2005</td>\n",
              "      <td>Winter</td>\n",
              "      <td>Evening_Peak</td>\n",
              "      <td>Urban</td>\n",
              "    </tr>\n",
              "    <tr>\n",
              "      <th>2</th>\n",
              "      <td>Slight</td>\n",
              "      <td>2005-01-06</td>\n",
              "      <td>00:15</td>\n",
              "      <td>51.525301</td>\n",
              "      <td>-0.206458</td>\n",
              "      <td>Kensington and Chelsea</td>\n",
              "      <td>E01002857</td>\n",
              "      <td>Urban</td>\n",
              "      <td>Dry</td>\n",
              "      <td>Single carriageway</td>\n",
              "      <td>...</td>\n",
              "      <td>No</td>\n",
              "      <td>2005-01-06</td>\n",
              "      <td>0</td>\n",
              "      <td>3</td>\n",
              "      <td>1</td>\n",
              "      <td>Thursday</td>\n",
              "      <td>2005</td>\n",
              "      <td>Winter</td>\n",
              "      <td>Late_Night</td>\n",
              "      <td>Urban</td>\n",
              "    </tr>\n",
              "    <tr>\n",
              "      <th>3</th>\n",
              "      <td>Slight</td>\n",
              "      <td>2005-01-07</td>\n",
              "      <td>10:35</td>\n",
              "      <td>51.482442</td>\n",
              "      <td>-0.173862</td>\n",
              "      <td>Kensington and Chelsea</td>\n",
              "      <td>E01002840</td>\n",
              "      <td>Urban</td>\n",
              "      <td>Dry</td>\n",
              "      <td>Single carriageway</td>\n",
              "      <td>...</td>\n",
              "      <td>No</td>\n",
              "      <td>2005-01-07</td>\n",
              "      <td>10</td>\n",
              "      <td>4</td>\n",
              "      <td>1</td>\n",
              "      <td>Friday</td>\n",
              "      <td>2005</td>\n",
              "      <td>Winter</td>\n",
              "      <td>Daytime</td>\n",
              "      <td>Urban</td>\n",
              "    </tr>\n",
              "    <tr>\n",
              "      <th>4</th>\n",
              "      <td>Slight</td>\n",
              "      <td>2005-01-10</td>\n",
              "      <td>21:13</td>\n",
              "      <td>51.495752</td>\n",
              "      <td>-0.156618</td>\n",
              "      <td>Kensington and Chelsea</td>\n",
              "      <td>E01002863</td>\n",
              "      <td>Urban</td>\n",
              "      <td>Wet or damp</td>\n",
              "      <td>Single carriageway</td>\n",
              "      <td>...</td>\n",
              "      <td>No</td>\n",
              "      <td>2005-01-10</td>\n",
              "      <td>21</td>\n",
              "      <td>0</td>\n",
              "      <td>1</td>\n",
              "      <td>Monday</td>\n",
              "      <td>2005</td>\n",
              "      <td>Winter</td>\n",
              "      <td>Night</td>\n",
              "      <td>Urban</td>\n",
              "    </tr>\n",
              "  </tbody>\n",
              "</table>\n",
              "<p>5 rows × 27 columns</p>\n",
              "</div>\n",
              "    <div class=\"colab-df-buttons\">\n",
              "\n",
              "  <div class=\"colab-df-container\">\n",
              "    <button class=\"colab-df-convert\" onclick=\"convertToInteractive('df-fde1366c-dd53-4044-81bd-9d6cca6edf3e')\"\n",
              "            title=\"Convert this dataframe to an interactive table.\"\n",
              "            style=\"display:none;\">\n",
              "\n",
              "  <svg xmlns=\"http://www.w3.org/2000/svg\" height=\"24px\" viewBox=\"0 -960 960 960\">\n",
              "    <path d=\"M120-120v-720h720v720H120Zm60-500h600v-160H180v160Zm220 220h160v-160H400v160Zm0 220h160v-160H400v160ZM180-400h160v-160H180v160Zm440 0h160v-160H620v160ZM180-180h160v-160H180v160Zm440 0h160v-160H620v160Z\"/>\n",
              "  </svg>\n",
              "    </button>\n",
              "\n",
              "  <style>\n",
              "    .colab-df-container {\n",
              "      display:flex;\n",
              "      gap: 12px;\n",
              "    }\n",
              "\n",
              "    .colab-df-convert {\n",
              "      background-color: #E8F0FE;\n",
              "      border: none;\n",
              "      border-radius: 50%;\n",
              "      cursor: pointer;\n",
              "      display: none;\n",
              "      fill: #1967D2;\n",
              "      height: 32px;\n",
              "      padding: 0 0 0 0;\n",
              "      width: 32px;\n",
              "    }\n",
              "\n",
              "    .colab-df-convert:hover {\n",
              "      background-color: #E2EBFA;\n",
              "      box-shadow: 0px 1px 2px rgba(60, 64, 67, 0.3), 0px 1px 3px 1px rgba(60, 64, 67, 0.15);\n",
              "      fill: #174EA6;\n",
              "    }\n",
              "\n",
              "    .colab-df-buttons div {\n",
              "      margin-bottom: 4px;\n",
              "    }\n",
              "\n",
              "    [theme=dark] .colab-df-convert {\n",
              "      background-color: #3B4455;\n",
              "      fill: #D2E3FC;\n",
              "    }\n",
              "\n",
              "    [theme=dark] .colab-df-convert:hover {\n",
              "      background-color: #434B5C;\n",
              "      box-shadow: 0px 1px 3px 1px rgba(0, 0, 0, 0.15);\n",
              "      filter: drop-shadow(0px 1px 2px rgba(0, 0, 0, 0.3));\n",
              "      fill: #FFFFFF;\n",
              "    }\n",
              "  </style>\n",
              "\n",
              "    <script>\n",
              "      const buttonEl =\n",
              "        document.querySelector('#df-fde1366c-dd53-4044-81bd-9d6cca6edf3e button.colab-df-convert');\n",
              "      buttonEl.style.display =\n",
              "        google.colab.kernel.accessAllowed ? 'block' : 'none';\n",
              "\n",
              "      async function convertToInteractive(key) {\n",
              "        const element = document.querySelector('#df-fde1366c-dd53-4044-81bd-9d6cca6edf3e');\n",
              "        const dataTable =\n",
              "          await google.colab.kernel.invokeFunction('convertToInteractive',\n",
              "                                                    [key], {});\n",
              "        if (!dataTable) return;\n",
              "\n",
              "        const docLinkHtml = 'Like what you see? Visit the ' +\n",
              "          '<a target=\"_blank\" href=https://colab.research.google.com/notebooks/data_table.ipynb>data table notebook</a>'\n",
              "          + ' to learn more about interactive tables.';\n",
              "        element.innerHTML = '';\n",
              "        dataTable['output_type'] = 'display_data';\n",
              "        await google.colab.output.renderOutput(dataTable, element);\n",
              "        const docLink = document.createElement('div');\n",
              "        docLink.innerHTML = docLinkHtml;\n",
              "        element.appendChild(docLink);\n",
              "      }\n",
              "    </script>\n",
              "  </div>\n",
              "\n",
              "\n",
              "    <div id=\"df-cc91ef02-597c-4a06-840f-26e83778937e\">\n",
              "      <button class=\"colab-df-quickchart\" onclick=\"quickchart('df-cc91ef02-597c-4a06-840f-26e83778937e')\"\n",
              "                title=\"Suggest charts\"\n",
              "                style=\"display:none;\">\n",
              "\n",
              "<svg xmlns=\"http://www.w3.org/2000/svg\" height=\"24px\"viewBox=\"0 0 24 24\"\n",
              "     width=\"24px\">\n",
              "    <g>\n",
              "        <path d=\"M19 3H5c-1.1 0-2 .9-2 2v14c0 1.1.9 2 2 2h14c1.1 0 2-.9 2-2V5c0-1.1-.9-2-2-2zM9 17H7v-7h2v7zm4 0h-2V7h2v10zm4 0h-2v-4h2v4z\"/>\n",
              "    </g>\n",
              "</svg>\n",
              "      </button>\n",
              "\n",
              "<style>\n",
              "  .colab-df-quickchart {\n",
              "      --bg-color: #E8F0FE;\n",
              "      --fill-color: #1967D2;\n",
              "      --hover-bg-color: #E2EBFA;\n",
              "      --hover-fill-color: #174EA6;\n",
              "      --disabled-fill-color: #AAA;\n",
              "      --disabled-bg-color: #DDD;\n",
              "  }\n",
              "\n",
              "  [theme=dark] .colab-df-quickchart {\n",
              "      --bg-color: #3B4455;\n",
              "      --fill-color: #D2E3FC;\n",
              "      --hover-bg-color: #434B5C;\n",
              "      --hover-fill-color: #FFFFFF;\n",
              "      --disabled-bg-color: #3B4455;\n",
              "      --disabled-fill-color: #666;\n",
              "  }\n",
              "\n",
              "  .colab-df-quickchart {\n",
              "    background-color: var(--bg-color);\n",
              "    border: none;\n",
              "    border-radius: 50%;\n",
              "    cursor: pointer;\n",
              "    display: none;\n",
              "    fill: var(--fill-color);\n",
              "    height: 32px;\n",
              "    padding: 0;\n",
              "    width: 32px;\n",
              "  }\n",
              "\n",
              "  .colab-df-quickchart:hover {\n",
              "    background-color: var(--hover-bg-color);\n",
              "    box-shadow: 0 1px 2px rgba(60, 64, 67, 0.3), 0 1px 3px 1px rgba(60, 64, 67, 0.15);\n",
              "    fill: var(--button-hover-fill-color);\n",
              "  }\n",
              "\n",
              "  .colab-df-quickchart-complete:disabled,\n",
              "  .colab-df-quickchart-complete:disabled:hover {\n",
              "    background-color: var(--disabled-bg-color);\n",
              "    fill: var(--disabled-fill-color);\n",
              "    box-shadow: none;\n",
              "  }\n",
              "\n",
              "  .colab-df-spinner {\n",
              "    border: 2px solid var(--fill-color);\n",
              "    border-color: transparent;\n",
              "    border-bottom-color: var(--fill-color);\n",
              "    animation:\n",
              "      spin 1s steps(1) infinite;\n",
              "  }\n",
              "\n",
              "  @keyframes spin {\n",
              "    0% {\n",
              "      border-color: transparent;\n",
              "      border-bottom-color: var(--fill-color);\n",
              "      border-left-color: var(--fill-color);\n",
              "    }\n",
              "    20% {\n",
              "      border-color: transparent;\n",
              "      border-left-color: var(--fill-color);\n",
              "      border-top-color: var(--fill-color);\n",
              "    }\n",
              "    30% {\n",
              "      border-color: transparent;\n",
              "      border-left-color: var(--fill-color);\n",
              "      border-top-color: var(--fill-color);\n",
              "      border-right-color: var(--fill-color);\n",
              "    }\n",
              "    40% {\n",
              "      border-color: transparent;\n",
              "      border-right-color: var(--fill-color);\n",
              "      border-top-color: var(--fill-color);\n",
              "    }\n",
              "    60% {\n",
              "      border-color: transparent;\n",
              "      border-right-color: var(--fill-color);\n",
              "    }\n",
              "    80% {\n",
              "      border-color: transparent;\n",
              "      border-right-color: var(--fill-color);\n",
              "      border-bottom-color: var(--fill-color);\n",
              "    }\n",
              "    90% {\n",
              "      border-color: transparent;\n",
              "      border-bottom-color: var(--fill-color);\n",
              "    }\n",
              "  }\n",
              "</style>\n",
              "\n",
              "      <script>\n",
              "        async function quickchart(key) {\n",
              "          const quickchartButtonEl =\n",
              "            document.querySelector('#' + key + ' button');\n",
              "          quickchartButtonEl.disabled = true;  // To prevent multiple clicks.\n",
              "          quickchartButtonEl.classList.add('colab-df-spinner');\n",
              "          try {\n",
              "            const charts = await google.colab.kernel.invokeFunction(\n",
              "                'suggestCharts', [key], {});\n",
              "          } catch (error) {\n",
              "            console.error('Error during call to suggestCharts:', error);\n",
              "          }\n",
              "          quickchartButtonEl.classList.remove('colab-df-spinner');\n",
              "          quickchartButtonEl.classList.add('colab-df-quickchart-complete');\n",
              "        }\n",
              "        (() => {\n",
              "          let quickchartButtonEl =\n",
              "            document.querySelector('#df-cc91ef02-597c-4a06-840f-26e83778937e button');\n",
              "          quickchartButtonEl.style.display =\n",
              "            google.colab.kernel.accessAllowed ? 'block' : 'none';\n",
              "        })();\n",
              "      </script>\n",
              "    </div>\n",
              "\n",
              "    </div>\n",
              "  </div>\n"
            ],
            "application/vnd.google.colaboratory.intrinsic+json": {
              "type": "dataframe",
              "variable_name": "as_accident_level"
            }
          },
          "metadata": {},
          "execution_count": 20
        }
      ],
      "source": [
        "as_accident_level.head()"
      ]
    },
    {
      "cell_type": "markdown",
      "source": [
        "## Mapping weather types for each string into final label"
      ],
      "metadata": {
        "id": "GLAzTvpmlxww"
      }
    },
    {
      "cell_type": "code",
      "execution_count": 21,
      "metadata": {
        "colab": {
          "base_uri": "https://localhost:8080/"
        },
        "id": "Xq_j2QjixlGN",
        "outputId": "4a7f2667-12d5-43b5-e6ec-18ee954a7516"
      },
      "outputs": [
        {
          "output_type": "stream",
          "name": "stdout",
          "text": [
            "Unique raw Weather_Conditions values:\n",
            "['Raining no high winds' 'Fine no high winds' 'Unknown'\n",
            " 'Snowing no high winds' 'Other' 'Fine + high winds'\n",
            " 'Raining + high winds' 'Fog or mist' 'Snowing + high winds'\n",
            " 'Data missing or out of range'] \n",
            "\n",
            "Unique mapped Weather_Label values:\n",
            "['Raining' 'Fine' 'Unknown' 'Snowing_Ice' 'Other_Adverse'\n",
            " 'Fine+high winds' 'Fog']\n",
            "\n",
            "Value counts for Weather_Label:\n",
            "Weather_Label\n",
            "Fine               1639967\n",
            "Raining             267596\n",
            "Other_Adverse        44079\n",
            "Unknown              42687\n",
            "Fine+high winds      25815\n",
            "Snowing_Ice          15871\n",
            "Fog                  11066\n",
            "Name: count, dtype: int64\n"
          ]
        }
      ],
      "source": [
        "# 1) Define an exact mapping from each raw string → final label\n",
        "weather_map = {\n",
        "    'Fine no high winds':       'Fine',\n",
        "    'Fine + high winds':        'Fine+high winds',\n",
        "    'Raining no high winds':    'Raining',\n",
        "    'Raining + high winds':     'Raining',\n",
        "    'Snowing no high winds':    'Snowing_Ice',\n",
        "    'Snowing + high winds':     'Snowing_Ice',\n",
        "    'Fog or mist':              'Fog',\n",
        "    'Other':                    'Other_Adverse',\n",
        "    'Unknown':                  'Unknown',\n",
        "    'Data missing or out of range': 'Unknown'\n",
        "}\n",
        "\n",
        "# 2) Ensure there are no trailing spaces—strip just in case\n",
        "as_accident_level['Weather_Conditions'] = as_accident_level['Weather_Conditions'].astype(str).str.strip()\n",
        "\n",
        "# 3) Apply the mapping with .map(...). Any unexpected string becomes NaN,\n",
        "#    so we then fillna('Unknown') to catch any anomalies.\n",
        "as_accident_level['Weather_Label'] = (\n",
        "    as_accident_level['Weather_Conditions']\n",
        "    .map(weather_map)         # map known strings → label\n",
        "    .fillna('Unknown')        # if somehow a value is not in the dict\n",
        ")\n",
        "\n",
        "# 4) Verify that the mapping worked correctly\n",
        "print(\"Unique raw Weather_Conditions values:\")\n",
        "print(as_accident_level['Weather_Conditions'].unique(), \"\\n\")\n",
        "\n",
        "print(\"Unique mapped Weather_Label values:\")\n",
        "print(as_accident_level['Weather_Label'].unique())\n",
        "\n",
        "# Optionally, show counts to ensure balance\n",
        "print(\"\\nValue counts for Weather_Label:\")\n",
        "print(as_accident_level['Weather_Label'].value_counts())\n"
      ]
    },
    {
      "cell_type": "code",
      "source": [],
      "metadata": {
        "id": "lo2sMYril-YH"
      },
      "execution_count": null,
      "outputs": []
    },
    {
      "cell_type": "markdown",
      "source": [
        "## Mapping surface types for each string into final label"
      ],
      "metadata": {
        "id": "8fUCXwAYmH2N"
      }
    },
    {
      "cell_type": "code",
      "execution_count": 22,
      "metadata": {
        "colab": {
          "base_uri": "https://localhost:8080/"
        },
        "id": "Lj0_-q6pyCHo",
        "outputId": "eed81456-b535-4089-d73b-a8b44398691b"
      },
      "outputs": [
        {
          "output_type": "stream",
          "name": "stdout",
          "text": [
            "Unique Road_Surface_Label values: ['Wet_or_Damp' 'Dry' 'Snow_Ice' 'Flood' 'Unknown']\n"
          ]
        }
      ],
      "source": [
        "def map_road_surface(x):\n",
        "    if x == 'Dry':\n",
        "        return 'Dry'\n",
        "    elif x == 'Wet or damp':\n",
        "        return 'Wet_or_Damp'\n",
        "    elif x in ['Snow', 'Frost or ice']:\n",
        "        return 'Snow_Ice'\n",
        "    elif x == 'Flood over 3cm. deep':\n",
        "        return 'Flood'\n",
        "    else:  # 'Data missing or out of range' or anything else\n",
        "        return 'Unknown'\n",
        "\n",
        "as_accident_level['Road_Surface_Label'] = as_accident_level['Road_Surface_Conditions'].apply(map_road_surface)\n",
        "\n",
        "print(\"Unique Road_Surface_Label values:\", as_accident_level['Road_Surface_Label'].unique())\n",
        "\n"
      ]
    },
    {
      "cell_type": "code",
      "execution_count": 23,
      "metadata": {
        "colab": {
          "base_uri": "https://localhost:8080/"
        },
        "id": "TPjsOiKByMZC",
        "outputId": "2abf63e2-ee88-47d5-ff1f-95d311a2f1bb"
      },
      "outputs": [
        {
          "output_type": "stream",
          "name": "stdout",
          "text": [
            "Unique Road_Type_Label values: ['Single_Carriageway' 'Dual_Carriageway' 'One_Way_Street' 'Roundabout'\n",
            " 'Slip_Road' 'Unknown']\n"
          ]
        }
      ],
      "source": [
        "def map_road_type(x):\n",
        "    if x == 'Dual carriageway':\n",
        "        return 'Dual_Carriageway'\n",
        "    elif x == 'Single carriageway':\n",
        "        return 'Single_Carriageway'\n",
        "    elif x == 'One way street':\n",
        "        return 'One_Way_Street'\n",
        "    elif x == 'Roundabout':\n",
        "        return 'Roundabout'\n",
        "    elif x == 'Slip road':\n",
        "        return 'Slip_Road'\n",
        "    else:  # 'Unknown' or 'Data missing or out of range'\n",
        "        return 'Unknown'\n",
        "\n",
        "as_accident_level['Road_Type_Label'] = as_accident_level['Road_Type'].apply(map_road_type)\n",
        "\n",
        "print(\"Unique Road_Type_Label values:\", as_accident_level['Road_Type_Label'].unique())\n"
      ]
    },
    {
      "cell_type": "code",
      "execution_count": 24,
      "metadata": {
        "colab": {
          "base_uri": "https://localhost:8080/"
        },
        "id": "CpBlYKGcyaHt",
        "outputId": "6b654ace-1bc7-4f78-ecee-1f25b977cb16"
      },
      "outputs": [
        {
          "output_type": "stream",
          "name": "stdout",
          "text": [
            "Unique Light_Label values: ['Daylight' 'Darkness_Lights_On' 'Dark_No_Lighting' 'Darkness_Lights_Off'\n",
            " 'Unknown']\n"
          ]
        }
      ],
      "source": [
        "as_accident_level['Light_Conditions'] = as_accident_level['Light_Conditions'].astype(str).str.strip()\n",
        "\n",
        "def map_light(x):\n",
        "    if x == 'Daylight':\n",
        "        return 'Daylight'\n",
        "    elif x == 'Darkness - lights lit':\n",
        "        return 'Darkness_Lights_On'\n",
        "    elif x == 'Darkness - lights unlit':\n",
        "        return 'Darkness_Lights_Off'\n",
        "    elif x in ['Darkness - lighting unknown', 'Darkness - no lighting']:\n",
        "        return 'Dark_No_Lighting'\n",
        "    else:  # 'Data missing or out of range' or anything else\n",
        "        return 'Unknown'\n",
        "\n",
        "as_accident_level['Light_Label'] = as_accident_level['Light_Conditions'].apply(map_light)\n",
        "\n",
        "print(\"Unique Light_Label values:\", as_accident_level['Light_Label'].unique())"
      ]
    },
    {
      "cell_type": "code",
      "execution_count": 25,
      "metadata": {
        "colab": {
          "base_uri": "https://localhost:8080/"
        },
        "id": "KWu73E3wyihm",
        "outputId": "79325858-d8f4-435b-b120-728504bc83b0"
      },
      "outputs": [
        {
          "output_type": "stream",
          "name": "stdout",
          "text": [
            "Unique Speed_Bin values: ['Low_30' 'Mid_50' 'High_70']\n"
          ]
        }
      ],
      "source": [
        "def speed_bin(x):\n",
        "    try:\n",
        "        sl = float(x)\n",
        "    except:\n",
        "        return 'Unknown'\n",
        "    if sl <= 30:\n",
        "        return 'Low_30'\n",
        "    elif sl <= 50:\n",
        "        return 'Mid_50'\n",
        "    elif sl <= 70:\n",
        "        return 'High_70'\n",
        "    else:\n",
        "        return 'Very_High'\n",
        "\n",
        "as_accident_level['Speed_Bin'] = as_accident_level['Speed_limit'].apply(speed_bin)\n",
        "\n",
        "print(\"Unique Speed_Bin values:\", as_accident_level['Speed_Bin'].unique())"
      ]
    },
    {
      "cell_type": "code",
      "execution_count": 26,
      "metadata": {
        "colab": {
          "base_uri": "https://localhost:8080/"
        },
        "id": "_VMsreXsyoJy",
        "outputId": "8120fd35-676d-4031-db4b-527533aa4f7b"
      },
      "outputs": [
        {
          "output_type": "stream",
          "name": "stdout",
          "text": [
            "\n",
            "Final columns in accident_level:\n",
            "['Accident_Severity', 'Latitude', 'Longitude', 'Local_Authority_(District)', 'LSOA_of_Accident_Location', 'Number_of_Casualties', 'Number_of_Vehicles', 'Police_Force', 'InScotland', 'Date_dt', 'Hour', 'Weekday_Num', 'Month', 'Day_of_Week_Label', 'Year', 'Season', 'Time_of_Day', 'Urban_Rural_Label', 'Weather_Label', 'Road_Surface_Label', 'Road_Type_Label', 'Light_Label', 'Speed_Bin']\n",
            "\n",
            "Final shape: (2047081, 23)\n"
          ]
        }
      ],
      "source": [
        "# Now that we have mapped/engineered every column, drop the raw ones:\n",
        "cols_to_drop = [\n",
        "    'Date',\n",
        "    'Time',\n",
        "    'Urban_or_Rural_Area',\n",
        "    'Road_Surface_Conditions',\n",
        "    'Road_Type',\n",
        "    'Speed_limit',\n",
        "    'Weather_Conditions',\n",
        "    'Light_Conditions',\n",
        "    'Day_of_Week'\n",
        "]\n",
        "\n",
        "as_accident_level = as_accident_level.drop(columns=[c for c in cols_to_drop if c in as_accident_level.columns],\n",
        "                                     errors='ignore')\n",
        "\n",
        "print(\"\\nFinal columns in accident_level:\")\n",
        "print(as_accident_level.columns.tolist())\n",
        "\n",
        "print(\"\\nFinal shape:\", as_accident_level.shape)"
      ]
    },
    {
      "cell_type": "markdown",
      "source": [
        "## Final check of missing values"
      ],
      "metadata": {
        "id": "IFX6b742mT3Q"
      }
    },
    {
      "cell_type": "code",
      "execution_count": 27,
      "metadata": {
        "colab": {
          "base_uri": "https://localhost:8080/"
        },
        "id": "U5L3OocXyzZt",
        "outputId": "206ba56a-3a5e-4bd8-e0b6-0598b0263fb4"
      },
      "outputs": [
        {
          "output_type": "stream",
          "name": "stdout",
          "text": [
            "\n",
            "Missing counts in final features:\n",
            "Local_Authority_(District)    0\n",
            "LSOA_of_Accident_Location     0\n",
            "Police_Force                  0\n",
            "InScotland                    0\n",
            "Hour                          0\n",
            "Weekday_Num                   0\n",
            "Month                         0\n",
            "Season                        0\n",
            "Time_of_Day                   0\n",
            "Urban_Rural_Label             0\n",
            "Weather_Label                 0\n",
            "Light_Label                   0\n",
            "Road_Surface_Label            0\n",
            "Road_Type_Label               0\n",
            "Speed_Bin                     0\n",
            "Day_of_Week_Label             0\n",
            "Number_of_Vehicles            0\n",
            "Number_of_Casualties          0\n",
            "Latitude                      0\n",
            "Longitude                     0\n",
            "dtype: int64\n",
            "\n",
            "Sample of final accident_level:\n",
            "  Accident_Severity   Latitude  Longitude Local_Authority_(District)  \\\n",
            "0           Serious  51.489096  -0.191170     Kensington and Chelsea   \n",
            "1            Slight  51.520075  -0.211708     Kensington and Chelsea   \n",
            "2            Slight  51.525301  -0.206458     Kensington and Chelsea   \n",
            "3            Slight  51.482442  -0.173862     Kensington and Chelsea   \n",
            "4            Slight  51.495752  -0.156618     Kensington and Chelsea   \n",
            "\n",
            "  LSOA_of_Accident_Location  Number_of_Casualties  Number_of_Vehicles  \\\n",
            "0                 E01002849                     1                   1   \n",
            "1                 E01002909                     1                   1   \n",
            "2                 E01002857                     1                   2   \n",
            "3                 E01002840                     1                   1   \n",
            "4                 E01002863                     1                   1   \n",
            "\n",
            "          Police_Force InScotland    Date_dt  ...  Day_of_Week_Label  Year  \\\n",
            "0  Metropolitan Police         No 2005-01-04  ...            Tuesday  2005   \n",
            "1  Metropolitan Police         No 2005-01-05  ...          Wednesday  2005   \n",
            "2  Metropolitan Police         No 2005-01-06  ...           Thursday  2005   \n",
            "3  Metropolitan Police         No 2005-01-07  ...             Friday  2005   \n",
            "4  Metropolitan Police         No 2005-01-10  ...             Monday  2005   \n",
            "\n",
            "   Season   Time_of_Day  Urban_Rural_Label Weather_Label Road_Surface_Label  \\\n",
            "0  Winter  Evening_Peak              Urban       Raining        Wet_or_Damp   \n",
            "1  Winter  Evening_Peak              Urban          Fine                Dry   \n",
            "2  Winter    Late_Night              Urban          Fine                Dry   \n",
            "3  Winter       Daytime              Urban          Fine                Dry   \n",
            "4  Winter         Night              Urban          Fine        Wet_or_Damp   \n",
            "\n",
            "      Road_Type_Label         Light_Label Speed_Bin  \n",
            "0  Single_Carriageway            Daylight    Low_30  \n",
            "1    Dual_Carriageway  Darkness_Lights_On    Low_30  \n",
            "2  Single_Carriageway  Darkness_Lights_On    Low_30  \n",
            "3  Single_Carriageway            Daylight    Low_30  \n",
            "4  Single_Carriageway    Dark_No_Lighting    Low_30  \n",
            "\n",
            "[5 rows x 23 columns]\n"
          ]
        }
      ],
      "source": [
        "# Check for any remaining missing values in the columns we care about:\n",
        "to_check = [\n",
        "    'Local_Authority_(District)',\n",
        "    'LSOA_of_Accident_Location',\n",
        "    'Police_Force',\n",
        "    'InScotland',\n",
        "    'Hour',\n",
        "    'Weekday_Num',\n",
        "    'Month',\n",
        "    'Season',\n",
        "    'Time_of_Day',\n",
        "    'Urban_Rural_Label',\n",
        "    'Weather_Label',\n",
        "    'Light_Label',\n",
        "    'Road_Surface_Label',\n",
        "    'Road_Type_Label',\n",
        "    'Speed_Bin',\n",
        "    'Day_of_Week_Label',\n",
        "    'Number_of_Vehicles',\n",
        "    'Number_of_Casualties',\n",
        "    'Latitude',\n",
        "    'Longitude'\n",
        "]\n",
        "\n",
        "print(\"\\nMissing counts in final features:\")\n",
        "print(as_accident_level[to_check].isna().sum())\n",
        "\n",
        "# Show the first few rows of the cleaned DataFrame\n",
        "print(\"\\nSample of final accident_level:\")\n",
        "print(as_accident_level.head())"
      ]
    },
    {
      "cell_type": "code",
      "execution_count": 28,
      "metadata": {
        "colab": {
          "base_uri": "https://localhost:8080/"
        },
        "id": "f-j9x9qL10qd",
        "outputId": "dfd236d1-f048-4a54-dd54-9b91096ae7e1"
      },
      "outputs": [
        {
          "output_type": "stream",
          "name": "stdout",
          "text": [
            "['Accident_Severity', 'Latitude', 'Longitude', 'Local_Authority_(District)', 'LSOA_of_Accident_Location', 'Number_of_Casualties', 'Number_of_Vehicles', 'Police_Force', 'InScotland', 'Date_dt', 'Hour', 'Weekday_Num', 'Month', 'Day_of_Week_Label', 'Year', 'Season', 'Time_of_Day', 'Urban_Rural_Label', 'Weather_Label', 'Road_Surface_Label', 'Road_Type_Label', 'Light_Label', 'Speed_Bin']\n"
          ]
        }
      ],
      "source": [
        "# Assuming your cleaned DataFrame is `as_accident_level`\n",
        "print(as_accident_level.columns.tolist())\n"
      ]
    },
    {
      "cell_type": "markdown",
      "source": [
        "# EDA- Target distribution-checking for imbalance"
      ],
      "metadata": {
        "id": "ekDPpS5rmYwd"
      }
    },
    {
      "cell_type": "code",
      "execution_count": 29,
      "metadata": {
        "colab": {
          "base_uri": "https://localhost:8080/",
          "height": 407
        },
        "id": "rw_9SgDvT3qK",
        "outputId": "1e68d25b-add1-4ca2-98ad-10439b01e83d"
      },
      "outputs": [
        {
          "output_type": "display_data",
          "data": {
            "text/plain": [
              "<Figure size 600x400 with 1 Axes>"
            ],
            "image/png": "[encoded data removed]"
          },
          "metadata": {}
        }
      ],
      "source": [
        "# Ensure 'Accident_Severity' column exists and has the correct categories\n",
        "order = ['Slight', 'Serious', 'Fatal']\n",
        "\n",
        "plt.figure(figsize=(6, 4))\n",
        "sns.countplot(\n",
        "    data=as_accident_level,\n",
        "    x='Accident_Severity',\n",
        "    hue='Accident_Severity',          # Add this to avoid the future warning\n",
        "    order=order,\n",
        "    palette='Set2',                   # Choose a visually appealing palette\n",
        "    edgecolor='black',\n",
        "    legend=False                      # Remove redundant legend\n",
        ")\n",
        "\n",
        "plt.title('Accident Severity Distribution', fontsize=14)\n",
        "plt.xlabel('Severity Level', fontsize=12)\n",
        "plt.ylabel('Count', fontsize=12)\n",
        "plt.tight_layout()\n",
        "plt.grid(axis='y', linestyle='--', alpha=0.7)\n",
        "plt.show()\n"
      ]
    },
    {
      "cell_type": "code",
      "source": [],
      "metadata": {
        "id": "fT_hyg4lmgLK"
      },
      "execution_count": null,
      "outputs": []
    },
    {
      "cell_type": "markdown",
      "source": [
        "## EDA PLOTS"
      ],
      "metadata": {
        "id": "96KbI0Osmiyz"
      }
    },
    {
      "cell_type": "code",
      "execution_count": 30,
      "metadata": {
        "colab": {
          "base_uri": "https://localhost:8080/",
          "height": 607
        },
        "id": "uGArStF7UNtx",
        "outputId": "8dfa074b-869f-425a-8c1d-9fd26db18e8a"
      },
      "outputs": [
        {
          "output_type": "display_data",
          "data": {
            "text/plain": [
              "<Figure size 1000x600 with 1 Axes>"
            ],
            "image/png": "[encoded data removed]"
          },
          "metadata": {}
        }
      ],
      "source": [
        "plt.figure(figsize=(10, 6))\n",
        "sns.countplot(data=as_accident_level, x='Weather_Label', hue='Accident_Severity', palette='Set2')\n",
        "plt.title('Accident Severity by Weather Condition')\n",
        "plt.xlabel('Weather Condition')\n",
        "plt.ylabel('Count')\n",
        "plt.xticks(rotation=45)\n",
        "plt.legend(title='Severity')\n",
        "plt.tight_layout()\n",
        "plt.show()\n"
      ]
    },
    {
      "cell_type": "code",
      "execution_count": 31,
      "metadata": {
        "colab": {
          "base_uri": "https://localhost:8080/",
          "height": 507
        },
        "id": "xX88QCv_VEW2",
        "outputId": "b9f96c28-415a-4b8c-c1b7-77bf1841fb57"
      },
      "outputs": [
        {
          "output_type": "display_data",
          "data": {
            "text/plain": [
              "<Figure size 800x500 with 1 Axes>"
            ],
            "image/png": "[encoded data removed]"
          },
          "metadata": {}
        }
      ],
      "source": [
        "plt.figure(figsize=(8, 5))\n",
        "sns.countplot(data=as_accident_level, x='Time_of_Day', hue='Accident_Severity', palette='coolwarm')\n",
        "plt.title('Accident Severity by Time of Day')\n",
        "plt.xlabel('Time of Day')\n",
        "plt.ylabel('Accident Count')\n",
        "plt.legend(title='Severity')\n",
        "plt.tight_layout()\n",
        "plt.show()\n"
      ]
    },
    {
      "cell_type": "code",
      "execution_count": 32,
      "metadata": {
        "colab": {
          "base_uri": "https://localhost:8080/",
          "height": 507
        },
        "id": "uMhjAST6VTZd",
        "outputId": "58411a4e-cced-4301-d581-59a1d5fce83e"
      },
      "outputs": [
        {
          "output_type": "display_data",
          "data": {
            "text/plain": [
              "<Figure size 1000x500 with 1 Axes>"
            ],
            "image/png": "[encoded data removed]"
          },
          "metadata": {}
        }
      ],
      "source": [
        "\n",
        "plt.figure(figsize=(10, 5))\n",
        "\n",
        "# Use a well-contrasted palette manually\n",
        "custom_palette = {'Slight': '#1f77b4', 'Serious': '#ff7f0e', 'Fatal': '#d62728'}\n",
        "\n",
        "sns.countplot(\n",
        "    data=as_accident_level,\n",
        "    x='Month',\n",
        "    hue='Accident_Severity',\n",
        "    palette=custom_palette,\n",
        "    edgecolor='black'\n",
        ")\n",
        "\n",
        "plt.title('Monthly Accident Counts by Severity', fontsize=14)\n",
        "plt.xlabel('Month (1=Jan, 12=Dec)')\n",
        "plt.ylabel('Number of Accidents')\n",
        "plt.xticks(ticks=range(0, 12), labels=[\n",
        "    'Jan', 'Feb', 'Mar', 'Apr', 'May', 'Jun',\n",
        "    'Jul', 'Aug', 'Sep', 'Oct', 'Nov', 'Dec'\n",
        "])\n",
        "plt.grid(axis='y', linestyle='--', alpha=0.7)\n",
        "\n",
        "# Move legend outside the plot area to the top right\n",
        "plt.legend(title='Severity', loc='upper left', bbox_to_anchor=(1, 1))\n",
        "\n",
        "plt.tight_layout()\n",
        "plt.show()\n",
        "\n"
      ]
    },
    {
      "cell_type": "code",
      "execution_count": 33,
      "metadata": {
        "colab": {
          "base_uri": "https://localhost:8080/",
          "height": 507
        },
        "id": "9votNxRBW9bU",
        "outputId": "fc888cce-2336-4f3d-f52a-7f0f9ff81c05"
      },
      "outputs": [
        {
          "output_type": "display_data",
          "data": {
            "text/plain": [
              "<Figure size 800x500 with 1 Axes>"
            ],
            "image/png": "[encoded data removed]"
          },
          "metadata": {}
        }
      ],
      "source": [
        "plt.figure(figsize=(8, 5))\n",
        "sns.countplot(\n",
        "    data=as_accident_level,\n",
        "    x='Urban_Rural_Label',\n",
        "    hue='Accident_Severity',\n",
        "    palette='Set2'\n",
        ")\n",
        "plt.title('Accident Severity: Urban vs Rural', fontsize=14)\n",
        "plt.xlabel('Location Type')\n",
        "plt.ylabel('Accident Count')\n",
        "plt.legend(title='Severity')\n",
        "plt.tight_layout()\n",
        "plt.show()\n"
      ]
    },
    {
      "cell_type": "code",
      "execution_count": 34,
      "metadata": {
        "colab": {
          "base_uri": "https://localhost:8080/"
        },
        "id": "AtBOl7Buk76E",
        "outputId": "0173e447-8266-4995-be5b-3e99215b289e"
      },
      "outputs": [
        {
          "output_type": "stream",
          "name": "stdout",
          "text": [
            "Accident_Severity Local_Authority_(District)  Slight  Serious  Fatal  \\\n",
            "24                                Birmingham   34400     4924    338   \n",
            "192                                    Leeds   23372     3696    260   \n",
            "398                              Westminster   17059     2597    118   \n",
            "144                             Glasgow City   15836     2552    167   \n",
            "35                                  Bradford   15530     2430    187   \n",
            "205                               Manchester   15814     2131    168   \n",
            "299                                Sheffield   14757     2415    139   \n",
            "198                                Liverpool   14544     2599    138   \n",
            "126                       Edinburgh, City of   13655     2008    105   \n",
            "190                                  Lambeth   13013     1844     86   \n",
            "\n",
            "Accident_Severity  Total_Accidents  \n",
            "24                           39662  \n",
            "192                          27328  \n",
            "398                          19774  \n",
            "144                          18555  \n",
            "35                           18147  \n",
            "205                          18113  \n",
            "299                          17311  \n",
            "198                          17281  \n",
            "126                          15768  \n",
            "190                          14943  \n"
          ]
        }
      ],
      "source": [
        "# Group by district and accident severity, count occurrences\n",
        "severity_counts = as_accident_level.groupby(\n",
        "    ['Local_Authority_(District)', 'Accident_Severity']\n",
        ").size().unstack(fill_value=0)\n",
        "\n",
        "# Reorder columns just in case\n",
        "severity_counts = severity_counts[['Slight', 'Serious', 'Fatal']]\n",
        "\n",
        "# Total all severities\n",
        "severity_counts['Total_Accidents'] = severity_counts.sum(axis=1)\n",
        "\n",
        "# Ensure it's a DataFrame\n",
        "severity_counts = severity_counts.reset_index()\n",
        "\n",
        "# Sort descending by total\n",
        "severity_sorted = severity_counts.sort_values(by='Total_Accidents', ascending=False)\n",
        "\n",
        "# Show top 10 districts\n",
        "print(severity_sorted.head(10))\n",
        "\n",
        "\n"
      ]
    },
    {
      "cell_type": "code",
      "execution_count": 35,
      "metadata": {
        "colab": {
          "base_uri": "https://localhost:8080/",
          "height": 786
        },
        "id": "glOKl46M0KOI",
        "outputId": "86f0a50e-f43f-4784-c087-2aa4f0e0adba"
      },
      "outputs": [
        {
          "output_type": "execute_result",
          "data": {
            "text/plain": [
              "<folium.folium.Map at 0x7b61b8601490>"
            ],
            "text/html": [
              "<div style=\"width:100%;\"><div style=\"position:relative;width:100%;height:0;padding-bottom:60%;\"><span style=\"color:#565656\">Make this Notebook Trusted to load map: File -> Trust Notebook</span><iframe srcdoc=\"&lt;!DOCTYPE html&gt;\n",
              "&lt;html&gt;\n",
              "&lt;head&gt;\n",
              "    \n",
              "    &lt;meta http-equiv=&quot;content-type&quot; content=&quot;text/html; charset=UTF-8&quot; /&gt;\n",
              "    &lt;script src=&quot;https://cdn.jsdelivr.net/npm/leaflet@1.9.3/dist/leaflet.js&quot;&gt;&lt;/script&gt;\n",
              "    &lt;script src=&quot;https://code.jquery.com/jquery-3.7.1.min.js&quot;&gt;&lt;/script&gt;\n",
              "    &lt;script src=&quot;https://cdn.jsdelivr.net/npm/bootstrap@5.2.2/dist/js/bootstrap.bundle.min.js&quot;&gt;&lt;/script&gt;\n",
              "    &lt;script src=&quot;https://cdnjs.cloudflare.com/ajax/libs/Leaflet.awesome-markers/2.0.2/leaflet.awesome-markers.js&quot;&gt;&lt;/script&gt;\n",
              "    &lt;link rel=&quot;stylesheet&quot; href=&quot;https://cdn.jsdelivr.net/npm/leaflet@1.9.3/dist/leaflet.css&quot;/&gt;\n",
              "    &lt;link rel=&quot;stylesheet&quot; href=&quot;https://cdn.jsdelivr.net/npm/bootstrap@5.2.2/dist/css/bootstrap.min.css&quot;/&gt;\n",
              "    &lt;link rel=&quot;stylesheet&quot; href=&quot;https://netdna.bootstrapcdn.com/bootstrap/3.0.0/css/bootstrap-glyphicons.css&quot;/&gt;\n",
              "    &lt;link rel=&quot;stylesheet&quot; href=&quot;https://cdn.jsdelivr.net/npm/@fortawesome/fontawesome-free@6.2.0/css/all.min.css&quot;/&gt;\n",
              "    &lt;link rel=&quot;stylesheet&quot; href=&quot;https://cdnjs.cloudflare.com/ajax/libs/Leaflet.awesome-markers/2.0.2/leaflet.awesome-markers.css&quot;/&gt;\n",
              "    &lt;link rel=&quot;stylesheet&quot; href=&quot;https://cdn.jsdelivr.net/gh/python-visualization/folium/folium/templates/leaflet.awesome.rotate.min.css&quot;/&gt;\n",
              "    \n",
              "            &lt;meta name=&quot;viewport&quot; content=&quot;width=device-width,\n",
              "                initial-scale=1.0, maximum-scale=1.0, user-scalable=no&quot; /&gt;\n",
              "            &lt;style&gt;\n",
              "                #map_eb2dd591686983ae3a13203585166a2b {\n",
              "                    position: relative;\n",
              "                    width: 100.0%;\n",
              "                    height: 100.0%;\n",
              "                    left: 0.0%;\n",
              "                    top: 0.0%;\n",
              "                }\n",
              "                .leaflet-container { font-size: 1rem; }\n",
              "            &lt;/style&gt;\n",
              "\n",
              "            &lt;style&gt;html, body {\n",
              "                width: 100%;\n",
              "                height: 100%;\n",
              "                margin: 0;\n",
              "                padding: 0;\n",
              "            }\n",
              "            &lt;/style&gt;\n",
              "\n",
              "            &lt;style&gt;#map {\n",
              "                position:absolute;\n",
              "                top:0;\n",
              "                bottom:0;\n",
              "                right:0;\n",
              "                left:0;\n",
              "                }\n",
              "            &lt;/style&gt;\n",
              "\n",
              "            &lt;script&gt;\n",
              "                L_NO_TOUCH = false;\n",
              "                L_DISABLE_3D = false;\n",
              "            &lt;/script&gt;\n",
              "\n",
              "        \n",
              "&lt;/head&gt;\n",
              "&lt;body&gt;\n",
              "    \n",
              "    \n",
              "            &lt;div class=&quot;folium-map&quot; id=&quot;map_eb2dd591686983ae3a13203585166a2b&quot; &gt;&lt;/div&gt;\n",
              "        \n",
              "&lt;/body&gt;\n",
              "&lt;script&gt;\n",
              "    \n",
              "    \n",
              "            var map_eb2dd591686983ae3a13203585166a2b = L.map(\n",
              "                &quot;map_eb2dd591686983ae3a13203585166a2b&quot;,\n",
              "                {\n",
              "                    center: [54.5, -3.0],\n",
              "                    crs: L.CRS.EPSG3857,\n",
              "                    ...{\n",
              "  &quot;maxBounds&quot;: [\n",
              "[\n",
              "-90,\n",
              "-180,\n",
              "],\n",
              "[\n",
              "90,\n",
              "180,\n",
              "],\n",
              "],\n",
              "  &quot;zoom&quot;: 6,\n",
              "  &quot;zoomControl&quot;: true,\n",
              "  &quot;preferCanvas&quot;: false,\n",
              "}\n",
              "\n",
              "                }\n",
              "            );\n",
              "\n",
              "            \n",
              "\n",
              "        \n",
              "    \n",
              "            var tile_layer_dab3aa8f856712e8c95f38e9eb3ea387 = L.tileLayer(\n",
              "                &quot;https://{s}.basemaps.cartocdn.com/light_all/{z}/{x}/{y}{r}.png&quot;,\n",
              "                {\n",
              "  &quot;minZoom&quot;: 5,\n",
              "  &quot;maxZoom&quot;: 20,\n",
              "  &quot;maxNativeZoom&quot;: 20,\n",
              "  &quot;noWrap&quot;: false,\n",
              "  &quot;attribution&quot;: &quot;\\u0026copy; \\u003ca href=\\&quot;https://www.openstreetmap.org/copyright\\&quot;\\u003eOpenStreetMap\\u003c/a\\u003e contributors \\u0026copy; \\u003ca href=\\&quot;https://carto.com/attributions\\&quot;\\u003eCARTO\\u003c/a\\u003e&quot;,\n",
              "  &quot;subdomains&quot;: &quot;abcd&quot;,\n",
              "  &quot;detectRetina&quot;: false,\n",
              "  &quot;tms&quot;: false,\n",
              "  &quot;opacity&quot;: 1,\n",
              "}\n",
              "\n",
              "            );\n",
              "        \n",
              "    \n",
              "            tile_layer_dab3aa8f856712e8c95f38e9eb3ea387.addTo(map_eb2dd591686983ae3a13203585166a2b);\n",
              "        \n",
              "    \n",
              "            map_eb2dd591686983ae3a13203585166a2b.fitBounds(\n",
              "                [[49.8, -8.6], [60.9, 1.8]],\n",
              "                {}\n",
              "            );\n",
              "        \n",
              "    \n",
              "            var marker_d1487855bbfdffde3160db35f219732e = L.marker(\n",
              "                [52.4779249997983, -1.8811073939034846],\n",
              "                {\n",
              "}\n",
              "            ).addTo(map_eb2dd591686983ae3a13203585166a2b);\n",
              "        \n",
              "    \n",
              "            var icon_33826e868bf5e04c25877c2530bbe6fa = L.AwesomeMarkers.icon(\n",
              "                {\n",
              "  &quot;markerColor&quot;: &quot;red&quot;,\n",
              "  &quot;iconColor&quot;: &quot;white&quot;,\n",
              "  &quot;icon&quot;: &quot;info-sign&quot;,\n",
              "  &quot;prefix&quot;: &quot;glyphicon&quot;,\n",
              "  &quot;extraClasses&quot;: &quot;fa-rotate-0&quot;,\n",
              "}\n",
              "            );\n",
              "        \n",
              "    \n",
              "        var popup_3b1f438ca8bdc7cbc323c9e9679fe2f6 = L.popup({\n",
              "  &quot;maxWidth&quot;: 250,\n",
              "});\n",
              "\n",
              "        \n",
              "            \n",
              "                var html_1207810af5f56b08b02be84a167154d3 = $(`&lt;div id=&quot;html_1207810af5f56b08b02be84a167154d3&quot; style=&quot;width: 100.0%; height: 100.0%;&quot;&gt;&lt;b&gt;Birmingham&lt;/b&gt;&lt;br&gt;Accidents: 39662&lt;/div&gt;`)[0];\n",
              "                popup_3b1f438ca8bdc7cbc323c9e9679fe2f6.setContent(html_1207810af5f56b08b02be84a167154d3);\n",
              "            \n",
              "        \n",
              "\n",
              "        marker_d1487855bbfdffde3160db35f219732e.bindPopup(popup_3b1f438ca8bdc7cbc323c9e9679fe2f6)\n",
              "        ;\n",
              "\n",
              "        \n",
              "    \n",
              "    \n",
              "                marker_d1487855bbfdffde3160db35f219732e.setIcon(icon_33826e868bf5e04c25877c2530bbe6fa);\n",
              "            \n",
              "    \n",
              "            var marker_9f70d0f0e68d9b688af15e8a6284fdb9 = L.marker(\n",
              "                [53.80410128897102, -1.5491785740266393],\n",
              "                {\n",
              "}\n",
              "            ).addTo(map_eb2dd591686983ae3a13203585166a2b);\n",
              "        \n",
              "    \n",
              "            var icon_2bd88ac726b1e1d218f74ea48b81de0c = L.AwesomeMarkers.icon(\n",
              "                {\n",
              "  &quot;markerColor&quot;: &quot;red&quot;,\n",
              "  &quot;iconColor&quot;: &quot;white&quot;,\n",
              "  &quot;icon&quot;: &quot;info-sign&quot;,\n",
              "  &quot;prefix&quot;: &quot;glyphicon&quot;,\n",
              "  &quot;extraClasses&quot;: &quot;fa-rotate-0&quot;,\n",
              "}\n",
              "            );\n",
              "        \n",
              "    \n",
              "        var popup_45a1175aca3bb892998bbc276fab9d52 = L.popup({\n",
              "  &quot;maxWidth&quot;: 250,\n",
              "});\n",
              "\n",
              "        \n",
              "            \n",
              "                var html_9922c4e0071e969ebd2e390e8deb2622 = $(`&lt;div id=&quot;html_9922c4e0071e969ebd2e390e8deb2622&quot; style=&quot;width: 100.0%; height: 100.0%;&quot;&gt;&lt;b&gt;Leeds&lt;/b&gt;&lt;br&gt;Accidents: 27328&lt;/div&gt;`)[0];\n",
              "                popup_45a1175aca3bb892998bbc276fab9d52.setContent(html_9922c4e0071e969ebd2e390e8deb2622);\n",
              "            \n",
              "        \n",
              "\n",
              "        marker_9f70d0f0e68d9b688af15e8a6284fdb9.bindPopup(popup_45a1175aca3bb892998bbc276fab9d52)\n",
              "        ;\n",
              "\n",
              "        \n",
              "    \n",
              "    \n",
              "                marker_9f70d0f0e68d9b688af15e8a6284fdb9.setIcon(icon_2bd88ac726b1e1d218f74ea48b81de0c);\n",
              "            \n",
              "    \n",
              "            var marker_6bcfbcef1be4b1be0656c42e24582544 = L.marker(\n",
              "                [51.51216678724588, -0.1534964868008496],\n",
              "                {\n",
              "}\n",
              "            ).addTo(map_eb2dd591686983ae3a13203585166a2b);\n",
              "        \n",
              "    \n",
              "            var icon_b7ad6469d96bd6d391877c29ca5183ad = L.AwesomeMarkers.icon(\n",
              "                {\n",
              "  &quot;markerColor&quot;: &quot;red&quot;,\n",
              "  &quot;iconColor&quot;: &quot;white&quot;,\n",
              "  &quot;icon&quot;: &quot;info-sign&quot;,\n",
              "  &quot;prefix&quot;: &quot;glyphicon&quot;,\n",
              "  &quot;extraClasses&quot;: &quot;fa-rotate-0&quot;,\n",
              "}\n",
              "            );\n",
              "        \n",
              "    \n",
              "        var popup_8946317a72e72d138237a3d75b830d8e = L.popup({\n",
              "  &quot;maxWidth&quot;: 250,\n",
              "});\n",
              "\n",
              "        \n",
              "            \n",
              "                var html_97bb8e4255c1ad70f5b8c2d10f6558e9 = $(`&lt;div id=&quot;html_97bb8e4255c1ad70f5b8c2d10f6558e9&quot; style=&quot;width: 100.0%; height: 100.0%;&quot;&gt;&lt;b&gt;Westminster&lt;/b&gt;&lt;br&gt;Accidents: 19774&lt;/div&gt;`)[0];\n",
              "                popup_8946317a72e72d138237a3d75b830d8e.setContent(html_97bb8e4255c1ad70f5b8c2d10f6558e9);\n",
              "            \n",
              "        \n",
              "\n",
              "        marker_6bcfbcef1be4b1be0656c42e24582544.bindPopup(popup_8946317a72e72d138237a3d75b830d8e)\n",
              "        ;\n",
              "\n",
              "        \n",
              "    \n",
              "    \n",
              "                marker_6bcfbcef1be4b1be0656c42e24582544.setIcon(icon_b7ad6469d96bd6d391877c29ca5183ad);\n",
              "            \n",
              "    \n",
              "            var marker_6c8285e88f2dfade0896ebe58fa7fc20 = L.marker(\n",
              "                [55.858273551657234, -4.261185348046349],\n",
              "                {\n",
              "}\n",
              "            ).addTo(map_eb2dd591686983ae3a13203585166a2b);\n",
              "        \n",
              "    \n",
              "            var icon_909fb483ffbb14b2157a0b3525341ea4 = L.AwesomeMarkers.icon(\n",
              "                {\n",
              "  &quot;markerColor&quot;: &quot;red&quot;,\n",
              "  &quot;iconColor&quot;: &quot;white&quot;,\n",
              "  &quot;icon&quot;: &quot;info-sign&quot;,\n",
              "  &quot;prefix&quot;: &quot;glyphicon&quot;,\n",
              "  &quot;extraClasses&quot;: &quot;fa-rotate-0&quot;,\n",
              "}\n",
              "            );\n",
              "        \n",
              "    \n",
              "        var popup_f5105cadc6648b40b7fe6947ac27b310 = L.popup({\n",
              "  &quot;maxWidth&quot;: 250,\n",
              "});\n",
              "\n",
              "        \n",
              "            \n",
              "                var html_5e9fb944f0506c4f44d0136a1aaaa685 = $(`&lt;div id=&quot;html_5e9fb944f0506c4f44d0136a1aaaa685&quot; style=&quot;width: 100.0%; height: 100.0%;&quot;&gt;&lt;b&gt;Glasgow City&lt;/b&gt;&lt;br&gt;Accidents: 18555&lt;/div&gt;`)[0];\n",
              "                popup_f5105cadc6648b40b7fe6947ac27b310.setContent(html_5e9fb944f0506c4f44d0136a1aaaa685);\n",
              "            \n",
              "        \n",
              "\n",
              "        marker_6c8285e88f2dfade0896ebe58fa7fc20.bindPopup(popup_f5105cadc6648b40b7fe6947ac27b310)\n",
              "        ;\n",
              "\n",
              "        \n",
              "    \n",
              "    \n",
              "                marker_6c8285e88f2dfade0896ebe58fa7fc20.setIcon(icon_909fb483ffbb14b2157a0b3525341ea4);\n",
              "            \n",
              "    \n",
              "            var marker_62fbbfe0a6789d3dabf4f52fa34673c4 = L.marker(\n",
              "                [53.81135455215738, -1.7878398857111368],\n",
              "                {\n",
              "}\n",
              "            ).addTo(map_eb2dd591686983ae3a13203585166a2b);\n",
              "        \n",
              "    \n",
              "            var icon_e3a2feb1f9991f322c4298d1c32ad0bc = L.AwesomeMarkers.icon(\n",
              "                {\n",
              "  &quot;markerColor&quot;: &quot;red&quot;,\n",
              "  &quot;iconColor&quot;: &quot;white&quot;,\n",
              "  &quot;icon&quot;: &quot;info-sign&quot;,\n",
              "  &quot;prefix&quot;: &quot;glyphicon&quot;,\n",
              "  &quot;extraClasses&quot;: &quot;fa-rotate-0&quot;,\n",
              "}\n",
              "            );\n",
              "        \n",
              "    \n",
              "        var popup_3f69f4a93b68a5e7a2f4125e87da806c = L.popup({\n",
              "  &quot;maxWidth&quot;: 250,\n",
              "});\n",
              "\n",
              "        \n",
              "            \n",
              "                var html_71f0c725b0771d648b96a19035e88cbd = $(`&lt;div id=&quot;html_71f0c725b0771d648b96a19035e88cbd&quot; style=&quot;width: 100.0%; height: 100.0%;&quot;&gt;&lt;b&gt;Bradford&lt;/b&gt;&lt;br&gt;Accidents: 18147&lt;/div&gt;`)[0];\n",
              "                popup_3f69f4a93b68a5e7a2f4125e87da806c.setContent(html_71f0c725b0771d648b96a19035e88cbd);\n",
              "            \n",
              "        \n",
              "\n",
              "        marker_62fbbfe0a6789d3dabf4f52fa34673c4.bindPopup(popup_3f69f4a93b68a5e7a2f4125e87da806c)\n",
              "        ;\n",
              "\n",
              "        \n",
              "    \n",
              "    \n",
              "                marker_62fbbfe0a6789d3dabf4f52fa34673c4.setIcon(icon_e3a2feb1f9991f322c4298d1c32ad0bc);\n",
              "            \n",
              "    \n",
              "            var marker_63472cac75dd37ff7583635b6a1a3cda = L.marker(\n",
              "                [53.46169403516811, -2.2280980331253795],\n",
              "                {\n",
              "}\n",
              "            ).addTo(map_eb2dd591686983ae3a13203585166a2b);\n",
              "        \n",
              "    \n",
              "            var icon_29ade2f946fcc8b1ab84864709ffac7f = L.AwesomeMarkers.icon(\n",
              "                {\n",
              "  &quot;markerColor&quot;: &quot;red&quot;,\n",
              "  &quot;iconColor&quot;: &quot;white&quot;,\n",
              "  &quot;icon&quot;: &quot;info-sign&quot;,\n",
              "  &quot;prefix&quot;: &quot;glyphicon&quot;,\n",
              "  &quot;extraClasses&quot;: &quot;fa-rotate-0&quot;,\n",
              "}\n",
              "            );\n",
              "        \n",
              "    \n",
              "        var popup_a02452f628a4fa7e3a0abe90051c9338 = L.popup({\n",
              "  &quot;maxWidth&quot;: 250,\n",
              "});\n",
              "\n",
              "        \n",
              "            \n",
              "                var html_c332b2bd659046cbe88bfe26a1833d84 = $(`&lt;div id=&quot;html_c332b2bd659046cbe88bfe26a1833d84&quot; style=&quot;width: 100.0%; height: 100.0%;&quot;&gt;&lt;b&gt;Manchester&lt;/b&gt;&lt;br&gt;Accidents: 18113&lt;/div&gt;`)[0];\n",
              "                popup_a02452f628a4fa7e3a0abe90051c9338.setContent(html_c332b2bd659046cbe88bfe26a1833d84);\n",
              "            \n",
              "        \n",
              "\n",
              "        marker_63472cac75dd37ff7583635b6a1a3cda.bindPopup(popup_a02452f628a4fa7e3a0abe90051c9338)\n",
              "        ;\n",
              "\n",
              "        \n",
              "    \n",
              "    \n",
              "                marker_63472cac75dd37ff7583635b6a1a3cda.setIcon(icon_29ade2f946fcc8b1ab84864709ffac7f);\n",
              "            \n",
              "    \n",
              "            var marker_b9aaf163be1f31945cb13229774d4dcb = L.marker(\n",
              "                [53.38647888764369, -1.4599756301773439],\n",
              "                {\n",
              "}\n",
              "            ).addTo(map_eb2dd591686983ae3a13203585166a2b);\n",
              "        \n",
              "    \n",
              "            var icon_e1c81513f32ea5eee360032701f53240 = L.AwesomeMarkers.icon(\n",
              "                {\n",
              "  &quot;markerColor&quot;: &quot;red&quot;,\n",
              "  &quot;iconColor&quot;: &quot;white&quot;,\n",
              "  &quot;icon&quot;: &quot;info-sign&quot;,\n",
              "  &quot;prefix&quot;: &quot;glyphicon&quot;,\n",
              "  &quot;extraClasses&quot;: &quot;fa-rotate-0&quot;,\n",
              "}\n",
              "            );\n",
              "        \n",
              "    \n",
              "        var popup_9aa90ecbbf66e9267841ca1c6ca0ccaa = L.popup({\n",
              "  &quot;maxWidth&quot;: 250,\n",
              "});\n",
              "\n",
              "        \n",
              "            \n",
              "                var html_15044941a6d1db2bb6c08f87d09bec12 = $(`&lt;div id=&quot;html_15044941a6d1db2bb6c08f87d09bec12&quot; style=&quot;width: 100.0%; height: 100.0%;&quot;&gt;&lt;b&gt;Sheffield&lt;/b&gt;&lt;br&gt;Accidents: 17311&lt;/div&gt;`)[0];\n",
              "                popup_9aa90ecbbf66e9267841ca1c6ca0ccaa.setContent(html_15044941a6d1db2bb6c08f87d09bec12);\n",
              "            \n",
              "        \n",
              "\n",
              "        marker_b9aaf163be1f31945cb13229774d4dcb.bindPopup(popup_9aa90ecbbf66e9267841ca1c6ca0ccaa)\n",
              "        ;\n",
              "\n",
              "        \n",
              "    \n",
              "    \n",
              "                marker_b9aaf163be1f31945cb13229774d4dcb.setIcon(icon_e1c81513f32ea5eee360032701f53240);\n",
              "            \n",
              "    \n",
              "            var marker_79efe2e27463b14633cf886a281d5c5a = L.marker(\n",
              "                [53.41080629107112, -2.9344662280539318],\n",
              "                {\n",
              "}\n",
              "            ).addTo(map_eb2dd591686983ae3a13203585166a2b);\n",
              "        \n",
              "    \n",
              "            var icon_2ffb49c0de1c695ef7d14a19a23e5725 = L.AwesomeMarkers.icon(\n",
              "                {\n",
              "  &quot;markerColor&quot;: &quot;red&quot;,\n",
              "  &quot;iconColor&quot;: &quot;white&quot;,\n",
              "  &quot;icon&quot;: &quot;info-sign&quot;,\n",
              "  &quot;prefix&quot;: &quot;glyphicon&quot;,\n",
              "  &quot;extraClasses&quot;: &quot;fa-rotate-0&quot;,\n",
              "}\n",
              "            );\n",
              "        \n",
              "    \n",
              "        var popup_8dbaf0fec255530cedcd32d15e89eedc = L.popup({\n",
              "  &quot;maxWidth&quot;: 250,\n",
              "});\n",
              "\n",
              "        \n",
              "            \n",
              "                var html_73b9c05120793b11bb4284aab8886b72 = $(`&lt;div id=&quot;html_73b9c05120793b11bb4284aab8886b72&quot; style=&quot;width: 100.0%; height: 100.0%;&quot;&gt;&lt;b&gt;Liverpool&lt;/b&gt;&lt;br&gt;Accidents: 17281&lt;/div&gt;`)[0];\n",
              "                popup_8dbaf0fec255530cedcd32d15e89eedc.setContent(html_73b9c05120793b11bb4284aab8886b72);\n",
              "            \n",
              "        \n",
              "\n",
              "        marker_79efe2e27463b14633cf886a281d5c5a.bindPopup(popup_8dbaf0fec255530cedcd32d15e89eedc)\n",
              "        ;\n",
              "\n",
              "        \n",
              "    \n",
              "    \n",
              "                marker_79efe2e27463b14633cf886a281d5c5a.setIcon(icon_2ffb49c0de1c695ef7d14a19a23e5725);\n",
              "            \n",
              "    \n",
              "            var marker_6d3919dbd8a40dd5fa5df25863323c0d = L.marker(\n",
              "                [55.94341839237696, -3.2195320832699137],\n",
              "                {\n",
              "}\n",
              "            ).addTo(map_eb2dd591686983ae3a13203585166a2b);\n",
              "        \n",
              "    \n",
              "            var icon_9de2ef98021ef352d0bd72bd2d46a831 = L.AwesomeMarkers.icon(\n",
              "                {\n",
              "  &quot;markerColor&quot;: &quot;red&quot;,\n",
              "  &quot;iconColor&quot;: &quot;white&quot;,\n",
              "  &quot;icon&quot;: &quot;info-sign&quot;,\n",
              "  &quot;prefix&quot;: &quot;glyphicon&quot;,\n",
              "  &quot;extraClasses&quot;: &quot;fa-rotate-0&quot;,\n",
              "}\n",
              "            );\n",
              "        \n",
              "    \n",
              "        var popup_6cc1d5f1dbf08f6726d2d0a17020250c = L.popup({\n",
              "  &quot;maxWidth&quot;: 250,\n",
              "});\n",
              "\n",
              "        \n",
              "            \n",
              "                var html_4725215612afa293898cddcd7229809a = $(`&lt;div id=&quot;html_4725215612afa293898cddcd7229809a&quot; style=&quot;width: 100.0%; height: 100.0%;&quot;&gt;&lt;b&gt;Edinburgh, City of&lt;/b&gt;&lt;br&gt;Accidents: 15768&lt;/div&gt;`)[0];\n",
              "                popup_6cc1d5f1dbf08f6726d2d0a17020250c.setContent(html_4725215612afa293898cddcd7229809a);\n",
              "            \n",
              "        \n",
              "\n",
              "        marker_6d3919dbd8a40dd5fa5df25863323c0d.bindPopup(popup_6cc1d5f1dbf08f6726d2d0a17020250c)\n",
              "        ;\n",
              "\n",
              "        \n",
              "    \n",
              "    \n",
              "                marker_6d3919dbd8a40dd5fa5df25863323c0d.setIcon(icon_9de2ef98021ef352d0bd72bd2d46a831);\n",
              "            \n",
              "    \n",
              "            var marker_fc43b423390b4aafce65e236f13d77fe = L.marker(\n",
              "                [51.460695846215614, -0.11960424881215286],\n",
              "                {\n",
              "}\n",
              "            ).addTo(map_eb2dd591686983ae3a13203585166a2b);\n",
              "        \n",
              "    \n",
              "            var icon_ee45478042cca045ea49aa52b89ae799 = L.AwesomeMarkers.icon(\n",
              "                {\n",
              "  &quot;markerColor&quot;: &quot;red&quot;,\n",
              "  &quot;iconColor&quot;: &quot;white&quot;,\n",
              "  &quot;icon&quot;: &quot;info-sign&quot;,\n",
              "  &quot;prefix&quot;: &quot;glyphicon&quot;,\n",
              "  &quot;extraClasses&quot;: &quot;fa-rotate-0&quot;,\n",
              "}\n",
              "            );\n",
              "        \n",
              "    \n",
              "        var popup_441d6c490447f1d74b1ca0e739e7ece0 = L.popup({\n",
              "  &quot;maxWidth&quot;: 250,\n",
              "});\n",
              "\n",
              "        \n",
              "            \n",
              "                var html_60fda3679b11eb67c833f87a6a6008de = $(`&lt;div id=&quot;html_60fda3679b11eb67c833f87a6a6008de&quot; style=&quot;width: 100.0%; height: 100.0%;&quot;&gt;&lt;b&gt;Lambeth&lt;/b&gt;&lt;br&gt;Accidents: 14943&lt;/div&gt;`)[0];\n",
              "                popup_441d6c490447f1d74b1ca0e739e7ece0.setContent(html_60fda3679b11eb67c833f87a6a6008de);\n",
              "            \n",
              "        \n",
              "\n",
              "        marker_fc43b423390b4aafce65e236f13d77fe.bindPopup(popup_441d6c490447f1d74b1ca0e739e7ece0)\n",
              "        ;\n",
              "\n",
              "        \n",
              "    \n",
              "    \n",
              "                marker_fc43b423390b4aafce65e236f13d77fe.setIcon(icon_ee45478042cca045ea49aa52b89ae799);\n",
              "            \n",
              "&lt;/script&gt;\n",
              "&lt;/html&gt;\" style=\"position:absolute;width:100%;height:100%;left:0;top:0;border:none !important;\" allowfullscreen webkitallowfullscreen mozallowfullscreen></iframe></div></div>"
            ]
          },
          "metadata": {},
          "execution_count": 35
        }
      ],
      "source": [
        "# Step 1: Get top 10 local authorities by accident count\n",
        "top_areas = (\n",
        "    as_accident_level.groupby('Local_Authority_(District)')\n",
        "    .size()\n",
        "    .reset_index(name='Accident_Count')\n",
        "    .sort_values(by='Accident_Count', ascending=False)\n",
        "    .head(10)\n",
        ")\n",
        "\n",
        "# Step 2: Get average Lat/Lon per district\n",
        "location_data = (\n",
        "    as_accident_level.groupby('Local_Authority_(District)')[['Latitude', 'Longitude']]\n",
        "    .mean()\n",
        "    .reset_index()\n",
        ")\n",
        "\n",
        "# Step 3: Merge data\n",
        "top_10_map_data = pd.merge(top_areas, location_data, on='Local_Authority_(District)', how='left')\n",
        "\n",
        "# Step 4: Create UK-constrained Folium map\n",
        "m = folium.Map(\n",
        "    location=[54.5, -3],      # Center of UK\n",
        "    zoom_start=6,\n",
        "    tiles='CartoDB positron',\n",
        "    max_bounds=True,\n",
        "    min_zoom=5\n",
        ")\n",
        "\n",
        "# Constrain map to approximate UK bounding box\n",
        "m.fit_bounds([[49.8, -8.6], [60.9, 1.8]])\n",
        "\n",
        "# Step 5: Add top 10 accident markers\n",
        "for _, row in top_10_map_data.iterrows():\n",
        "    folium.Marker(\n",
        "        location=[row['Latitude'], row['Longitude']],\n",
        "        popup=folium.Popup(\n",
        "            f\"<b>{row['Local_Authority_(District)']}</b><br>Accidents: {row['Accident_Count']}\",\n",
        "            max_width=250),\n",
        "        icon=folium.Icon(color='red', icon='info-sign')\n",
        "    ).add_to(m)\n",
        "\n",
        "# Step 6: Display map in notebook\n",
        "m\n"
      ]
    },
    {
      "cell_type": "code",
      "execution_count": 36,
      "metadata": {
        "colab": {
          "base_uri": "https://localhost:8080/"
        },
        "id": "rNpHIq4n05xB",
        "outputId": "a2f7a82f-0040-476a-8b56-422de827703f"
      },
      "outputs": [
        {
          "output_type": "stream",
          "name": "stdout",
          "text": [
            "['Accident_Severity', 'Latitude', 'Longitude', 'Local_Authority_(District)', 'LSOA_of_Accident_Location', 'Number_of_Casualties', 'Number_of_Vehicles', 'Police_Force', 'InScotland', 'Date_dt', 'Hour', 'Weekday_Num', 'Month', 'Day_of_Week_Label', 'Year', 'Season', 'Time_of_Day', 'Urban_Rural_Label', 'Weather_Label', 'Road_Surface_Label', 'Road_Type_Label', 'Light_Label', 'Speed_Bin']\n"
          ]
        }
      ],
      "source": [
        "# Simply get a Python list of column names\n",
        "final_columns = list(as_accident_level.columns)\n",
        "print(final_columns)\n"
      ]
    },
    {
      "cell_type": "code",
      "source": [],
      "metadata": {
        "id": "jwj1Fn7Tmr63"
      },
      "execution_count": null,
      "outputs": []
    },
    {
      "cell_type": "markdown",
      "source": [
        "# DATA MODELING"
      ],
      "metadata": {
        "id": "35IPQ4CFmxSd"
      }
    },
    {
      "cell_type": "markdown",
      "source": [
        "## ENCODING THE FEATURES\n",
        "\n",
        "\n",
        "*   Not every columns data will be ordinal,in such cases label encoder cant be applied on every column ,hence in this dataset,the ordinal columns are applied with label encoding and rest categorical is included with onehot\n",
        "* The numerical columns are just used standard normalisation\n",
        "\n"
      ],
      "metadata": {
        "id": "kuCAfS6_m0bn"
      }
    },
    {
      "cell_type": "code",
      "execution_count": 37,
      "metadata": {
        "colab": {
          "base_uri": "https://localhost:8080/"
        },
        "id": "Qu_7V8KT2vjB",
        "outputId": "03668074-bef4-4975-c852-bc5e21a8aec3"
      },
      "outputs": [
        {
          "output_type": "stream",
          "name": "stdout",
          "text": [
            "Numeric features: ['Latitude', 'Longitude', 'Number_of_Casualties', 'Number_of_Vehicles', 'Hour']\n",
            "Categorical features: ['Accident_Severity', 'Local_Authority_(District)', 'LSOA_of_Accident_Location', 'Police_Force', 'InScotland', 'Day_of_Week_Label', 'Season', 'Time_of_Day', 'Urban_Rural_Label', 'Weather_Label', 'Road_Surface_Label', 'Road_Type_Label', 'Light_Label', 'Speed_Bin']\n"
          ]
        }
      ],
      "source": [
        "# Numerical columns (int or float)\n",
        "num_cols = as_accident_level.select_dtypes(include=['int64', 'float64']).columns.tolist()\n",
        "\n",
        "# Categorical columns (object or category)\n",
        "cat_cols = as_accident_level.select_dtypes(include=['object', 'category']).columns.tolist()\n",
        "\n",
        "print(\"Numeric features:\", num_cols)\n",
        "print(\"Categorical features:\", cat_cols)\n",
        "\n"
      ]
    },
    {
      "cell_type": "code",
      "execution_count": 38,
      "metadata": {
        "id": "VPhc0VSoM-BQ"
      },
      "outputs": [],
      "source": [
        "as_accident_level['Severe&Fatal'] = as_accident_level['Accident_Severity'].isin(['Serious', 'Fatal']).astype(int)\n",
        "\n",
        "# Step 2: Encode categorical features\n",
        "from sklearn.preprocessing import LabelEncoder\n",
        "\n",
        "# Label encode simpler categorical features\n",
        "label_encode_cols = ['Season', 'Time_of_Day', 'Urban_Rural_Label', 'Speed_Bin']\n",
        "label_encoders = {}\n",
        "for col in label_encode_cols:\n",
        "    le = LabelEncoder()\n",
        "    as_accident_level[col] = le.fit_transform(as_accident_level[col])\n",
        "    label_encoders[col] = le\n",
        "\n",
        "# One-hot encode multi-class features with no ordinal relationship\n",
        "onehot_encode_cols = ['Weather_Label', 'Light_Label', 'Road_Surface_Label', 'Road_Type_Label', 'Day_of_Week_Label']\n",
        "as_accident_encoded = pd.get_dummies(as_accident_level, columns=onehot_encode_cols, drop_first=True)\n",
        "\n",
        "# Step 3: Select features for modeling\n",
        "features = [\n",
        "    'Number_of_Casualties', 'Number_of_Vehicles', 'Hour', 'Weekday_Num', 'Month'\n",
        "] + label_encode_cols + [col for col in as_accident_encoded.columns if any(prefix in col for prefix in onehot_encode_cols)]\n",
        "target = 'Severe&Fatal'\n",
        "\n",
        "X = as_accident_encoded[features]\n",
        "y = as_accident_encoded[target]"
      ]
    },
    {
      "cell_type": "code",
      "execution_count": 39,
      "metadata": {
        "colab": {
          "base_uri": "https://localhost:8080/",
          "height": 498
        },
        "id": "mc_0aDFFYrja",
        "outputId": "d59df55a-ce00-4b7e-e53c-adf3cd52b304"
      },
      "outputs": [
        {
          "output_type": "stream",
          "name": "stderr",
          "text": [
            "/tmp/ipython-input-39-1573864618.py:2: FutureWarning: \n",
            "\n",
            "Passing `palette` without assigning `hue` is deprecated and will be removed in v0.14.0. Assign the `x` variable to `hue` and set `legend=False` for the same effect.\n",
            "\n",
            "  sns.countplot(data=as_accident_level, x='Severe&Fatal', palette='Set2')\n"
          ]
        },
        {
          "output_type": "display_data",
          "data": {
            "text/plain": [
              "<Figure size 600x400 with 1 Axes>"
            ],
            "image/png": "[encoded data removed]"
          },
          "metadata": {}
        }
      ],
      "source": [
        "\n",
        "plt.figure(figsize=(6, 4))\n",
        "sns.countplot(data=as_accident_level, x='Severe&Fatal', palette='Set2')\n",
        "plt.title('Distribution of Severe or Fatal Accidents', fontsize=14)\n",
        "plt.xlabel('Severe& Fatal (1 = Serious/Fatal, 0 = Slight)', fontsize=12)\n",
        "plt.ylabel('Count', fontsize=12)\n",
        "plt.grid(axis='y', linestyle='--', alpha=0.7)\n",
        "plt.tight_layout()\n",
        "plt.show()\n"
      ]
    },
    {
      "cell_type": "markdown",
      "source": [
        "# DOWN SAMPLING TO BALANCE DATA"
      ],
      "metadata": {
        "id": "3wdUshnZnjvb"
      }
    },
    {
      "cell_type": "code",
      "execution_count": 40,
      "metadata": {
        "id": "IXEfraaRbJLi"
      },
      "outputs": [],
      "source": [
        "from sklearn.utils import resample\n",
        "\n",
        "# Define features and target\n",
        "X = as_accident_encoded[features]\n",
        "y = as_accident_encoded['Severe&Fatal']  # ✅ updated column name\n",
        "\n",
        "# Combine into one DataFrame\n",
        "full_data = pd.concat([X, y], axis=1)\n",
        "\n",
        "# Split into majority and minority classes\n",
        "majority = full_data[full_data['Severe&Fatal'] == 0]\n",
        "minority = full_data[full_data['Severe&Fatal'] == 1]\n",
        "\n",
        "# Downsample majority class\n",
        "majority_downsampled = resample(\n",
        "    majority,\n",
        "    replace=False,\n",
        "    n_samples=len(minority) * 2,  # or use =len(minority) for full balance\n",
        "    random_state=42\n",
        ")\n",
        "\n",
        "# Combine downsampled majority with all minority\n",
        "balanced_df = pd.concat([majority_downsampled, minority])\n"
      ]
    },
    {
      "cell_type": "code",
      "execution_count": 41,
      "metadata": {
        "colab": {
          "base_uri": "https://localhost:8080/",
          "height": 1000
        },
        "id": "o6qR8-stY54g",
        "outputId": "b14899c1-7d41-456d-abc1-4a212e16cd43"
      },
      "outputs": [
        {
          "output_type": "stream",
          "name": "stderr",
          "text": [
            "/tmp/ipython-input-41-29734504.py:3: FutureWarning: \n",
            "\n",
            "Passing `palette` without assigning `hue` is deprecated and will be removed in v0.14.0. Assign the `x` variable to `hue` and set `legend=False` for the same effect.\n",
            "\n",
            "  sns.countplot(data=as_accident_level, x='Severe&Fatal', palette='Set2')\n"
          ]
        },
        {
          "output_type": "display_data",
          "data": {
            "text/plain": [
              "<Figure size 600x400 with 1 Axes>"
            ],
            "image/png": "[encoded data removed]"
          },
          "metadata": {}
        },
        {
          "output_type": "stream",
          "name": "stdout",
          "text": [
            "Class counts before downsampling:\n",
            "Severe&Fatal\n",
            "0    1734402\n",
            "1     312679\n",
            "Name: count, dtype: int64\n",
            "Severe/Fatal proportion: 15.274%\n"
          ]
        },
        {
          "output_type": "stream",
          "name": "stderr",
          "text": [
            "/tmp/ipython-input-41-29734504.py:18: FutureWarning: \n",
            "\n",
            "Passing `palette` without assigning `hue` is deprecated and will be removed in v0.14.0. Assign the `x` variable to `hue` and set `legend=False` for the same effect.\n",
            "\n",
            "  sns.countplot(data=balanced_df, x='Severe&Fatal', palette='Set1')\n"
          ]
        },
        {
          "output_type": "display_data",
          "data": {
            "text/plain": [
              "<Figure size 600x400 with 1 Axes>"
            ],
            "image/png": "[encoded data removed]"
          },
          "metadata": {}
        },
        {
          "output_type": "stream",
          "name": "stdout",
          "text": [
            "\n",
            "Class counts after downsampling:\n",
            "Severe&Fatal\n",
            "0    625358\n",
            "1    312679\n",
            "Name: count, dtype: int64\n",
            "New Severe/Fatal proportion: 33.333%\n"
          ]
        }
      ],
      "source": [
        "# BEFORE DOWNSAMPLING VISUALIZATION\n",
        "plt.figure(figsize=(6, 4))\n",
        "sns.countplot(data=as_accident_level, x='Severe&Fatal', palette='Set2')\n",
        "plt.title('Before Downsampling: Severe&Fatal Class Distribution')\n",
        "plt.xlabel('Severe & Fatal (1 = Serious/Fatal, 0 = Slight)')\n",
        "plt.ylabel('Count')\n",
        "plt.grid(axis='y', linestyle='--', alpha=0.7)\n",
        "plt.tight_layout()\n",
        "plt.show()\n",
        "\n",
        "print(\"Class counts before downsampling:\")\n",
        "print(as_accident_level['Severe&Fatal'].value_counts())\n",
        "print(f\"Severe/Fatal proportion: {as_accident_level['Severe&Fatal'].mean():.3%}\")\n",
        "\n",
        "# AFTER DOWNSAMPLING VISUALIZATION\n",
        "balanced_df = pd.concat([majority_downsampled, minority])\n",
        "plt.figure(figsize=(6, 4))\n",
        "sns.countplot(data=balanced_df, x='Severe&Fatal', palette='Set1')\n",
        "plt.title('After Downsampling: Severe&Fatal Class Distribution')\n",
        "plt.xlabel('Severe & Fatal (1 = Serious/Fatal, 0 = Slight)')\n",
        "plt.ylabel('Count')\n",
        "plt.grid(axis='y', linestyle='--', alpha=0.7)\n",
        "plt.tight_layout()\n",
        "plt.show()\n",
        "\n",
        "print(\"\\nClass counts after downsampling:\")\n",
        "print(balanced_df['Severe&Fatal'].value_counts())\n",
        "print(f\"New Severe/Fatal proportion: {balanced_df['Severe&Fatal'].mean():.3%}\")\n"
      ]
    },
    {
      "cell_type": "markdown",
      "source": [
        "# MODEL 1-LOGISTIC REGRESSION"
      ],
      "metadata": {
        "id": "WP7AuKpYn6f5"
      }
    },
    {
      "cell_type": "code",
      "execution_count": 42,
      "metadata": {
        "colab": {
          "base_uri": "https://localhost:8080/",
          "height": 681
        },
        "id": "iaWjec9Ib1gL",
        "outputId": "3297c215-6a3e-464f-eb23-875a3e7ae718"
      },
      "outputs": [
        {
          "output_type": "stream",
          "name": "stdout",
          "text": [
            "\n",
            "Logistic Regression Report:\n",
            "              precision    recall  f1-score   support\n",
            "\n",
            "           0       0.68      0.96      0.80    125072\n",
            "           1       0.57      0.10      0.17     62536\n",
            "\n",
            "    accuracy                           0.67    187608\n",
            "   macro avg       0.62      0.53      0.48    187608\n",
            "weighted avg       0.64      0.67      0.59    187608\n",
            "\n",
            "Confusion Matrix:\n",
            " [[120303   4769]\n",
            " [ 56280   6256]]\n",
            "ROC AUC Score: 0.6270837297959436\n"
          ]
        },
        {
          "output_type": "display_data",
          "data": {
            "text/plain": [
              "<Figure size 600x400 with 1 Axes>"
            ],
            "image/png": "[encoded data removed]"
          },
          "metadata": {}
        }
      ],
      "source": [
        "# === Logistic Regression on Already Downsampled Data ===\n",
        "\n",
        "from sklearn.model_selection import train_test_split\n",
        "from sklearn.linear_model import LogisticRegression\n",
        "from sklearn.metrics import classification_report, confusion_matrix, roc_auc_score, precision_recall_curve\n",
        "import matplotlib.pyplot as plt\n",
        "\n",
        "# 1. Features and Target\n",
        "X = balanced_df.drop(columns=['Severe&Fatal'])\n",
        "y = balanced_df['Severe&Fatal']\n",
        "\n",
        "# 2. Train-Test Split\n",
        "X_train, X_test, y_train, y_test = train_test_split(\n",
        "    X, y, test_size=0.2, stratify=y, random_state=42\n",
        ")\n",
        "\n",
        "# 3. Train Logistic Regression\n",
        "log_clf = LogisticRegression(max_iter=1000, solver='liblinear')\n",
        "log_clf.fit(X_train, y_train)\n",
        "\n",
        "# 4. Predictions\n",
        "y_pred = log_clf.predict(X_test)\n",
        "y_proba = log_clf.predict_proba(X_test)[:, 1]\n",
        "\n",
        "# 5. Evaluation\n",
        "print(\"\\nLogistic Regression Report:\")\n",
        "print(classification_report(y_test, y_pred))\n",
        "print(\"Confusion Matrix:\\n\", confusion_matrix(y_test, y_pred))\n",
        "print(\"ROC AUC Score:\", roc_auc_score(y_test, y_proba))\n",
        "\n",
        "# 6. Precision-Recall Curve + Custom Threshold\n",
        "precision, recall, thresholds = precision_recall_curve(y_test, y_proba)\n",
        "plt.figure(figsize=(6, 4))\n",
        "plt.plot(thresholds, precision[:-1], label='Precision')\n",
        "plt.plot(thresholds, recall[:-1], label='Recall')\n",
        "plt.xlabel('Threshold')\n",
        "plt.ylabel('Score')\n",
        "plt.title('Precision-Recall vs Threshold')\n",
        "plt.legend()\n",
        "plt.grid(True)\n",
        "plt.tight_layout()\n",
        "plt.show()\n"
      ]
    },
    {
      "cell_type": "code",
      "execution_count": 43,
      "metadata": {
        "colab": {
          "base_uri": "https://localhost:8080/"
        },
        "id": "Tdm0QXDGdt0U",
        "outputId": "c418bfbc-c745-434d-eb46-d61e45d01947"
      },
      "outputs": [
        {
          "output_type": "stream",
          "name": "stdout",
          "text": [
            "\n",
            "=== Prediction Result ===\n",
            "Predicted Class: 0 → Slight\n",
            "Probability of Severe/Fatal: 0.17\n"
          ]
        }
      ],
      "source": [
        "# === Sample Input Prediction (Severe&Fatal: 0 = Slight, 1 = Severe/Fatal) ===\n",
        "\n",
        "sample_input = {\n",
        "    'Number_of_Casualties': 1,\n",
        "    'Number_of_Vehicles': 2,\n",
        "    'Hour': 15,\n",
        "    'Weekday_Num': 2,  # Wednesday\n",
        "    'Month': 6,\n",
        "    'Season': 'Summer',\n",
        "    'Time_of_Day': 'Daytime',\n",
        "    'Urban_Rural_Label': 'Urban',\n",
        "    'Speed_Bin': 'Low_30',\n",
        "    'Weather_Label': 'Fine',\n",
        "    'Light_Label': 'Daylight',\n",
        "    'Road_Surface_Label': 'Dry',\n",
        "    'Road_Type_Label': 'Roundabout',\n",
        "    'Day_of_Week_Label': 'Wednesday'\n",
        "}\n",
        "\n",
        "\n",
        "\n",
        "# Convert to DataFrame\n",
        "sample_df = pd.DataFrame([sample_input])\n",
        "\n",
        "# Apply label encoding\n",
        "for col in label_encode_cols:\n",
        "    sample_df[col] = label_encoders[col].transform(sample_df[col])\n",
        "\n",
        "# One-hot encode nominal features\n",
        "sample_df = pd.get_dummies(sample_df, columns=onehot_encode_cols)\n",
        "\n",
        "# Align with training features\n",
        "for col in X.columns:\n",
        "    if col not in sample_df.columns:\n",
        "        sample_df[col] = 0\n",
        "sample_df = sample_df[X.columns]  # Ensure column order\n",
        "\n",
        "# Predict using default threshold (0.5)\n",
        "pred_class = log_clf.predict(sample_df)[0]\n",
        "proba = log_clf.predict_proba(sample_df)[0][1]\n",
        "\n",
        "# Interpret output\n",
        "label = \"Severe/Fatal\" if pred_class == 1 else \"Slight\"\n",
        "\n",
        "print(\"\\n=== Prediction Result ===\")\n",
        "print(f\"Predicted Class: {pred_class} → {label}\")\n",
        "print(f\"Probability of Severe/Fatal: {round(proba, 3)}\")\n"
      ]
    },
    {
      "cell_type": "code",
      "source": [
        "# === Sample Input 2: Prediction (Severe&Fatal: 0 = Slight, 1 = Severe/Fatal) ===\n",
        "\n",
        "sample_input_2 = {\n",
        "    'Number_of_Casualties': 3,\n",
        "    'Number_of_Vehicles': 1,\n",
        "    'Hour': 2,\n",
        "    'Weekday_Num': 6,\n",
        "    'Month': 1,\n",
        "    'Season': 'Winter',\n",
        "    'Time_of_Day': 'Late_Night',\n",
        "    'Urban_Rural_Label': 'Rural',\n",
        "    'Speed_Bin': 'High_70',\n",
        "    'Weather_Label': 'Raining',\n",
        "    'Light_Label': 'Dark_No_Lighting',\n",
        "    'Road_Surface_Label': 'Wet_or_Damp',\n",
        "    'Road_Type_Label': 'Single_Carriageway',\n",
        "    'Day_of_Week_Label': 'Sunday'\n",
        "}\n",
        "\n",
        "# Convert to DataFrame\n",
        "sample_df2 = pd.DataFrame([sample_input_2])\n",
        "\n",
        "# Apply label encoding\n",
        "for col in label_encode_cols:\n",
        "    sample_df2[col] = label_encoders[col].transform(sample_df2[col])\n",
        "\n",
        "# One-hot encode nominal features\n",
        "sample_df2 = pd.get_dummies(sample_df2, columns=onehot_encode_cols)\n",
        "\n",
        "# Align with training features\n",
        "for col in X.columns:\n",
        "    if col not in sample_df2.columns:\n",
        "        sample_df2[col] = 0\n",
        "sample_df2 = sample_df2[X.columns]  # Ensure column order\n",
        "\n",
        "# Predict using default threshold (0.5)\n",
        "pred_class_2 = log_clf.predict(sample_df2)[0]\n",
        "proba_2 = log_clf.predict_proba(sample_df2)[0][1]\n",
        "\n",
        "# Interpret output\n",
        "label_2 = \"Severe/Fatal\" if pred_class_2 == 1 else \"Slight\"\n",
        "\n",
        "print(\"\\n=== Prediction Result: Sample Input 2 ===\")\n",
        "print(f\"Predicted Class: {pred_class_2} → {label_2}\")\n",
        "print(f\"Probability of Severe/Fatal: {round(proba_2, 3)}\")\n"
      ],
      "metadata": {
        "colab": {
          "base_uri": "https://localhost:8080/"
        },
        "id": "Q5RA3FMvrj82",
        "outputId": "eb8ea277-8f25-4f9a-a9e2-d5d2ad181615"
      },
      "execution_count": 44,
      "outputs": [
        {
          "output_type": "stream",
          "name": "stdout",
          "text": [
            "\n",
            "=== Prediction Result: Sample Input 2 ===\n",
            "Predicted Class: 1 → Severe/Fatal\n",
            "Probability of Severe/Fatal: 0.637\n"
          ]
        }
      ]
    },
    {
      "cell_type": "code",
      "source": [
        "import numpy as np\n",
        "import pandas as pd\n",
        "import matplotlib.pyplot as plt\n",
        "import seaborn as sns\n",
        "from sklearn.preprocessing import StandardScaler\n",
        "from sklearn.model_selection import train_test_split\n",
        "from sklearn.metrics import (\n",
        "    accuracy_score, classification_report, confusion_matrix,\n",
        "    roc_curve, auc\n",
        ")\n",
        "\n",
        "# === 1. Prepare data ===\n",
        "X = balanced_df.drop(columns=['Severe&Fatal']).values\n",
        "y = balanced_df['Severe&Fatal'].astype(int).values.reshape(-1, 1)\n",
        "\n",
        "scaler = StandardScaler()\n",
        "X = scaler.fit_transform(X)\n",
        "X = np.c_[np.ones((X.shape[0], 1)), X]  # Add bias\n",
        "\n",
        "X_train, X_test, y_train, y_test = train_test_split(\n",
        "    X, y, test_size=0.2, stratify=y, random_state=42\n",
        ")\n",
        "\n",
        "# === 2. Define helper functions ===\n",
        "def sigmoid(z):\n",
        "    return 1 / (1 + np.exp(-z))\n",
        "\n",
        "def compute_cost(y, h):\n",
        "    epsilon = 1e-5\n",
        "    return -np.mean(y * np.log(h + epsilon) + (1 - y) * np.log(1 - h + epsilon))\n",
        "\n",
        "def train_logistic_regression(X, y, learning_rate=0.1, iterations=1000):\n",
        "    m, n = X.shape\n",
        "    weights = np.zeros((n, 1))\n",
        "    losses = []\n",
        "\n",
        "    for i in range(iterations):\n",
        "        z = np.dot(X, weights)\n",
        "        h = sigmoid(z)\n",
        "        gradient = np.dot(X.T, (h - y)) / m\n",
        "        weights -= learning_rate * gradient\n",
        "        if i % 50 == 0:\n",
        "            losses.append(compute_cost(y, h))\n",
        "    return weights, losses\n",
        "\n",
        "def evaluate_model(X_test, y_test, weights):\n",
        "    y_proba = sigmoid(np.dot(X_test, weights))\n",
        "    y_pred = (y_proba >= 0.5).astype(int)\n",
        "    acc = accuracy_score(y_test, y_pred)\n",
        "    fpr, tpr, _ = roc_curve(y_test, y_proba)\n",
        "    auc_score = auc(fpr, tpr)\n",
        "    report = classification_report(y_test, y_pred, output_dict=True)\n",
        "    f1 = report['1']['f1-score']\n",
        "    recall = report['1']['recall']\n",
        "    precision = report['1']['precision']\n",
        "    return acc, auc_score, f1, recall, precision, y_pred, y_proba\n",
        "\n",
        "# === 3. Grid Search for Hyperparameters ===\n",
        "results = []\n",
        "learning_rates = [0.01, 0.05, 0.1]\n",
        "iterations_list = [500, 1000, 1500]\n",
        "\n",
        "for lr in learning_rates:\n",
        "    for iters in iterations_list:\n",
        "        print(f\"Training with LR={lr}, Iterations={iters}\")\n",
        "        weights, losses = train_logistic_regression(X_train, y_train, learning_rate=lr, iterations=iters)\n",
        "        acc, auc_score, f1, recall, precision, _, _ = evaluate_model(X_test, y_test, weights)\n",
        "\n",
        "        results.append({\n",
        "            'learning_rate': lr,\n",
        "            'iterations': iters,\n",
        "            'accuracy': acc,\n",
        "            'f1_score': f1,\n",
        "            'recall': recall,\n",
        "            'precision': precision,\n",
        "            'auc': auc_score\n",
        "        })\n",
        "\n",
        "#  4. Display Results Sorted by F1-score\n",
        "results_df = pd.DataFrame(results)\n",
        "print(\"\\n🔍 Grid Search Results (Sorted by F1-score):\")\n",
        "print(results_df.sort_values(by='f1_score', ascending=False))\n",
        "\n",
        "# === 5. Train Best Model Based on F1-score ===\n",
        "best = results_df.sort_values(by='f1_score', ascending=False).iloc[0]\n",
        "best_lr = best['learning_rate']\n",
        "best_iters = int(best['iterations'])\n",
        "\n",
        "weights, _ = train_logistic_regression(X_train, y_train, learning_rate=best_lr, iterations=best_iters)\n",
        "_, auc_score, f1, recall, precision, y_pred_final, y_proba_final = evaluate_model(X_test, y_test, weights)\n",
        "\n",
        "# === 6. Final Evaluation ===\n",
        "print(\"\\n Best Model Evaluation (Optimized for F1-score):\")\n",
        "print(f\"Learning Rate: {best_lr}, Iterations: {best_iters}\")\n",
        "print(f\"F1-score:  {f1:.4f}\")\n",
        "print(f\"Recall:    {recall:.4f}\")\n",
        "print(f\"Precision: {precision:.4f}\")\n",
        "print(f\"ROC AUC:   {auc_score:.4f}\")\n",
        "print(\"\\nClassification Report:\")\n",
        "print(classification_report(y_test, y_pred_final))\n",
        "print(\"Confusion Matrix:\\n\", confusion_matrix(y_test, y_pred_final))\n",
        "\n",
        "# === 7. Visualization ===\n",
        "# Confusion Matrix Heatmap\n",
        "sns.heatmap(confusion_matrix(y_test, y_pred_final), annot=True, fmt='d', cmap='Blues')\n",
        "plt.title(\"Best Logistic Regression - Confusion Matrix\")\n",
        "plt.xlabel(\"Predicted\")\n",
        "plt.ylabel(\"Actual\")\n",
        "plt.tight_layout()\n",
        "plt.show()\n",
        "\n",
        "# ROC Curve\n",
        "fpr, tpr, _ = roc_curve(y_test, y_proba_final)\n",
        "plt.plot(fpr, tpr, label=f\"AUC = {auc_score:.2f}\")\n",
        "plt.plot([0, 1], [0, 1], linestyle='--')\n",
        "plt.title(\"ROC Curve - Best Logistic Regression Model\")\n",
        "plt.xlabel(\"False Positive Rate\")\n",
        "plt.ylabel(\"True Positive Rate\")\n",
        "plt.grid(True)\n",
        "plt.legend()\n",
        "plt.tight_layout()\n",
        "plt.show()\n"
      ],
      "metadata": {
        "colab": {
          "base_uri": "https://localhost:8080/",
          "height": 1000
        },
        "id": "FXGSJw6xxCka",
        "outputId": "a168efa4-161f-45bb-b51a-609540a7a0ff"
      },
      "execution_count": 45,
      "outputs": [
        {
          "output_type": "stream",
          "name": "stdout",
          "text": [
            "Training with LR=0.01, Iterations=500\n",
            "Training with LR=0.01, Iterations=1000\n",
            "Training with LR=0.01, Iterations=1500\n",
            "Training with LR=0.05, Iterations=500\n",
            "Training with LR=0.05, Iterations=1000\n",
            "Training with LR=0.05, Iterations=1500\n",
            "Training with LR=0.1, Iterations=500\n",
            "Training with LR=0.1, Iterations=1000\n",
            "Training with LR=0.1, Iterations=1500\n",
            "\n",
            "🔍 Grid Search Results (Sorted by F1-score):\n",
            "   learning_rate  iterations  accuracy  f1_score    recall  precision  \\\n",
            "7           0.10        1000  0.674619  0.170147  0.100070   0.567671   \n",
            "8           0.10        1500  0.674577  0.170128  0.100070   0.567259   \n",
            "5           0.05        1500  0.674635  0.170041  0.099990   0.567887   \n",
            "6           0.10         500  0.674785  0.169857  0.099815   0.569474   \n",
            "4           0.05        1000  0.674785  0.169857  0.099815   0.569474   \n",
            "3           0.05         500  0.674875  0.165307  0.096584   0.573055   \n",
            "0           0.01         500  0.674534  0.162713  0.094873   0.571030   \n",
            "2           0.01        1500  0.674854  0.158296  0.091723   0.577295   \n",
            "1           0.01        1000  0.675104  0.155998  0.090076   0.581741   \n",
            "\n",
            "        auc  \n",
            "7  0.627079  \n",
            "8  0.627079  \n",
            "5  0.627080  \n",
            "6  0.627073  \n",
            "4  0.627072  \n",
            "3  0.626871  \n",
            "0  0.622354  \n",
            "2  0.626201  \n",
            "1  0.625197  \n",
            "\n",
            "✅ Best Model Evaluation (Optimized for F1-score):\n",
            "Learning Rate: 0.1, Iterations: 1000\n",
            "F1-score:  0.1701\n",
            "Recall:    0.1001\n",
            "Precision: 0.5677\n",
            "ROC AUC:   0.6271\n",
            "\n",
            "Classification Report:\n",
            "              precision    recall  f1-score   support\n",
            "\n",
            "           0       0.68      0.96      0.80    125072\n",
            "           1       0.57      0.10      0.17     62536\n",
            "\n",
            "    accuracy                           0.67    187608\n",
            "   macro avg       0.62      0.53      0.48    187608\n",
            "weighted avg       0.64      0.67      0.59    187608\n",
            "\n",
            "Confusion Matrix:\n",
            " [[120306   4766]\n",
            " [ 56278   6258]]\n"
          ]
        },
        {
          "output_type": "display_data",
          "data": {
            "text/plain": [
              "<Figure size 640x480 with 2 Axes>"
            ],
            "image/png": "[encoded data removed]"
          },
          "metadata": {}
        },
        {
          "output_type": "display_data",
          "data": {
            "text/plain": [
              "<Figure size 640x480 with 1 Axes>"
            ],
            "image/png": "[encoded data removed]"
          },
          "metadata": {}
        }
      ]
    }
  ],
  "metadata": {
    "accelerator": "GPU",
    "colab": {
      "gpuType": "T4",
      "provenance": [],
      "toc_visible": true,
      "include_colab_link": true
    },
    "kernelspec": {
      "display_name": "Python 3",
      "name": "python3"
    },
    "language_info": {
      "name": "python"
    }
  },
  "nbformat": 4,
  "nbformat_minor": 0
}