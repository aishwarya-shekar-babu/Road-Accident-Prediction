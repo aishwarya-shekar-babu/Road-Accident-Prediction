{
  "nbformat": 4,
  "nbformat_minor": 0,
  "metadata": {
    "colab": {
      "provenance": [],
      "gpuType": "T4",
      "authorship_tag": "ABX9TyNNfSvDxmryZ2M5tt/6Gskj",
      "include_colab_link": true
    },
    "kernelspec": {
      "name": "python3",
      "display_name": "Python 3"
    },
    "language_info": {
      "name": "python"
    },
    "accelerator": "GPU"
  },
  "cells": [
    {
      "cell_type": "markdown",
      "metadata": {
        "id": "view-in-github",
        "colab_type": "text"
      },
      "source": [
        "<a href=\"https://colab.research.google.com/github/aishwarya-shekar-babu/Road-Accident-Prediction/blob/main/Road_Accident_Prediction_eda.ipynb\" target=\"_parent\"><img src=\"https://colab.research.google.com/assets/colab-badge.svg\" alt=\"Open In Colab\"/></a>"
      ]
    },
    {
      "cell_type": "markdown",
      "source": [
        "# Machine Learning Prediction of Road Accident Severity with Urban factors and Weather conditions"
      ],
      "metadata": {
        "id": "yl7Nej_si_xh"
      }
    },
    {
      "cell_type": "markdown",
      "source": [
        "## Research question\n",
        "\n",
        "\n",
        "1.   **Research Question 1:** which machine learning approach is optimal in accurately predict the severity of UK road accidents using environmental (e.g. weather), temporal (e.g. time of day, season), spatial (e.g. urban/rural), and which features contribute most to severe outcomes?\n",
        "2.  **Research Question 2:** How do different weather conditions influence the severity of road traffic accidents, and to predict risk levels associated with specific weather categories? and which location are associated with the highest severity of accidents\n",
        "\n"
      ],
      "metadata": {
        "id": "YhO-8oYCjIIK"
      }
    },
    {
      "cell_type": "code",
      "execution_count": null,
      "metadata": {
        "colab": {
          "base_uri": "https://localhost:8080/"
        },
        "id": "6HtFbVoiMTES",
        "outputId": "f9df65de-1834-4dc1-ae26-99ab99661a8a"
      },
      "outputs": [
        {
          "output_type": "stream",
          "name": "stdout",
          "text": [
            "Mounted at /content/drive\n"
          ]
        }
      ],
      "source": [
        "from google.colab import drive\n",
        "drive.mount('/content/drive')\n"
      ]
    },
    {
      "cell_type": "markdown",
      "source": [
        "# LOADING DATASET FROM GITHUB"
      ],
      "metadata": {
        "id": "Z480R16gh_0d"
      }
    },
    {
      "cell_type": "code",
      "source": [
        "#!wget https://github.com/aishwarya-shekar-babu/Road-Accident-Prediction/raw/main/archive.zip -O /content/drive/MyDrive/RoadAccidentData/archive.zip\n"
      ],
      "metadata": {
        "id": "pSHP_P1zM4ge"
      },
      "execution_count": null,
      "outputs": []
    },
    {
      "cell_type": "code",
      "source": [
        "#!wget https://github.com/aishwarya-shekar-babu/Road-Accident-Prediction/raw/main/archive-vehicle.zip -O /content/drive/MyDrive/RoadAccidentData/archive-vehicle.zip"
      ],
      "metadata": {
        "colab": {
          "base_uri": "https://localhost:8080/"
        },
        "id": "EAaOoT4qK1lV",
        "outputId": "18a83747-2d9f-47be-a3d2-a38be15fd69b"
      },
      "execution_count": null,
      "outputs": [
        {
          "output_type": "stream",
          "name": "stdout",
          "text": [
            "--2025-05-31 21:16:33--  https://github.com/aishwarya-shekar-babu/Road-Accident-Prediction/raw/main/archive-vehicle.zip\n",
            "Resolving github.com (github.com)... 140.82.113.4\n",
            "Connecting to github.com (github.com)|140.82.113.4|:443... connected.\n",
            "HTTP request sent, awaiting response... 302 Found\n",
            "Location: https://raw.githubusercontent.com/aishwarya-shekar-babu/Road-Accident-Prediction/main/archive-vehicle.zip [following]\n",
            "--2025-05-31 21:16:34--  https://raw.githubusercontent.com/aishwarya-shekar-babu/Road-Accident-Prediction/main/archive-vehicle.zip\n",
            "Resolving raw.githubusercontent.com (raw.githubusercontent.com)... 185.199.108.133, 185.199.109.133, 185.199.110.133, ...\n",
            "Connecting to raw.githubusercontent.com (raw.githubusercontent.com)|185.199.108.133|:443... connected.\n",
            "HTTP request sent, awaiting response... 200 OK\n",
            "Length: 60297815 (58M) [application/zip]\n",
            "Saving to: ‘/content/drive/MyDrive/RoadAccidentData/archive-vehicle.zip’\n",
            "\n",
            "/content/drive/MyDr 100%[===================>]  57.50M  74.5MB/s    in 0.8s    \n",
            "\n",
            "2025-05-31 21:16:36 (74.5 MB/s) - ‘/content/drive/MyDrive/RoadAccidentData/archive-vehicle.zip’ saved [60297815/60297815]\n",
            "\n"
          ]
        }
      ]
    },
    {
      "cell_type": "code",
      "source": [
        "#!unzip /content/drive/MyDrive/RoadAccidentData/archive.zip -d /content/drive/MyDrive/RoadAccidentData/"
      ],
      "metadata": {
        "colab": {
          "base_uri": "https://localhost:8080/"
        },
        "id": "B0yheQk8M8o_",
        "outputId": "e8c1903d-a980-4ec5-ef99-89554e8448a9"
      },
      "execution_count": null,
      "outputs": [
        {
          "output_type": "stream",
          "name": "stdout",
          "text": [
            "Archive:  /content/drive/MyDrive/RoadAccidentData/archive.zip\n",
            "   creating: /content/drive/MyDrive/RoadAccidentData/archive/\n",
            "  inflating: /content/drive/MyDrive/RoadAccidentData/archive/Accident_Information.csv  \n"
          ]
        }
      ]
    },
    {
      "cell_type": "code",
      "source": [
        "#!unzip /content/drive/MyDrive/RoadAccidentData/archive-vehicle.zip -d /content/drive/MyDrive/RoadAccidentData/\n"
      ],
      "metadata": {
        "colab": {
          "base_uri": "https://localhost:8080/"
        },
        "id": "bzYysSdSM9VM",
        "outputId": "0f31c707-9bc7-4983-968b-0d920531ace2"
      },
      "execution_count": null,
      "outputs": [
        {
          "output_type": "stream",
          "name": "stdout",
          "text": [
            "Archive:  /content/drive/MyDrive/RoadAccidentData/archive-vehicle.zip\n",
            "   creating: /content/drive/MyDrive/RoadAccidentData/archive-vehicle (1)/\n",
            "  inflating: /content/drive/MyDrive/RoadAccidentData/archive-vehicle (1)/Vehicle_Information.csv  \n"
          ]
        }
      ]
    },
    {
      "cell_type": "markdown",
      "source": [
        "# IMPORTING LIBRARIES"
      ],
      "metadata": {
        "id": "bSjwHQUAiOlx"
      }
    },
    {
      "cell_type": "code",
      "source": [
        "import pandas as pd\n",
        "import matplotlib.pyplot as plt\n",
        "import numpy as np\n",
        "import seaborn as sns"
      ],
      "metadata": {
        "id": "EDQQUHwGNHJt"
      },
      "execution_count": null,
      "outputs": []
    },
    {
      "cell_type": "markdown",
      "source": [
        "# READING DATASET\n",
        "\n",
        "The dataset contains two files vehicle_df and accident_df which contains vehicles andf accident details respectively.Following code is written to merge this dataset and analyse the columns to be considered for further research"
      ],
      "metadata": {
        "id": "63FA6GRwiWJi"
      }
    },
    {
      "cell_type": "code",
      "source": [
        "# Path to your file\n",
        "as_accident_df = pd.read_csv(\n",
        "    '/content/drive/MyDrive/RoadAccidentData/archive/Accident_Information.csv',\n",
        "    encoding='ISO-8859-1',\n",
        "    dtype={'Accident_Index': str},\n",
        ")\n",
        "\n",
        "print(as_accident_df.columns)"
      ],
      "metadata": {
        "colab": {
          "base_uri": "https://localhost:8080/"
        },
        "id": "iV_oXa4BcQaD",
        "outputId": "7f914699-1db8-4f37-8a6a-babb30c74e39"
      },
      "execution_count": null,
      "outputs": [
        {
          "output_type": "stream",
          "name": "stdout",
          "text": [
            "Index(['Accident_Index', '1st_Road_Class', '1st_Road_Number', '2nd_Road_Class',\n",
            "       '2nd_Road_Number', 'Accident_Severity', 'Carriageway_Hazards', 'Date',\n",
            "       'Day_of_Week', 'Did_Police_Officer_Attend_Scene_of_Accident',\n",
            "       'Junction_Control', 'Junction_Detail', 'Latitude', 'Light_Conditions',\n",
            "       'Local_Authority_(District)', 'Local_Authority_(Highway)',\n",
            "       'Location_Easting_OSGR', 'Location_Northing_OSGR', 'Longitude',\n",
            "       'LSOA_of_Accident_Location', 'Number_of_Casualties',\n",
            "       'Number_of_Vehicles', 'Pedestrian_Crossing-Human_Control',\n",
            "       'Pedestrian_Crossing-Physical_Facilities', 'Police_Force',\n",
            "       'Road_Surface_Conditions', 'Road_Type', 'Special_Conditions_at_Site',\n",
            "       'Speed_limit', 'Time', 'Urban_or_Rural_Area', 'Weather_Conditions',\n",
            "       'Year', 'InScotland'],\n",
            "      dtype='object')\n"
          ]
        }
      ]
    },
    {
      "cell_type": "code",
      "source": [
        "as_accident_df.info()"
      ],
      "metadata": {
        "colab": {
          "base_uri": "https://localhost:8080/"
        },
        "id": "SL0xEvHsJvde",
        "outputId": "67325e36-3211-4550-ad28-bf4eb6f85282"
      },
      "execution_count": null,
      "outputs": [
        {
          "output_type": "stream",
          "name": "stdout",
          "text": [
            "<class 'pandas.core.frame.DataFrame'>\n",
            "RangeIndex: 2047256 entries, 0 to 2047255\n",
            "Data columns (total 34 columns):\n",
            " #   Column                                       Dtype  \n",
            "---  ------                                       -----  \n",
            " 0   Accident_Index                               object \n",
            " 1   1st_Road_Class                               object \n",
            " 2   1st_Road_Number                              float64\n",
            " 3   2nd_Road_Class                               object \n",
            " 4   2nd_Road_Number                              float64\n",
            " 5   Accident_Severity                            object \n",
            " 6   Carriageway_Hazards                          object \n",
            " 7   Date                                         object \n",
            " 8   Day_of_Week                                  object \n",
            " 9   Did_Police_Officer_Attend_Scene_of_Accident  float64\n",
            " 10  Junction_Control                             object \n",
            " 11  Junction_Detail                              object \n",
            " 12  Latitude                                     float64\n",
            " 13  Light_Conditions                             object \n",
            " 14  Local_Authority_(District)                   object \n",
            " 15  Local_Authority_(Highway)                    object \n",
            " 16  Location_Easting_OSGR                        float64\n",
            " 17  Location_Northing_OSGR                       float64\n",
            " 18  Longitude                                    float64\n",
            " 19  LSOA_of_Accident_Location                    object \n",
            " 20  Number_of_Casualties                         int64  \n",
            " 21  Number_of_Vehicles                           int64  \n",
            " 22  Pedestrian_Crossing-Human_Control            float64\n",
            " 23  Pedestrian_Crossing-Physical_Facilities      float64\n",
            " 24  Police_Force                                 object \n",
            " 25  Road_Surface_Conditions                      object \n",
            " 26  Road_Type                                    object \n",
            " 27  Special_Conditions_at_Site                   object \n",
            " 28  Speed_limit                                  float64\n",
            " 29  Time                                         object \n",
            " 30  Urban_or_Rural_Area                          object \n",
            " 31  Weather_Conditions                           object \n",
            " 32  Year                                         int64  \n",
            " 33  InScotland                                   object \n",
            "dtypes: float64(10), int64(3), object(21)\n",
            "memory usage: 531.1+ MB\n"
          ]
        }
      ]
    },
    {
      "cell_type": "code",
      "source": [
        "as_accident_df.shape"
      ],
      "metadata": {
        "colab": {
          "base_uri": "https://localhost:8080/"
        },
        "id": "JjDQ_Tp2RDPP",
        "outputId": "e9ffe059-b7b2-4ed3-d613-c26004e37012"
      },
      "execution_count": null,
      "outputs": [
        {
          "output_type": "execute_result",
          "data": {
            "text/plain": [
              "(2047256, 34)"
            ]
          },
          "metadata": {},
          "execution_count": 32
        }
      ]
    },
    {
      "cell_type": "code",
      "source": [
        "# 1. Missing counts per column\n",
        "missing_counts = as_accident_df.isna().sum().sort_values(ascending=False)\n",
        "print(\"Missing counts per column:\")\n",
        "print(missing_counts)\n",
        "\n",
        "# 2. Missing percentages per column\n",
        "missing_pct = (missing_counts / len(as_accident_df) * 100).sort_values(ascending=False)\n",
        "print(\"\\nMissing percentages per column:\")\n",
        "print(missing_pct)\n"
      ],
      "metadata": {
        "colab": {
          "base_uri": "https://localhost:8080/"
        },
        "id": "BsaABKJNRspi",
        "outputId": "3b8dcec7-d638-4758-9cb7-b7a1b50a8310"
      },
      "execution_count": null,
      "outputs": [
        {
          "output_type": "stream",
          "name": "stdout",
          "text": [
            "Missing counts per column:\n",
            "Carriageway_Hazards                            2007807\n",
            "Special_Conditions_at_Site                     1995137\n",
            "2nd_Road_Class                                  844272\n",
            "LSOA_of_Accident_Location                       144953\n",
            "2nd_Road_Number                                  17593\n",
            "Pedestrian_Crossing-Physical_Facilities           3560\n",
            "Pedestrian_Crossing-Human_Control                 2920\n",
            "Did_Police_Officer_Attend_Scene_of_Accident        278\n",
            "Longitude                                          175\n",
            "Latitude                                           174\n",
            "Location_Easting_OSGR                              164\n",
            "Location_Northing_OSGR                             164\n",
            "Time                                               156\n",
            "InScotland                                          53\n",
            "Speed_limit                                         37\n",
            "1st_Road_Number                                      2\n",
            "1st_Road_Class                                       0\n",
            "Accident_Index                                       0\n",
            "Local_Authority_(District)                           0\n",
            "Local_Authority_(Highway)                            0\n",
            "Junction_Detail                                      0\n",
            "Light_Conditions                                     0\n",
            "Junction_Control                                     0\n",
            "Accident_Severity                                    0\n",
            "Date                                                 0\n",
            "Day_of_Week                                          0\n",
            "Road_Surface_Conditions                              0\n",
            "Police_Force                                         0\n",
            "Number_of_Casualties                                 0\n",
            "Number_of_Vehicles                                   0\n",
            "Road_Type                                            0\n",
            "Urban_or_Rural_Area                                  0\n",
            "Weather_Conditions                                   0\n",
            "Year                                                 0\n",
            "dtype: int64\n",
            "\n",
            "Missing percentages per column:\n",
            "Carriageway_Hazards                            98.073079\n",
            "Special_Conditions_at_Site                     97.454202\n",
            "2nd_Road_Class                                 41.239200\n",
            "LSOA_of_Accident_Location                       7.080355\n",
            "2nd_Road_Number                                 0.859345\n",
            "Pedestrian_Crossing-Physical_Facilities         0.173891\n",
            "Pedestrian_Crossing-Human_Control               0.142630\n",
            "Did_Police_Officer_Attend_Scene_of_Accident     0.013579\n",
            "Longitude                                       0.008548\n",
            "Latitude                                        0.008499\n",
            "Location_Easting_OSGR                           0.008011\n",
            "Location_Northing_OSGR                          0.008011\n",
            "Time                                            0.007620\n",
            "InScotland                                      0.002589\n",
            "Speed_limit                                     0.001807\n",
            "1st_Road_Number                                 0.000098\n",
            "1st_Road_Class                                  0.000000\n",
            "Accident_Index                                  0.000000\n",
            "Local_Authority_(District)                      0.000000\n",
            "Local_Authority_(Highway)                       0.000000\n",
            "Junction_Detail                                 0.000000\n",
            "Light_Conditions                                0.000000\n",
            "Junction_Control                                0.000000\n",
            "Accident_Severity                               0.000000\n",
            "Date                                            0.000000\n",
            "Day_of_Week                                     0.000000\n",
            "Road_Surface_Conditions                         0.000000\n",
            "Police_Force                                    0.000000\n",
            "Number_of_Casualties                            0.000000\n",
            "Number_of_Vehicles                              0.000000\n",
            "Road_Type                                       0.000000\n",
            "Urban_or_Rural_Area                             0.000000\n",
            "Weather_Conditions                              0.000000\n",
            "Year                                            0.000000\n",
            "dtype: float64\n"
          ]
        }
      ]
    },
    {
      "cell_type": "code",
      "source": [
        "cols_to_drop = [\n",
        "    '1st_Road_Class',\n",
        "    '1st_Road_Number',\n",
        "    '2nd_Road_Class',\n",
        "    '2nd_Road_Number',\n",
        "    'Carriageway_Hazards',\n",
        "    'Did_Police_Officer_Attend_Scene_of_Accident',\n",
        "    'Junction_Control',\n",
        "    'Junction_Detail',\n",
        "    'Local_Authority_(Highway)',\n",
        "    'Pedestrian_Crossing-Human_Control',\n",
        "    'Pedestrian_Crossing-Physical_Facilities',\n",
        "    'Special_Conditions_at_Site',\n",
        "]\n",
        "\n",
        "# Drop them in one go:\n",
        "as_accident_df = as_accident_df.drop(columns=cols_to_drop, errors='ignore')\n",
        "\n",
        "print(\"Remaining columns:\", as_accident_df.columns.tolist())\n",
        "print(\"New shape:\", as_accident_df.shape)\n"
      ],
      "metadata": {
        "colab": {
          "base_uri": "https://localhost:8080/"
        },
        "id": "YSVZ9u2gR7Jn",
        "outputId": "55dce2bd-3853-434c-c4ee-5294f674f3f8"
      },
      "execution_count": null,
      "outputs": [
        {
          "output_type": "stream",
          "name": "stdout",
          "text": [
            "Remaining columns: ['Accident_Index', 'Accident_Severity', 'Date', 'Day_of_Week', 'Latitude', 'Light_Conditions', 'Local_Authority_(District)', 'Location_Easting_OSGR', 'Location_Northing_OSGR', 'Longitude', 'LSOA_of_Accident_Location', 'Number_of_Casualties', 'Number_of_Vehicles', 'Police_Force', 'Road_Surface_Conditions', 'Road_Type', 'Speed_limit', 'Time', 'Urban_or_Rural_Area', 'Weather_Conditions', 'Year', 'InScotland']\n",
            "New shape: (2047256, 22)\n"
          ]
        }
      ]
    },
    {
      "cell_type": "code",
      "source": [
        "as_cols = [\n",
        "    'Accident_Index','Accident_Severity','Date','Time','Latitude','Longitude',\n",
        "    'Local_Authority_(District)','LSOA_of_Accident_Location','Urban_or_Rural_Area',\n",
        "    'Road_Surface_Conditions','Road_Type','Speed_limit','Weather_Conditions',\n",
        "    'Light_Conditions','Number_of_Casualties','Number_of_Vehicles',\n",
        "    'Police_Force','Day_of_Week','InScotland'\n",
        "]\n",
        "as_accident_level = as_accident_df[as_cols].copy()\n",
        "print(\"After subsetting:\", as_accident_level.shape)"
      ],
      "metadata": {
        "colab": {
          "base_uri": "https://localhost:8080/"
        },
        "id": "tKDw4OX0tAo9",
        "outputId": "fada1db5-0ebe-4b8c-8f82-7674343d13be"
      },
      "execution_count": null,
      "outputs": [
        {
          "output_type": "stream",
          "name": "stdout",
          "text": [
            "After subsetting: (2047256, 19)\n"
          ]
        }
      ]
    },
    {
      "cell_type": "code",
      "source": [
        "# 1. Unique values in Urban_or_Rural_Area\n",
        "print(\"Unique values in Urban_or_Rural_Area:\")\n",
        "print(as_accident_level['Urban_or_Rural_Area'].value_counts(dropna=False))\n",
        "\n",
        "# 2. Unique values in Weather_Conditions\n",
        "print(\"\\nUnique values in Weather_Conditions:\")\n",
        "print(as_accident_level['Weather_Conditions'].value_counts(dropna=False))"
      ],
      "metadata": {
        "colab": {
          "base_uri": "https://localhost:8080/"
        },
        "id": "MNsmSK7fvw66",
        "outputId": "21b466b7-89aa-486c-d34d-2802e063ae58"
      },
      "execution_count": null,
      "outputs": [
        {
          "output_type": "stream",
          "name": "stdout",
          "text": [
            "Unique values in Urban_or_Rural_Area:\n",
            "Urban_or_Rural_Area\n",
            "Urban          1322339\n",
            "Rural           724757\n",
            "Unallocated        160\n",
            "Name: count, dtype: int64\n",
            "\n",
            "Unique values in Weather_Conditions:\n",
            "Weather_Conditions\n",
            "Fine no high winds              1640095\n",
            "Raining no high winds            239281\n",
            "Other                             44083\n",
            "Unknown                           42521\n",
            "Raining + high winds              28343\n",
            "Fine + high winds                 25816\n",
            "Snowing no high winds             13387\n",
            "Fog or mist                       11068\n",
            "Snowing + high winds               2487\n",
            "Data missing or out of range        175\n",
            "Name: count, dtype: int64\n"
          ]
        }
      ]
    },
    {
      "cell_type": "code",
      "source": [
        "# 1. Identify all object‐ or category‐dtype columns\n",
        "cat_cols = as_accident_level.select_dtypes(include=['object', 'category']).columns.tolist()\n",
        "\n",
        "# 2. Loop through and print unique values for each\n",
        "for col in cat_cols:\n",
        "    unique_vals = as_accident_level[col].unique()\n",
        "    print(f\"Column: {col}\")\n",
        "    print(f\"  ({len(unique_vals)} unique values) → {unique_vals}\\n\")\n"
      ],
      "metadata": {
        "colab": {
          "base_uri": "https://localhost:8080/"
        },
        "id": "05ux79X_v2Kz",
        "outputId": "7ee91eee-d972-4fc1-8874-1f2087967d29"
      },
      "execution_count": null,
      "outputs": [
        {
          "output_type": "stream",
          "name": "stdout",
          "text": [
            "Column: Accident_Index\n",
            "  (2047256 unique values) → ['200501BS00001' '200501BS00002' '200501BS00003' ... '2017984121717'\n",
            " '2017984122317' '2017984122617']\n",
            "\n",
            "Column: Accident_Severity\n",
            "  (3 unique values) → ['Serious' 'Slight' 'Fatal']\n",
            "\n",
            "Column: Date\n",
            "  (4748 unique values) → ['2005-01-04' '2005-01-05' '2005-01-06' ... '2017-12-28' '2017-12-29'\n",
            " '2017-12-30']\n",
            "\n",
            "Column: Time\n",
            "  (1440 unique values) → ['17:42' '17:36' '00:15' ... '05:57' '04:26' '01:57']\n",
            "\n",
            "Column: Local_Authority_(District)\n",
            "  (416 unique values) → ['Kensington and Chelsea' 'Westminster' 'Hammersmith and Fulham'\n",
            " 'City of London' 'Tower Hamlets' 'Southwark' 'Hackney' 'Islington'\n",
            " 'Camden' 'Lambeth' 'Brent' 'Haringey' 'Barnet' 'Ealing'\n",
            " 'Richmond upon Thames' 'Waltham Forest' 'Newham'\n",
            " 'London Airport (Heathrow)' 'Hillingdon' 'Harrow' 'Hounslow' 'Enfield'\n",
            " 'Redbridge' 'Barking and Dagenham' 'Havering' 'Croydon' 'Wandsworth'\n",
            " 'Sutton' 'Lewisham' 'Bromley' 'Greenwich' 'Bexley' 'Kingston upon Thames'\n",
            " 'Merton' 'South Lakeland' 'Barrow-in-Furness' 'Carlisle' 'Eden'\n",
            " 'Allerdale' 'Copeland' 'Blackpool' 'Fylde' 'Lancaster'\n",
            " 'Blackburn with Darwen' 'Preston' 'Wyre' 'South Ribble' 'West Lancashire'\n",
            " 'Chorley' 'Hyndburn' 'Ribble Valley' 'Pendle' 'Rossendale' 'Burnley'\n",
            " 'Wirral' 'Sefton' 'Liverpool' 'Knowsley' 'St. Helens' 'Manchester'\n",
            " 'Oldham' 'Salford' 'Bury' 'Rochdale' 'Trafford' 'Tameside' 'Stockport'\n",
            " 'Wigan' 'Bolton' 'Chester' 'Warrington' 'Halton' 'Macclesfield'\n",
            " 'Crewe and Nantwich' 'Ellesmere Port and Neston' 'Vale Royal' 'Congleton'\n",
            " 'Newcastle upon Tyne' 'Sunderland' 'North Tyneside' 'Alnwick' 'Wansbeck'\n",
            " 'Blyth Valley' 'Gateshead' 'South Tyneside' 'Tynedale' 'Castle Morpeth'\n",
            " 'Berwick-upon-Tweed' 'Wear Valley' 'Sedgefield' 'Durham' 'Easington'\n",
            " 'Chester-le-Street' 'Derwentside' 'Teesdale' 'Darlington' 'York'\n",
            " 'Scarborough' 'Craven' 'Selby' 'Harrogate' 'Hambleton' 'Richmondshire'\n",
            " 'Ryedale' 'Leeds' 'Calderdale' 'Bradford' 'Kirklees' 'Wakefield'\n",
            " 'Doncaster' 'Rotherham' 'Barnsley' 'Sheffield' 'North East Lincolnshire'\n",
            " 'North Lincolnshire' 'East Riding of Yorkshire'\n",
            " 'Kingston upon Hull, City of' 'Hartlepool' 'Redcar and Cleveland'\n",
            " 'Middlesbrough' 'Stockton-on-Tees' 'Birmingham' 'Wolverhampton' 'Walsall'\n",
            " 'Dudley' 'Sandwell' 'Solihull' 'Coventry' 'Stoke-on-Trent' 'Stafford'\n",
            " 'Staffordshire Moorlands' 'Newcastle-under-Lyme' 'East Staffordshire'\n",
            " 'Cannock Chase' 'South Staffordshire' 'Lichfield' 'Tamworth' 'Worcester'\n",
            " 'Wychavon' 'Malvern Hills' 'Wyre Forest' 'Bromsgrove' 'Redditch'\n",
            " 'Bridgnorth' 'Herefordshire, County of' 'Shrewsbury and Atcham'\n",
            " 'North Shropshire' 'Oswestry' 'South Shropshire' 'Telford and Wrekin'\n",
            " 'Stratford-upon-Avon' 'Warwick' 'Rugby' 'North Warwickshire'\n",
            " 'Nuneaton and Bedworth' 'Erewash' 'Amber Valley' 'Bolsover'\n",
            " 'Derbyshire Dales' 'High Peak' 'North East Derbyshire' 'Chesterfield'\n",
            " 'South Derbyshire' 'Derby' 'Mansfield' 'Ashfield' 'Newark and Sherwood'\n",
            " 'Bassetlaw' 'Rushcliffe' 'Nottingham' 'Broxtowe' 'Gedling'\n",
            " 'South Holland' 'South Kesteven' 'North Kesteven' 'East Lindsey'\n",
            " 'West Lindsey' 'Boston' 'Lincoln' 'Leicester' 'Harborough' 'Charnwood'\n",
            " 'North West Leicestershire' 'Rutland' 'Blaby' 'Hinckley and Bosworth'\n",
            " 'Oadby and Wigston' 'Melton' 'Kettering' 'Corby' 'East Northamptonshire'\n",
            " 'Daventry' 'Northampton' 'South Northamptonshire' 'Wellingborough'\n",
            " 'South Cambridgeshire' 'Cambridge' 'Huntingdonshire' 'Peterborough'\n",
            " 'East Cambridgeshire' 'Fenland' 'Breckland'\n",
            " \"King's Lynn and West Norfolk\" 'Great Yarmouth' 'Broadland'\n",
            " 'North Norfolk' 'Norwich' 'South Norfolk' 'Suffolk Coastal'\n",
            " 'St. Edmundsbury' 'Ipswich' 'Forest Heath' 'Mid Suffolk' 'Babergh'\n",
            " 'Waveney' 'Bedford' 'Mid Bedfordshire' 'Luton' 'South Bedfordshire'\n",
            " 'East Hertfordshire' 'North Hertfordshire' 'Welwyn Hatfield' 'Broxbourne'\n",
            " 'St. Albans' 'Watford' 'Three Rivers' 'Hertsmere' 'Dacorum' 'Stevenage'\n",
            " 'Uttlesford' 'Braintree' 'Colchester' 'Epping Forest' 'Chelmsford'\n",
            " 'Harlow' 'Basildon' 'Thurrock' 'Brentwood' 'Maldon' 'Tendring'\n",
            " 'Southend-on-Sea' 'Rochford' 'Castle Point' 'Aylesbury Vale' 'Wycombe'\n",
            " 'South Bucks' 'Milton Keynes' 'Chiltern' 'Slough' 'Cherwell'\n",
            " 'South Oxfordshire' 'Windsor and Maidenhead' 'Vale of White Horse'\n",
            " 'West Oxfordshire' 'Oxford' 'West Berkshire' 'Wokingham' 'Reading'\n",
            " 'Bracknell Forest' 'Isle of Wight' 'Southampton' 'East Hampshire'\n",
            " 'Havant' 'Gosport' 'Fareham' 'Winchester' 'Hart' 'Eastleigh'\n",
            " 'Basingstoke and Deane' 'New Forest' 'Portsmouth' 'Test Valley'\n",
            " 'Rushmoor' 'Elmbridge' 'Runnymede' 'Guildford' 'Mole Valley' 'Spelthorne'\n",
            " 'Epsom and Ewell' 'Reigate and Banstead' 'Woking' 'Waverley'\n",
            " 'Surrey Heath' 'Tandridge' 'Medway' 'Dartford' 'Gravesham' 'Sevenoaks'\n",
            " 'Dover' 'Shepway' 'Ashford' 'Thanet' 'Canterbury' 'Tunbridge Wells'\n",
            " 'Swale' 'Tonbridge and Malling' 'Maidstone' 'Brighton and Hove' 'Wealden'\n",
            " 'Mid Sussex' 'Eastbourne' 'Lewes' 'Chichester' 'Rother' 'Hastings'\n",
            " 'Crawley' 'Horsham' 'Worthing' 'Arun' 'Adur' 'Kerrier' 'Carrick'\n",
            " 'Penwith' 'Restormel' 'North Cornwall' 'West Devon' 'Torridge' 'Caradon'\n",
            " 'North Devon' 'Exeter' 'East Devon' 'Teignbridge' 'Mid Devon' 'Plymouth'\n",
            " 'South Hams' 'Torbay' 'Bristol, City of' 'Bath and North East Somerset'\n",
            " 'Sedgemoor' 'Mendip' 'South Gloucestershire' 'South Somerset'\n",
            " 'West Somerset' 'Taunton Deane' 'North Somerset' 'Stroud' 'Tewkesbury'\n",
            " 'Cheltenham' 'Gloucester' 'Forest of Dean' 'Cotswold' 'Salisbury'\n",
            " 'Kennet' 'West Wiltshire' 'North Wiltshire' 'Swindon' 'Bournemouth'\n",
            " 'Poole' 'Christchurch' 'East Dorset' 'North Dorset' 'Purbeck'\n",
            " 'West Dorset' 'Weymouth and Portland' 'Isle of Anglesey' 'Conwy'\n",
            " 'Gwynedd' 'Denbighshire' 'Flintshire' 'Wrexham' 'Caerphilly'\n",
            " 'Blaenau Gwent' 'Newport' 'Torfaen' 'Monmouthshire' 'Swansea'\n",
            " 'Merthyr Tydfil' 'Neath Port Talbot' 'Bridgend' 'Cardiff'\n",
            " 'The Vale of Glamorgan' 'Rhondda, Cynon, Taff' 'Carmarthenshire'\n",
            " 'Ceredigion' 'Pembrokeshire' 'Powys' 'Highland' 'Western Isles'\n",
            " 'Orkney Islands' 'Shetland Islands' 'Aberdeen City' 'Moray'\n",
            " 'Aberdeenshire' 'Perth and Kinross' 'Dundee City' 'Angus' 'Fife'\n",
            " 'Edinburgh, City of' 'Scottish Borders' 'West Lothian' 'Midlothian'\n",
            " 'East Lothian' 'Falkirk' 'Stirling' 'Clackmannanshire' 'Glasgow City'\n",
            " 'East Dunbartonshire' 'East Renfrewshire' 'Renfrewshire' 'Inverclyde'\n",
            " 'Argyll and Bute' 'West Dunbartonshire' 'North Lanarkshire'\n",
            " 'South Lanarkshire' 'North Ayrshire' 'East Ayrshire' 'South Ayrshire'\n",
            " 'Dumfries and Galloway' 'Cheshire East' 'Cheshire West and Chester'\n",
            " 'Northumberland' 'County Durham' 'Shropshire' 'Central Bedfordshire'\n",
            " 'Cornwall' 'Wiltshire']\n",
            "\n",
            "Column: LSOA_of_Accident_Location\n",
            "  (35565 unique values) → ['E01002849' 'E01002909' 'E01002857' ... 'E01032883' 'E01032678'\n",
            " 'E01032701']\n",
            "\n",
            "Column: Urban_or_Rural_Area\n",
            "  (3 unique values) → ['Urban' 'Rural' 'Unallocated']\n",
            "\n",
            "Column: Road_Surface_Conditions\n",
            "  (6 unique values) → ['Wet or damp' 'Dry' 'Frost or ice' 'Snow' 'Flood over 3cm. deep'\n",
            " 'Data missing or out of range']\n",
            "\n",
            "Column: Road_Type\n",
            "  (7 unique values) → ['Single carriageway' 'Dual carriageway' 'One way street' 'Roundabout'\n",
            " 'Slip road' 'Unknown' 'Data missing or out of range']\n",
            "\n",
            "Column: Weather_Conditions\n",
            "  (10 unique values) → ['Raining no high winds' 'Fine no high winds' 'Unknown'\n",
            " 'Snowing no high winds' 'Other' 'Fine + high winds'\n",
            " 'Raining + high winds' 'Fog or mist' 'Snowing + high winds'\n",
            " 'Data missing or out of range']\n",
            "\n",
            "Column: Light_Conditions\n",
            "  (6 unique values) → ['Daylight' 'Darkness - lights lit' 'Darkness - lighting unknown'\n",
            " 'Darkness - lights unlit' 'Darkness - no lighting'\n",
            " 'Data missing or out of range']\n",
            "\n",
            "Column: Police_Force\n",
            "  (51 unique values) → ['Metropolitan Police' 'City of London' 'Cumbria' 'Lancashire'\n",
            " 'Merseyside' 'Greater Manchester' 'Cheshire' 'Northumbria' 'Durham'\n",
            " 'North Yorkshire' 'West Yorkshire' 'South Yorkshire' 'Humberside'\n",
            " 'Cleveland' 'West Midlands' 'Staffordshire' 'West Mercia' 'Warwickshire'\n",
            " 'Derbyshire' 'Nottinghamshire' 'Lincolnshire' 'Leicestershire'\n",
            " 'Northamptonshire' 'Cambridgeshire' 'Norfolk' 'Suffolk' 'Bedfordshire'\n",
            " 'Hertfordshire' 'Essex' 'Thames Valley' 'Hampshire' 'Surrey' 'Kent'\n",
            " 'Sussex' 'Devon and Cornwall' 'Avon and Somerset' 'Gloucestershire'\n",
            " 'Wiltshire' 'Dorset' 'North Wales' 'Gwent' 'South Wales' 'Dyfed-Powys'\n",
            " 'Northern' 'Grampian' 'Tayside' 'Fife' 'Lothian and Borders' 'Central'\n",
            " 'Strathclyde' 'Dumfries and Galloway']\n",
            "\n",
            "Column: Day_of_Week\n",
            "  (7 unique values) → ['Tuesday' 'Wednesday' 'Thursday' 'Friday' 'Monday' 'Saturday' 'Sunday']\n",
            "\n",
            "Column: InScotland\n",
            "  (3 unique values) → ['No' 'Yes' nan]\n",
            "\n"
          ]
        }
      ]
    },
    {
      "cell_type": "code",
      "source": [
        "as_accident_level.shape"
      ],
      "metadata": {
        "colab": {
          "base_uri": "https://localhost:8080/"
        },
        "id": "hyjxZ8GSv9BE",
        "outputId": "41fa52e1-29e8-4ba3-a30c-4e3efa0d3d51"
      },
      "execution_count": null,
      "outputs": [
        {
          "output_type": "execute_result",
          "data": {
            "text/plain": [
              "(2047256, 19)"
            ]
          },
          "metadata": {},
          "execution_count": 38
        }
      ]
    },
    {
      "cell_type": "code",
      "source": [
        "# 2.3 Fill missing Time with \"00:00\"\n",
        "as_accident_level['Time'] = as_accident_level['Time'].fillna('00:00')\n",
        "\n",
        "# 1) First, coerce Latitude/Longitude to numeric (so any non-numeric becomes NaN)\n",
        "as_accident_level['Latitude'] = pd.to_numeric(\n",
        "    as_accident_level['Latitude'], errors='coerce'\n",
        ")\n",
        "as_accident_level['Longitude'] = pd.to_numeric(\n",
        "    as_accident_level['Longitude'], errors='coerce'\n",
        ")\n",
        "\n",
        "# 2) Now drop any row where either is NaN\n",
        "before = as_accident_level.shape[0]\n",
        "as_accident_level = as_accident_level.dropna(\n",
        "    subset=['Latitude','Longitude'], how='any'\n",
        ")"
      ],
      "metadata": {
        "id": "dpiXkCnwwBy-"
      },
      "execution_count": null,
      "outputs": []
    },
    {
      "cell_type": "code",
      "source": [
        "# 2.5 Drop OS grid columns entirely\n",
        "as_accident_level = as_accident_level.drop(columns=['Location_Easting_OSGR', 'Location_Northing_OSGR'], errors='ignore')\n",
        "\n",
        "# 2.6 Fill missing Speed_limit with -1\n",
        "as_accident_level['Speed_limit'] = as_accident_level['Speed_limit'].fillna(-1)\n",
        "\n",
        "# 2.10 Fill missing Number_of_Casualties / Number_of_Vehicles with 0\n",
        "as_accident_level['Number_of_Casualties'] = \\\n",
        "    as_accident_level['Number_of_Casualties'].fillna(0).astype(int)\n",
        "as_accident_level['Number_of_Vehicles']   = \\\n",
        "    as_accident_level['Number_of_Vehicles'].fillna(0).astype(int)"
      ],
      "metadata": {
        "id": "wb9LTcCawJdz"
      },
      "execution_count": null,
      "outputs": []
    },
    {
      "cell_type": "code",
      "source": [
        "# 2.7 Fill missing InScotland with \"Unknown\"\n",
        "as_accident_level['InScotland'] = as_accident_level['InScotland'].fillna('Unknown').astype(str).str.strip()\n",
        "\n",
        "# 2.8 Fill missing LSOA_of_Accident_Location (~7%) with \"Unknown\"\n",
        "as_accident_level['LSOA_of_Accident_Location'] = (\n",
        "    as_accident_level['LSOA_of_Accident_Location']\n",
        "    .fillna('Unknown')\n",
        "    .astype(str)\n",
        "    .str.strip()\n",
        ")"
      ],
      "metadata": {
        "id": "JDLfk3jVwSiV"
      },
      "execution_count": null,
      "outputs": []
    },
    {
      "cell_type": "code",
      "source": [
        "# 2.9 Fill all remaining categorical columns with \"Unknown\" if missing\n",
        "for col in [\n",
        "    'Local_Authority_(District)',\n",
        "    'Urban_or_Rural_Area',\n",
        "    'Road_Surface_Conditions',\n",
        "    'Road_Type',\n",
        "    'Weather_Conditions',\n",
        "    'Light_Conditions',\n",
        "    'Day_of_Week',\n",
        "    'Police_Force'\n",
        "]:\n",
        "    as_accident_level[col] = as_accident_level[col].fillna('Unknown').astype(str).str.strip()\n",
        "\n",
        "\n",
        "# 2.11 PARSE DATE into datetime, letting pandas infer format (no explicit format string):\n",
        "print(\"Before date parsing, rows:\", as_accident_level.shape[0])\n",
        "as_accident_level['Date_dt'] = pd.to_datetime(as_accident_level['Date'], errors='coerce')\n",
        "# Drop any rows where date parse failed—should be very few if any\n",
        "before_drop_date = as_accident_level.shape[0]\n",
        "as_accident_level = as_accident_level.dropna(subset=['Date_dt'])\n",
        "print(\"Dropped\", before_drop_date - as_accident_level.shape[0], \"rows where Date parse failed\")\n",
        "print(\"After date parsing, rows:\", as_accident_level.shape[0])\n",
        "\n",
        "\n",
        "\n"
      ],
      "metadata": {
        "colab": {
          "base_uri": "https://localhost:8080/"
        },
        "id": "QtX3OKHYwan8",
        "outputId": "a1c5aec0-1adf-4bcf-da72-ed023c86c78a"
      },
      "execution_count": null,
      "outputs": [
        {
          "output_type": "stream",
          "name": "stdout",
          "text": [
            "Before date parsing, rows: 2047081\n",
            "Dropped 0 rows where Date parse failed\n",
            "After date parsing, rows: 2047081\n"
          ]
        }
      ]
    },
    {
      "cell_type": "code",
      "source": [
        "\n",
        "# === 3) FEATURE ENGINEERING / CLEANING CATEGORICALS ===\n",
        "\n",
        "# 3.1 TEMPORAL FEATURES\n",
        "as_accident_level['Hour'] = pd.to_datetime(\n",
        "    as_accident_level['Date'] + ' ' + as_accident_level['Time'],\n",
        "    format='%Y-%m-%d %H:%M',  # Time string already \"HH:MM\", Date \"YYYY-MM-DD\"\n",
        "    errors='coerce'\n",
        ").dt.hour\n",
        "\n",
        "# If any Hour parse failed (unlikely), fill with median\n",
        "as_accident_level['Hour'] = as_accident_level['Hour'].fillna(as_accident_level['Hour'].median()).astype(int)\n",
        "\n",
        "# Weekday and Month from Date_dt\n",
        "as_accident_level['Weekday_Num'] = as_accident_level['Date_dt'].dt.dayofweek\n",
        "as_accident_level['Month']       = as_accident_level['Date_dt'].dt.month\n",
        "\n",
        "# 5.8 DAY OF WEEK: Day_of_Week_Label from Date_dt (ignore original Day_of_Week)\n",
        "as_accident_level['Day_of_Week_Label'] = as_accident_level['Date_dt'].dt.day_name()\n",
        "\n",
        "# Assuming 'Date_dt' is your datetime column\n",
        "as_accident_level['Year'] = as_accident_level['Date_dt'].dt.year\n",
        "\n",
        "# Season from Month\n",
        "def month_to_season(m):\n",
        "    if m in [12, 1, 2]:\n",
        "        return 'Winter'\n",
        "    elif m in [3, 4, 5]:\n",
        "        return 'Spring'\n",
        "    elif m in [6, 7, 8]:\n",
        "        return 'Summer'\n",
        "    else:\n",
        "        return 'Autumn'\n",
        "as_accident_level['Season'] = as_accident_level['Month'].apply(month_to_season)\n",
        "\n",
        "# Time_of_Day from Hour\n",
        "def time_of_day(h):\n",
        "    if pd.isna(h):\n",
        "        return 'Unknown'\n",
        "    if h < 6:\n",
        "        return 'Late_Night'\n",
        "    elif h < 9:\n",
        "        return 'Morning_Peak'\n",
        "    elif h < 16:\n",
        "        return 'Daytime'\n",
        "    elif h < 19:\n",
        "        return 'Evening_Peak'\n",
        "    else:\n",
        "        return 'Night'\n",
        "as_accident_level['Time_of_Day'] = as_accident_level['Hour'].apply(time_of_day)\n",
        "\n"
      ],
      "metadata": {
        "id": "gtZ6aHzmw3ul"
      },
      "execution_count": null,
      "outputs": []
    },
    {
      "cell_type": "code",
      "source": [
        "as_accident_level.head()"
      ],
      "metadata": {
        "colab": {
          "base_uri": "https://localhost:8080/",
          "height": 342
        },
        "id": "_JNACpFaxVdP",
        "outputId": "d645b8c6-b091-426d-b4bb-e79e92b13985"
      },
      "execution_count": null,
      "outputs": [
        {
          "output_type": "execute_result",
          "data": {
            "text/plain": [
              "  Accident_Index Accident_Severity        Date   Time   Latitude  Longitude  \\\n",
              "0  200501BS00001           Serious  2005-01-04  17:42  51.489096  -0.191170   \n",
              "1  200501BS00002            Slight  2005-01-05  17:36  51.520075  -0.211708   \n",
              "2  200501BS00003            Slight  2005-01-06  00:15  51.525301  -0.206458   \n",
              "3  200501BS00004            Slight  2005-01-07  10:35  51.482442  -0.173862   \n",
              "4  200501BS00005            Slight  2005-01-10  21:13  51.495752  -0.156618   \n",
              "\n",
              "  Local_Authority_(District) LSOA_of_Accident_Location Urban_or_Rural_Area  \\\n",
              "0     Kensington and Chelsea                 E01002849               Urban   \n",
              "1     Kensington and Chelsea                 E01002909               Urban   \n",
              "2     Kensington and Chelsea                 E01002857               Urban   \n",
              "3     Kensington and Chelsea                 E01002840               Urban   \n",
              "4     Kensington and Chelsea                 E01002863               Urban   \n",
              "\n",
              "  Road_Surface_Conditions  ... Day_of_Week  InScotland    Date_dt Hour  \\\n",
              "0             Wet or damp  ...     Tuesday          No 2005-01-04   17   \n",
              "1                     Dry  ...   Wednesday          No 2005-01-05   17   \n",
              "2                     Dry  ...    Thursday          No 2005-01-06    0   \n",
              "3                     Dry  ...      Friday          No 2005-01-07   10   \n",
              "4             Wet or damp  ...      Monday          No 2005-01-10   21   \n",
              "\n",
              "   Weekday_Num  Month Day_of_Week_Label  Year  Season   Time_of_Day  \n",
              "0            1      1           Tuesday  2005  Winter  Evening_Peak  \n",
              "1            2      1         Wednesday  2005  Winter  Evening_Peak  \n",
              "2            3      1          Thursday  2005  Winter    Late_Night  \n",
              "3            4      1            Friday  2005  Winter       Daytime  \n",
              "4            0      1            Monday  2005  Winter         Night  \n",
              "\n",
              "[5 rows x 27 columns]"
            ],
            "text/html": [
              "\n",
              "  <div id=\"df-c5c103ee-854e-44a0-b0be-1f1bd73ca322\" class=\"colab-df-container\">\n",
              "    <div>\n",
              "<style scoped>\n",
              "    .dataframe tbody tr th:only-of-type {\n",
              "        vertical-align: middle;\n",
              "    }\n",
              "\n",
              "    .dataframe tbody tr th {\n",
              "        vertical-align: top;\n",
              "    }\n",
              "\n",
              "    .dataframe thead th {\n",
              "        text-align: right;\n",
              "    }\n",
              "</style>\n",
              "<table border=\"1\" class=\"dataframe\">\n",
              "  <thead>\n",
              "    <tr style=\"text-align: right;\">\n",
              "      <th></th>\n",
              "      <th>Accident_Index</th>\n",
              "      <th>Accident_Severity</th>\n",
              "      <th>Date</th>\n",
              "      <th>Time</th>\n",
              "      <th>Latitude</th>\n",
              "      <th>Longitude</th>\n",
              "      <th>Local_Authority_(District)</th>\n",
              "      <th>LSOA_of_Accident_Location</th>\n",
              "      <th>Urban_or_Rural_Area</th>\n",
              "      <th>Road_Surface_Conditions</th>\n",
              "      <th>...</th>\n",
              "      <th>Day_of_Week</th>\n",
              "      <th>InScotland</th>\n",
              "      <th>Date_dt</th>\n",
              "      <th>Hour</th>\n",
              "      <th>Weekday_Num</th>\n",
              "      <th>Month</th>\n",
              "      <th>Day_of_Week_Label</th>\n",
              "      <th>Year</th>\n",
              "      <th>Season</th>\n",
              "      <th>Time_of_Day</th>\n",
              "    </tr>\n",
              "  </thead>\n",
              "  <tbody>\n",
              "    <tr>\n",
              "      <th>0</th>\n",
              "      <td>200501BS00001</td>\n",
              "      <td>Serious</td>\n",
              "      <td>2005-01-04</td>\n",
              "      <td>17:42</td>\n",
              "      <td>51.489096</td>\n",
              "      <td>-0.191170</td>\n",
              "      <td>Kensington and Chelsea</td>\n",
              "      <td>E01002849</td>\n",
              "      <td>Urban</td>\n",
              "      <td>Wet or damp</td>\n",
              "      <td>...</td>\n",
              "      <td>Tuesday</td>\n",
              "      <td>No</td>\n",
              "      <td>2005-01-04</td>\n",
              "      <td>17</td>\n",
              "      <td>1</td>\n",
              "      <td>1</td>\n",
              "      <td>Tuesday</td>\n",
              "      <td>2005</td>\n",
              "      <td>Winter</td>\n",
              "      <td>Evening_Peak</td>\n",
              "    </tr>\n",
              "    <tr>\n",
              "      <th>1</th>\n",
              "      <td>200501BS00002</td>\n",
              "      <td>Slight</td>\n",
              "      <td>2005-01-05</td>\n",
              "      <td>17:36</td>\n",
              "      <td>51.520075</td>\n",
              "      <td>-0.211708</td>\n",
              "      <td>Kensington and Chelsea</td>\n",
              "      <td>E01002909</td>\n",
              "      <td>Urban</td>\n",
              "      <td>Dry</td>\n",
              "      <td>...</td>\n",
              "      <td>Wednesday</td>\n",
              "      <td>No</td>\n",
              "      <td>2005-01-05</td>\n",
              "      <td>17</td>\n",
              "      <td>2</td>\n",
              "      <td>1</td>\n",
              "      <td>Wednesday</td>\n",
              "      <td>2005</td>\n",
              "      <td>Winter</td>\n",
              "      <td>Evening_Peak</td>\n",
              "    </tr>\n",
              "    <tr>\n",
              "      <th>2</th>\n",
              "      <td>200501BS00003</td>\n",
              "      <td>Slight</td>\n",
              "      <td>2005-01-06</td>\n",
              "      <td>00:15</td>\n",
              "      <td>51.525301</td>\n",
              "      <td>-0.206458</td>\n",
              "      <td>Kensington and Chelsea</td>\n",
              "      <td>E01002857</td>\n",
              "      <td>Urban</td>\n",
              "      <td>Dry</td>\n",
              "      <td>...</td>\n",
              "      <td>Thursday</td>\n",
              "      <td>No</td>\n",
              "      <td>2005-01-06</td>\n",
              "      <td>0</td>\n",
              "      <td>3</td>\n",
              "      <td>1</td>\n",
              "      <td>Thursday</td>\n",
              "      <td>2005</td>\n",
              "      <td>Winter</td>\n",
              "      <td>Late_Night</td>\n",
              "    </tr>\n",
              "    <tr>\n",
              "      <th>3</th>\n",
              "      <td>200501BS00004</td>\n",
              "      <td>Slight</td>\n",
              "      <td>2005-01-07</td>\n",
              "      <td>10:35</td>\n",
              "      <td>51.482442</td>\n",
              "      <td>-0.173862</td>\n",
              "      <td>Kensington and Chelsea</td>\n",
              "      <td>E01002840</td>\n",
              "      <td>Urban</td>\n",
              "      <td>Dry</td>\n",
              "      <td>...</td>\n",
              "      <td>Friday</td>\n",
              "      <td>No</td>\n",
              "      <td>2005-01-07</td>\n",
              "      <td>10</td>\n",
              "      <td>4</td>\n",
              "      <td>1</td>\n",
              "      <td>Friday</td>\n",
              "      <td>2005</td>\n",
              "      <td>Winter</td>\n",
              "      <td>Daytime</td>\n",
              "    </tr>\n",
              "    <tr>\n",
              "      <th>4</th>\n",
              "      <td>200501BS00005</td>\n",
              "      <td>Slight</td>\n",
              "      <td>2005-01-10</td>\n",
              "      <td>21:13</td>\n",
              "      <td>51.495752</td>\n",
              "      <td>-0.156618</td>\n",
              "      <td>Kensington and Chelsea</td>\n",
              "      <td>E01002863</td>\n",
              "      <td>Urban</td>\n",
              "      <td>Wet or damp</td>\n",
              "      <td>...</td>\n",
              "      <td>Monday</td>\n",
              "      <td>No</td>\n",
              "      <td>2005-01-10</td>\n",
              "      <td>21</td>\n",
              "      <td>0</td>\n",
              "      <td>1</td>\n",
              "      <td>Monday</td>\n",
              "      <td>2005</td>\n",
              "      <td>Winter</td>\n",
              "      <td>Night</td>\n",
              "    </tr>\n",
              "  </tbody>\n",
              "</table>\n",
              "<p>5 rows × 27 columns</p>\n",
              "</div>\n",
              "    <div class=\"colab-df-buttons\">\n",
              "\n",
              "  <div class=\"colab-df-container\">\n",
              "    <button class=\"colab-df-convert\" onclick=\"convertToInteractive('df-c5c103ee-854e-44a0-b0be-1f1bd73ca322')\"\n",
              "            title=\"Convert this dataframe to an interactive table.\"\n",
              "            style=\"display:none;\">\n",
              "\n",
              "  <svg xmlns=\"http://www.w3.org/2000/svg\" height=\"24px\" viewBox=\"0 -960 960 960\">\n",
              "    <path d=\"M120-120v-720h720v720H120Zm60-500h600v-160H180v160Zm220 220h160v-160H400v160Zm0 220h160v-160H400v160ZM180-400h160v-160H180v160Zm440 0h160v-160H620v160ZM180-180h160v-160H180v160Zm440 0h160v-160H620v160Z\"/>\n",
              "  </svg>\n",
              "    </button>\n",
              "\n",
              "  <style>\n",
              "    .colab-df-container {\n",
              "      display:flex;\n",
              "      gap: 12px;\n",
              "    }\n",
              "\n",
              "    .colab-df-convert {\n",
              "      background-color: #E8F0FE;\n",
              "      border: none;\n",
              "      border-radius: 50%;\n",
              "      cursor: pointer;\n",
              "      display: none;\n",
              "      fill: #1967D2;\n",
              "      height: 32px;\n",
              "      padding: 0 0 0 0;\n",
              "      width: 32px;\n",
              "    }\n",
              "\n",
              "    .colab-df-convert:hover {\n",
              "      background-color: #E2EBFA;\n",
              "      box-shadow: 0px 1px 2px rgba(60, 64, 67, 0.3), 0px 1px 3px 1px rgba(60, 64, 67, 0.15);\n",
              "      fill: #174EA6;\n",
              "    }\n",
              "\n",
              "    .colab-df-buttons div {\n",
              "      margin-bottom: 4px;\n",
              "    }\n",
              "\n",
              "    [theme=dark] .colab-df-convert {\n",
              "      background-color: #3B4455;\n",
              "      fill: #D2E3FC;\n",
              "    }\n",
              "\n",
              "    [theme=dark] .colab-df-convert:hover {\n",
              "      background-color: #434B5C;\n",
              "      box-shadow: 0px 1px 3px 1px rgba(0, 0, 0, 0.15);\n",
              "      filter: drop-shadow(0px 1px 2px rgba(0, 0, 0, 0.3));\n",
              "      fill: #FFFFFF;\n",
              "    }\n",
              "  </style>\n",
              "\n",
              "    <script>\n",
              "      const buttonEl =\n",
              "        document.querySelector('#df-c5c103ee-854e-44a0-b0be-1f1bd73ca322 button.colab-df-convert');\n",
              "      buttonEl.style.display =\n",
              "        google.colab.kernel.accessAllowed ? 'block' : 'none';\n",
              "\n",
              "      async function convertToInteractive(key) {\n",
              "        const element = document.querySelector('#df-c5c103ee-854e-44a0-b0be-1f1bd73ca322');\n",
              "        const dataTable =\n",
              "          await google.colab.kernel.invokeFunction('convertToInteractive',\n",
              "                                                    [key], {});\n",
              "        if (!dataTable) return;\n",
              "\n",
              "        const docLinkHtml = 'Like what you see? Visit the ' +\n",
              "          '<a target=\"_blank\" href=https://colab.research.google.com/notebooks/data_table.ipynb>data table notebook</a>'\n",
              "          + ' to learn more about interactive tables.';\n",
              "        element.innerHTML = '';\n",
              "        dataTable['output_type'] = 'display_data';\n",
              "        await google.colab.output.renderOutput(dataTable, element);\n",
              "        const docLink = document.createElement('div');\n",
              "        docLink.innerHTML = docLinkHtml;\n",
              "        element.appendChild(docLink);\n",
              "      }\n",
              "    </script>\n",
              "  </div>\n",
              "\n",
              "\n",
              "    <div id=\"df-f6e20b09-801b-4af5-871c-a652c03a7a39\">\n",
              "      <button class=\"colab-df-quickchart\" onclick=\"quickchart('df-f6e20b09-801b-4af5-871c-a652c03a7a39')\"\n",
              "                title=\"Suggest charts\"\n",
              "                style=\"display:none;\">\n",
              "\n",
              "<svg xmlns=\"http://www.w3.org/2000/svg\" height=\"24px\"viewBox=\"0 0 24 24\"\n",
              "     width=\"24px\">\n",
              "    <g>\n",
              "        <path d=\"M19 3H5c-1.1 0-2 .9-2 2v14c0 1.1.9 2 2 2h14c1.1 0 2-.9 2-2V5c0-1.1-.9-2-2-2zM9 17H7v-7h2v7zm4 0h-2V7h2v10zm4 0h-2v-4h2v4z\"/>\n",
              "    </g>\n",
              "</svg>\n",
              "      </button>\n",
              "\n",
              "<style>\n",
              "  .colab-df-quickchart {\n",
              "      --bg-color: #E8F0FE;\n",
              "      --fill-color: #1967D2;\n",
              "      --hover-bg-color: #E2EBFA;\n",
              "      --hover-fill-color: #174EA6;\n",
              "      --disabled-fill-color: #AAA;\n",
              "      --disabled-bg-color: #DDD;\n",
              "  }\n",
              "\n",
              "  [theme=dark] .colab-df-quickchart {\n",
              "      --bg-color: #3B4455;\n",
              "      --fill-color: #D2E3FC;\n",
              "      --hover-bg-color: #434B5C;\n",
              "      --hover-fill-color: #FFFFFF;\n",
              "      --disabled-bg-color: #3B4455;\n",
              "      --disabled-fill-color: #666;\n",
              "  }\n",
              "\n",
              "  .colab-df-quickchart {\n",
              "    background-color: var(--bg-color);\n",
              "    border: none;\n",
              "    border-radius: 50%;\n",
              "    cursor: pointer;\n",
              "    display: none;\n",
              "    fill: var(--fill-color);\n",
              "    height: 32px;\n",
              "    padding: 0;\n",
              "    width: 32px;\n",
              "  }\n",
              "\n",
              "  .colab-df-quickchart:hover {\n",
              "    background-color: var(--hover-bg-color);\n",
              "    box-shadow: 0 1px 2px rgba(60, 64, 67, 0.3), 0 1px 3px 1px rgba(60, 64, 67, 0.15);\n",
              "    fill: var(--button-hover-fill-color);\n",
              "  }\n",
              "\n",
              "  .colab-df-quickchart-complete:disabled,\n",
              "  .colab-df-quickchart-complete:disabled:hover {\n",
              "    background-color: var(--disabled-bg-color);\n",
              "    fill: var(--disabled-fill-color);\n",
              "    box-shadow: none;\n",
              "  }\n",
              "\n",
              "  .colab-df-spinner {\n",
              "    border: 2px solid var(--fill-color);\n",
              "    border-color: transparent;\n",
              "    border-bottom-color: var(--fill-color);\n",
              "    animation:\n",
              "      spin 1s steps(1) infinite;\n",
              "  }\n",
              "\n",
              "  @keyframes spin {\n",
              "    0% {\n",
              "      border-color: transparent;\n",
              "      border-bottom-color: var(--fill-color);\n",
              "      border-left-color: var(--fill-color);\n",
              "    }\n",
              "    20% {\n",
              "      border-color: transparent;\n",
              "      border-left-color: var(--fill-color);\n",
              "      border-top-color: var(--fill-color);\n",
              "    }\n",
              "    30% {\n",
              "      border-color: transparent;\n",
              "      border-left-color: var(--fill-color);\n",
              "      border-top-color: var(--fill-color);\n",
              "      border-right-color: var(--fill-color);\n",
              "    }\n",
              "    40% {\n",
              "      border-color: transparent;\n",
              "      border-right-color: var(--fill-color);\n",
              "      border-top-color: var(--fill-color);\n",
              "    }\n",
              "    60% {\n",
              "      border-color: transparent;\n",
              "      border-right-color: var(--fill-color);\n",
              "    }\n",
              "    80% {\n",
              "      border-color: transparent;\n",
              "      border-right-color: var(--fill-color);\n",
              "      border-bottom-color: var(--fill-color);\n",
              "    }\n",
              "    90% {\n",
              "      border-color: transparent;\n",
              "      border-bottom-color: var(--fill-color);\n",
              "    }\n",
              "  }\n",
              "</style>\n",
              "\n",
              "      <script>\n",
              "        async function quickchart(key) {\n",
              "          const quickchartButtonEl =\n",
              "            document.querySelector('#' + key + ' button');\n",
              "          quickchartButtonEl.disabled = true;  // To prevent multiple clicks.\n",
              "          quickchartButtonEl.classList.add('colab-df-spinner');\n",
              "          try {\n",
              "            const charts = await google.colab.kernel.invokeFunction(\n",
              "                'suggestCharts', [key], {});\n",
              "          } catch (error) {\n",
              "            console.error('Error during call to suggestCharts:', error);\n",
              "          }\n",
              "          quickchartButtonEl.classList.remove('colab-df-spinner');\n",
              "          quickchartButtonEl.classList.add('colab-df-quickchart-complete');\n",
              "        }\n",
              "        (() => {\n",
              "          let quickchartButtonEl =\n",
              "            document.querySelector('#df-f6e20b09-801b-4af5-871c-a652c03a7a39 button');\n",
              "          quickchartButtonEl.style.display =\n",
              "            google.colab.kernel.accessAllowed ? 'block' : 'none';\n",
              "        })();\n",
              "      </script>\n",
              "    </div>\n",
              "\n",
              "    </div>\n",
              "  </div>\n"
            ],
            "application/vnd.google.colaboratory.intrinsic+json": {
              "type": "dataframe",
              "variable_name": "as_accident_level"
            }
          },
          "metadata": {},
          "execution_count": 44
        }
      ]
    },
    {
      "cell_type": "code",
      "source": [
        "# 5.2 SPATIAL: URBAN_OR_RURAL_AREA → Urban_Rural_Label\n",
        "#     Unique raw values: ['Urban', 'Rural', 'Unallocated']\n",
        "as_accident_level['Urban_or_Rural_Area'] = as_accident_level['Urban_or_Rural_Area'].astype(str).str.strip()\n",
        "def map_urban_rural(x):\n",
        "    if x == 'Urban':\n",
        "        return 'Urban'\n",
        "    elif x == 'Rural':\n",
        "        return 'Rural'\n",
        "    else:  # 'Unallocated' or anything else\n",
        "        return 'Unknown'\n",
        "as_accident_level['Urban_Rural_Label'] = as_accident_level['Urban_or_Rural_Area'].apply(map_urban_rural)"
      ],
      "metadata": {
        "id": "MnbsiCCexZj8"
      },
      "execution_count": null,
      "outputs": []
    },
    {
      "cell_type": "code",
      "source": [
        "as_accident_level.head()"
      ],
      "metadata": {
        "colab": {
          "base_uri": "https://localhost:8080/",
          "height": 342
        },
        "id": "kDvaqZdBxgYz",
        "outputId": "554928c4-20d6-4274-ffa8-d0fd70ff5a70"
      },
      "execution_count": null,
      "outputs": [
        {
          "output_type": "execute_result",
          "data": {
            "text/plain": [
              "  Accident_Index Accident_Severity        Date   Time   Latitude  Longitude  \\\n",
              "0  200501BS00001           Serious  2005-01-04  17:42  51.489096  -0.191170   \n",
              "1  200501BS00002            Slight  2005-01-05  17:36  51.520075  -0.211708   \n",
              "2  200501BS00003            Slight  2005-01-06  00:15  51.525301  -0.206458   \n",
              "3  200501BS00004            Slight  2005-01-07  10:35  51.482442  -0.173862   \n",
              "4  200501BS00005            Slight  2005-01-10  21:13  51.495752  -0.156618   \n",
              "\n",
              "  Local_Authority_(District) LSOA_of_Accident_Location Urban_or_Rural_Area  \\\n",
              "0     Kensington and Chelsea                 E01002849               Urban   \n",
              "1     Kensington and Chelsea                 E01002909               Urban   \n",
              "2     Kensington and Chelsea                 E01002857               Urban   \n",
              "3     Kensington and Chelsea                 E01002840               Urban   \n",
              "4     Kensington and Chelsea                 E01002863               Urban   \n",
              "\n",
              "  Road_Surface_Conditions  ... InScotland    Date_dt Hour Weekday_Num  Month  \\\n",
              "0             Wet or damp  ...         No 2005-01-04   17           1      1   \n",
              "1                     Dry  ...         No 2005-01-05   17           2      1   \n",
              "2                     Dry  ...         No 2005-01-06    0           3      1   \n",
              "3                     Dry  ...         No 2005-01-07   10           4      1   \n",
              "4             Wet or damp  ...         No 2005-01-10   21           0      1   \n",
              "\n",
              "   Day_of_Week_Label  Year  Season   Time_of_Day Urban_Rural_Label  \n",
              "0            Tuesday  2005  Winter  Evening_Peak             Urban  \n",
              "1          Wednesday  2005  Winter  Evening_Peak             Urban  \n",
              "2           Thursday  2005  Winter    Late_Night             Urban  \n",
              "3             Friday  2005  Winter       Daytime             Urban  \n",
              "4             Monday  2005  Winter         Night             Urban  \n",
              "\n",
              "[5 rows x 28 columns]"
            ],
            "text/html": [
              "\n",
              "  <div id=\"df-df1dee84-18c4-4344-8d29-89bfbb65b612\" class=\"colab-df-container\">\n",
              "    <div>\n",
              "<style scoped>\n",
              "    .dataframe tbody tr th:only-of-type {\n",
              "        vertical-align: middle;\n",
              "    }\n",
              "\n",
              "    .dataframe tbody tr th {\n",
              "        vertical-align: top;\n",
              "    }\n",
              "\n",
              "    .dataframe thead th {\n",
              "        text-align: right;\n",
              "    }\n",
              "</style>\n",
              "<table border=\"1\" class=\"dataframe\">\n",
              "  <thead>\n",
              "    <tr style=\"text-align: right;\">\n",
              "      <th></th>\n",
              "      <th>Accident_Index</th>\n",
              "      <th>Accident_Severity</th>\n",
              "      <th>Date</th>\n",
              "      <th>Time</th>\n",
              "      <th>Latitude</th>\n",
              "      <th>Longitude</th>\n",
              "      <th>Local_Authority_(District)</th>\n",
              "      <th>LSOA_of_Accident_Location</th>\n",
              "      <th>Urban_or_Rural_Area</th>\n",
              "      <th>Road_Surface_Conditions</th>\n",
              "      <th>...</th>\n",
              "      <th>InScotland</th>\n",
              "      <th>Date_dt</th>\n",
              "      <th>Hour</th>\n",
              "      <th>Weekday_Num</th>\n",
              "      <th>Month</th>\n",
              "      <th>Day_of_Week_Label</th>\n",
              "      <th>Year</th>\n",
              "      <th>Season</th>\n",
              "      <th>Time_of_Day</th>\n",
              "      <th>Urban_Rural_Label</th>\n",
              "    </tr>\n",
              "  </thead>\n",
              "  <tbody>\n",
              "    <tr>\n",
              "      <th>0</th>\n",
              "      <td>200501BS00001</td>\n",
              "      <td>Serious</td>\n",
              "      <td>2005-01-04</td>\n",
              "      <td>17:42</td>\n",
              "      <td>51.489096</td>\n",
              "      <td>-0.191170</td>\n",
              "      <td>Kensington and Chelsea</td>\n",
              "      <td>E01002849</td>\n",
              "      <td>Urban</td>\n",
              "      <td>Wet or damp</td>\n",
              "      <td>...</td>\n",
              "      <td>No</td>\n",
              "      <td>2005-01-04</td>\n",
              "      <td>17</td>\n",
              "      <td>1</td>\n",
              "      <td>1</td>\n",
              "      <td>Tuesday</td>\n",
              "      <td>2005</td>\n",
              "      <td>Winter</td>\n",
              "      <td>Evening_Peak</td>\n",
              "      <td>Urban</td>\n",
              "    </tr>\n",
              "    <tr>\n",
              "      <th>1</th>\n",
              "      <td>200501BS00002</td>\n",
              "      <td>Slight</td>\n",
              "      <td>2005-01-05</td>\n",
              "      <td>17:36</td>\n",
              "      <td>51.520075</td>\n",
              "      <td>-0.211708</td>\n",
              "      <td>Kensington and Chelsea</td>\n",
              "      <td>E01002909</td>\n",
              "      <td>Urban</td>\n",
              "      <td>Dry</td>\n",
              "      <td>...</td>\n",
              "      <td>No</td>\n",
              "      <td>2005-01-05</td>\n",
              "      <td>17</td>\n",
              "      <td>2</td>\n",
              "      <td>1</td>\n",
              "      <td>Wednesday</td>\n",
              "      <td>2005</td>\n",
              "      <td>Winter</td>\n",
              "      <td>Evening_Peak</td>\n",
              "      <td>Urban</td>\n",
              "    </tr>\n",
              "    <tr>\n",
              "      <th>2</th>\n",
              "      <td>200501BS00003</td>\n",
              "      <td>Slight</td>\n",
              "      <td>2005-01-06</td>\n",
              "      <td>00:15</td>\n",
              "      <td>51.525301</td>\n",
              "      <td>-0.206458</td>\n",
              "      <td>Kensington and Chelsea</td>\n",
              "      <td>E01002857</td>\n",
              "      <td>Urban</td>\n",
              "      <td>Dry</td>\n",
              "      <td>...</td>\n",
              "      <td>No</td>\n",
              "      <td>2005-01-06</td>\n",
              "      <td>0</td>\n",
              "      <td>3</td>\n",
              "      <td>1</td>\n",
              "      <td>Thursday</td>\n",
              "      <td>2005</td>\n",
              "      <td>Winter</td>\n",
              "      <td>Late_Night</td>\n",
              "      <td>Urban</td>\n",
              "    </tr>\n",
              "    <tr>\n",
              "      <th>3</th>\n",
              "      <td>200501BS00004</td>\n",
              "      <td>Slight</td>\n",
              "      <td>2005-01-07</td>\n",
              "      <td>10:35</td>\n",
              "      <td>51.482442</td>\n",
              "      <td>-0.173862</td>\n",
              "      <td>Kensington and Chelsea</td>\n",
              "      <td>E01002840</td>\n",
              "      <td>Urban</td>\n",
              "      <td>Dry</td>\n",
              "      <td>...</td>\n",
              "      <td>No</td>\n",
              "      <td>2005-01-07</td>\n",
              "      <td>10</td>\n",
              "      <td>4</td>\n",
              "      <td>1</td>\n",
              "      <td>Friday</td>\n",
              "      <td>2005</td>\n",
              "      <td>Winter</td>\n",
              "      <td>Daytime</td>\n",
              "      <td>Urban</td>\n",
              "    </tr>\n",
              "    <tr>\n",
              "      <th>4</th>\n",
              "      <td>200501BS00005</td>\n",
              "      <td>Slight</td>\n",
              "      <td>2005-01-10</td>\n",
              "      <td>21:13</td>\n",
              "      <td>51.495752</td>\n",
              "      <td>-0.156618</td>\n",
              "      <td>Kensington and Chelsea</td>\n",
              "      <td>E01002863</td>\n",
              "      <td>Urban</td>\n",
              "      <td>Wet or damp</td>\n",
              "      <td>...</td>\n",
              "      <td>No</td>\n",
              "      <td>2005-01-10</td>\n",
              "      <td>21</td>\n",
              "      <td>0</td>\n",
              "      <td>1</td>\n",
              "      <td>Monday</td>\n",
              "      <td>2005</td>\n",
              "      <td>Winter</td>\n",
              "      <td>Night</td>\n",
              "      <td>Urban</td>\n",
              "    </tr>\n",
              "  </tbody>\n",
              "</table>\n",
              "<p>5 rows × 28 columns</p>\n",
              "</div>\n",
              "    <div class=\"colab-df-buttons\">\n",
              "\n",
              "  <div class=\"colab-df-container\">\n",
              "    <button class=\"colab-df-convert\" onclick=\"convertToInteractive('df-df1dee84-18c4-4344-8d29-89bfbb65b612')\"\n",
              "            title=\"Convert this dataframe to an interactive table.\"\n",
              "            style=\"display:none;\">\n",
              "\n",
              "  <svg xmlns=\"http://www.w3.org/2000/svg\" height=\"24px\" viewBox=\"0 -960 960 960\">\n",
              "    <path d=\"M120-120v-720h720v720H120Zm60-500h600v-160H180v160Zm220 220h160v-160H400v160Zm0 220h160v-160H400v160ZM180-400h160v-160H180v160Zm440 0h160v-160H620v160ZM180-180h160v-160H180v160Zm440 0h160v-160H620v160Z\"/>\n",
              "  </svg>\n",
              "    </button>\n",
              "\n",
              "  <style>\n",
              "    .colab-df-container {\n",
              "      display:flex;\n",
              "      gap: 12px;\n",
              "    }\n",
              "\n",
              "    .colab-df-convert {\n",
              "      background-color: #E8F0FE;\n",
              "      border: none;\n",
              "      border-radius: 50%;\n",
              "      cursor: pointer;\n",
              "      display: none;\n",
              "      fill: #1967D2;\n",
              "      height: 32px;\n",
              "      padding: 0 0 0 0;\n",
              "      width: 32px;\n",
              "    }\n",
              "\n",
              "    .colab-df-convert:hover {\n",
              "      background-color: #E2EBFA;\n",
              "      box-shadow: 0px 1px 2px rgba(60, 64, 67, 0.3), 0px 1px 3px 1px rgba(60, 64, 67, 0.15);\n",
              "      fill: #174EA6;\n",
              "    }\n",
              "\n",
              "    .colab-df-buttons div {\n",
              "      margin-bottom: 4px;\n",
              "    }\n",
              "\n",
              "    [theme=dark] .colab-df-convert {\n",
              "      background-color: #3B4455;\n",
              "      fill: #D2E3FC;\n",
              "    }\n",
              "\n",
              "    [theme=dark] .colab-df-convert:hover {\n",
              "      background-color: #434B5C;\n",
              "      box-shadow: 0px 1px 3px 1px rgba(0, 0, 0, 0.15);\n",
              "      filter: drop-shadow(0px 1px 2px rgba(0, 0, 0, 0.3));\n",
              "      fill: #FFFFFF;\n",
              "    }\n",
              "  </style>\n",
              "\n",
              "    <script>\n",
              "      const buttonEl =\n",
              "        document.querySelector('#df-df1dee84-18c4-4344-8d29-89bfbb65b612 button.colab-df-convert');\n",
              "      buttonEl.style.display =\n",
              "        google.colab.kernel.accessAllowed ? 'block' : 'none';\n",
              "\n",
              "      async function convertToInteractive(key) {\n",
              "        const element = document.querySelector('#df-df1dee84-18c4-4344-8d29-89bfbb65b612');\n",
              "        const dataTable =\n",
              "          await google.colab.kernel.invokeFunction('convertToInteractive',\n",
              "                                                    [key], {});\n",
              "        if (!dataTable) return;\n",
              "\n",
              "        const docLinkHtml = 'Like what you see? Visit the ' +\n",
              "          '<a target=\"_blank\" href=https://colab.research.google.com/notebooks/data_table.ipynb>data table notebook</a>'\n",
              "          + ' to learn more about interactive tables.';\n",
              "        element.innerHTML = '';\n",
              "        dataTable['output_type'] = 'display_data';\n",
              "        await google.colab.output.renderOutput(dataTable, element);\n",
              "        const docLink = document.createElement('div');\n",
              "        docLink.innerHTML = docLinkHtml;\n",
              "        element.appendChild(docLink);\n",
              "      }\n",
              "    </script>\n",
              "  </div>\n",
              "\n",
              "\n",
              "    <div id=\"df-03fe2026-f61a-4778-8e0f-e9d0977e7ed0\">\n",
              "      <button class=\"colab-df-quickchart\" onclick=\"quickchart('df-03fe2026-f61a-4778-8e0f-e9d0977e7ed0')\"\n",
              "                title=\"Suggest charts\"\n",
              "                style=\"display:none;\">\n",
              "\n",
              "<svg xmlns=\"http://www.w3.org/2000/svg\" height=\"24px\"viewBox=\"0 0 24 24\"\n",
              "     width=\"24px\">\n",
              "    <g>\n",
              "        <path d=\"M19 3H5c-1.1 0-2 .9-2 2v14c0 1.1.9 2 2 2h14c1.1 0 2-.9 2-2V5c0-1.1-.9-2-2-2zM9 17H7v-7h2v7zm4 0h-2V7h2v10zm4 0h-2v-4h2v4z\"/>\n",
              "    </g>\n",
              "</svg>\n",
              "      </button>\n",
              "\n",
              "<style>\n",
              "  .colab-df-quickchart {\n",
              "      --bg-color: #E8F0FE;\n",
              "      --fill-color: #1967D2;\n",
              "      --hover-bg-color: #E2EBFA;\n",
              "      --hover-fill-color: #174EA6;\n",
              "      --disabled-fill-color: #AAA;\n",
              "      --disabled-bg-color: #DDD;\n",
              "  }\n",
              "\n",
              "  [theme=dark] .colab-df-quickchart {\n",
              "      --bg-color: #3B4455;\n",
              "      --fill-color: #D2E3FC;\n",
              "      --hover-bg-color: #434B5C;\n",
              "      --hover-fill-color: #FFFFFF;\n",
              "      --disabled-bg-color: #3B4455;\n",
              "      --disabled-fill-color: #666;\n",
              "  }\n",
              "\n",
              "  .colab-df-quickchart {\n",
              "    background-color: var(--bg-color);\n",
              "    border: none;\n",
              "    border-radius: 50%;\n",
              "    cursor: pointer;\n",
              "    display: none;\n",
              "    fill: var(--fill-color);\n",
              "    height: 32px;\n",
              "    padding: 0;\n",
              "    width: 32px;\n",
              "  }\n",
              "\n",
              "  .colab-df-quickchart:hover {\n",
              "    background-color: var(--hover-bg-color);\n",
              "    box-shadow: 0 1px 2px rgba(60, 64, 67, 0.3), 0 1px 3px 1px rgba(60, 64, 67, 0.15);\n",
              "    fill: var(--button-hover-fill-color);\n",
              "  }\n",
              "\n",
              "  .colab-df-quickchart-complete:disabled,\n",
              "  .colab-df-quickchart-complete:disabled:hover {\n",
              "    background-color: var(--disabled-bg-color);\n",
              "    fill: var(--disabled-fill-color);\n",
              "    box-shadow: none;\n",
              "  }\n",
              "\n",
              "  .colab-df-spinner {\n",
              "    border: 2px solid var(--fill-color);\n",
              "    border-color: transparent;\n",
              "    border-bottom-color: var(--fill-color);\n",
              "    animation:\n",
              "      spin 1s steps(1) infinite;\n",
              "  }\n",
              "\n",
              "  @keyframes spin {\n",
              "    0% {\n",
              "      border-color: transparent;\n",
              "      border-bottom-color: var(--fill-color);\n",
              "      border-left-color: var(--fill-color);\n",
              "    }\n",
              "    20% {\n",
              "      border-color: transparent;\n",
              "      border-left-color: var(--fill-color);\n",
              "      border-top-color: var(--fill-color);\n",
              "    }\n",
              "    30% {\n",
              "      border-color: transparent;\n",
              "      border-left-color: var(--fill-color);\n",
              "      border-top-color: var(--fill-color);\n",
              "      border-right-color: var(--fill-color);\n",
              "    }\n",
              "    40% {\n",
              "      border-color: transparent;\n",
              "      border-right-color: var(--fill-color);\n",
              "      border-top-color: var(--fill-color);\n",
              "    }\n",
              "    60% {\n",
              "      border-color: transparent;\n",
              "      border-right-color: var(--fill-color);\n",
              "    }\n",
              "    80% {\n",
              "      border-color: transparent;\n",
              "      border-right-color: var(--fill-color);\n",
              "      border-bottom-color: var(--fill-color);\n",
              "    }\n",
              "    90% {\n",
              "      border-color: transparent;\n",
              "      border-bottom-color: var(--fill-color);\n",
              "    }\n",
              "  }\n",
              "</style>\n",
              "\n",
              "      <script>\n",
              "        async function quickchart(key) {\n",
              "          const quickchartButtonEl =\n",
              "            document.querySelector('#' + key + ' button');\n",
              "          quickchartButtonEl.disabled = true;  // To prevent multiple clicks.\n",
              "          quickchartButtonEl.classList.add('colab-df-spinner');\n",
              "          try {\n",
              "            const charts = await google.colab.kernel.invokeFunction(\n",
              "                'suggestCharts', [key], {});\n",
              "          } catch (error) {\n",
              "            console.error('Error during call to suggestCharts:', error);\n",
              "          }\n",
              "          quickchartButtonEl.classList.remove('colab-df-spinner');\n",
              "          quickchartButtonEl.classList.add('colab-df-quickchart-complete');\n",
              "        }\n",
              "        (() => {\n",
              "          let quickchartButtonEl =\n",
              "            document.querySelector('#df-03fe2026-f61a-4778-8e0f-e9d0977e7ed0 button');\n",
              "          quickchartButtonEl.style.display =\n",
              "            google.colab.kernel.accessAllowed ? 'block' : 'none';\n",
              "        })();\n",
              "      </script>\n",
              "    </div>\n",
              "\n",
              "    </div>\n",
              "  </div>\n"
            ],
            "application/vnd.google.colaboratory.intrinsic+json": {
              "type": "dataframe",
              "variable_name": "as_accident_level"
            }
          },
          "metadata": {},
          "execution_count": 46
        }
      ]
    },
    {
      "cell_type": "code",
      "source": [
        "# 1) Define an exact mapping from each raw string → final label\n",
        "weather_map = {\n",
        "    'Fine no high winds':       'Fine',\n",
        "    'Fine + high winds':        'Fine+high winds',\n",
        "    'Raining no high winds':    'Raining',\n",
        "    'Raining + high winds':     'Raining',\n",
        "    'Snowing no high winds':    'Snowing_Ice',\n",
        "    'Snowing + high winds':     'Snowing_Ice',\n",
        "    'Fog or mist':              'Fog',\n",
        "    'Other':                    'Other_Adverse',\n",
        "    'Unknown':                  'Unknown',\n",
        "    'Data missing or out of range': 'Unknown'\n",
        "}\n",
        "\n",
        "# 2) Ensure there are no trailing spaces—strip just in case\n",
        "as_accident_level['Weather_Conditions'] = as_accident_level['Weather_Conditions'].astype(str).str.strip()\n",
        "\n",
        "# 3) Apply the mapping with .map(...). Any unexpected string becomes NaN,\n",
        "#    so we then fillna('Unknown') to catch any anomalies.\n",
        "as_accident_level['Weather_Label'] = (\n",
        "    as_accident_level['Weather_Conditions']\n",
        "    .map(weather_map)         # map known strings → label\n",
        "    .fillna('Unknown')        # if somehow a value is not in the dict\n",
        ")\n",
        "\n",
        "# 4) Verify that the mapping worked correctly\n",
        "print(\"Unique raw Weather_Conditions values:\")\n",
        "print(as_accident_level['Weather_Conditions'].unique(), \"\\n\")\n",
        "\n",
        "print(\"Unique mapped Weather_Label values:\")\n",
        "print(as_accident_level['Weather_Label'].unique())\n",
        "\n",
        "# Optionally, show counts to ensure balance\n",
        "print(\"\\nValue counts for Weather_Label:\")\n",
        "print(as_accident_level['Weather_Label'].value_counts())\n"
      ],
      "metadata": {
        "colab": {
          "base_uri": "https://localhost:8080/"
        },
        "id": "Xq_j2QjixlGN",
        "outputId": "6bc53d7d-dbc5-4434-f172-ab9e9f3dab32"
      },
      "execution_count": null,
      "outputs": [
        {
          "output_type": "stream",
          "name": "stdout",
          "text": [
            "Unique raw Weather_Conditions values:\n",
            "['Raining no high winds' 'Fine no high winds' 'Unknown'\n",
            " 'Snowing no high winds' 'Other' 'Fine + high winds'\n",
            " 'Raining + high winds' 'Fog or mist' 'Snowing + high winds'\n",
            " 'Data missing or out of range'] \n",
            "\n",
            "Unique mapped Weather_Label values:\n",
            "['Raining' 'Fine' 'Unknown' 'Snowing_Ice' 'Other_Adverse'\n",
            " 'Fine+high winds' 'Fog']\n",
            "\n",
            "Value counts for Weather_Label:\n",
            "Weather_Label\n",
            "Fine               1639967\n",
            "Raining             267596\n",
            "Other_Adverse        44079\n",
            "Unknown              42687\n",
            "Fine+high winds      25815\n",
            "Snowing_Ice          15871\n",
            "Fog                  11066\n",
            "Name: count, dtype: int64\n"
          ]
        }
      ]
    },
    {
      "cell_type": "code",
      "source": [
        "def map_road_surface(x):\n",
        "    if x == 'Dry':\n",
        "        return 'Dry'\n",
        "    elif x == 'Wet or damp':\n",
        "        return 'Wet_or_Damp'\n",
        "    elif x in ['Snow', 'Frost or ice']:\n",
        "        return 'Snow_Ice'\n",
        "    elif x == 'Flood over 3cm. deep':\n",
        "        return 'Flood'\n",
        "    else:  # 'Data missing or out of range' or anything else\n",
        "        return 'Unknown'\n",
        "\n",
        "as_accident_level['Road_Surface_Label'] = as_accident_level['Road_Surface_Conditions'].apply(map_road_surface)\n",
        "\n",
        "print(\"Unique Road_Surface_Label values:\", as_accident_level['Road_Surface_Label'].unique())\n",
        "\n"
      ],
      "metadata": {
        "colab": {
          "base_uri": "https://localhost:8080/"
        },
        "id": "Lj0_-q6pyCHo",
        "outputId": "a9760823-ad65-4318-c51b-bb0968da23f5"
      },
      "execution_count": null,
      "outputs": [
        {
          "output_type": "stream",
          "name": "stdout",
          "text": [
            "Unique Road_Surface_Label values: ['Wet_or_Damp' 'Dry' 'Snow_Ice' 'Flood' 'Unknown']\n"
          ]
        }
      ]
    },
    {
      "cell_type": "code",
      "source": [
        "def map_road_type(x):\n",
        "    if x == 'Dual carriageway':\n",
        "        return 'Dual_Carriageway'\n",
        "    elif x == 'Single carriageway':\n",
        "        return 'Single_Carriageway'\n",
        "    elif x == 'One way street':\n",
        "        return 'One_Way_Street'\n",
        "    elif x == 'Roundabout':\n",
        "        return 'Roundabout'\n",
        "    elif x == 'Slip road':\n",
        "        return 'Slip_Road'\n",
        "    else:  # 'Unknown' or 'Data missing or out of range'\n",
        "        return 'Unknown'\n",
        "\n",
        "as_accident_level['Road_Type_Label'] = as_accident_level['Road_Type'].apply(map_road_type)\n",
        "\n",
        "print(\"Unique Road_Type_Label values:\", as_accident_level['Road_Type_Label'].unique())\n"
      ],
      "metadata": {
        "colab": {
          "base_uri": "https://localhost:8080/"
        },
        "id": "TPjsOiKByMZC",
        "outputId": "88952be4-4068-464d-bca0-034976fb9d5b"
      },
      "execution_count": null,
      "outputs": [
        {
          "output_type": "stream",
          "name": "stdout",
          "text": [
            "Unique Road_Type_Label values: ['Single_Carriageway' 'Dual_Carriageway' 'One_Way_Street' 'Roundabout'\n",
            " 'Slip_Road' 'Unknown']\n"
          ]
        }
      ]
    },
    {
      "cell_type": "code",
      "source": [
        "as_accident_level['Light_Conditions'] = as_accident_level['Light_Conditions'].astype(str).str.strip()\n",
        "\n",
        "def map_light(x):\n",
        "    if x == 'Daylight':\n",
        "        return 'Daylight'\n",
        "    elif x == 'Darkness - lights lit':\n",
        "        return 'Darkness_Lights_On'\n",
        "    elif x == 'Darkness - lights unlit':\n",
        "        return 'Darkness_Lights_Off'\n",
        "    elif x in ['Darkness - lighting unknown', 'Darkness - no lighting']:\n",
        "        return 'Dark_No_Lighting'\n",
        "    else:  # 'Data missing or out of range' or anything else\n",
        "        return 'Unknown'\n",
        "\n",
        "as_accident_level['Light_Label'] = as_accident_level['Light_Conditions'].apply(map_light)\n",
        "\n",
        "print(\"Unique Light_Label values:\", as_accident_level['Light_Label'].unique())"
      ],
      "metadata": {
        "colab": {
          "base_uri": "https://localhost:8080/"
        },
        "id": "CpBlYKGcyaHt",
        "outputId": "3782576b-dfb6-4eb5-addb-ad844ca9d915"
      },
      "execution_count": null,
      "outputs": [
        {
          "output_type": "stream",
          "name": "stdout",
          "text": [
            "Unique Light_Label values: ['Daylight' 'Darkness_Lights_On' 'Dark_No_Lighting' 'Darkness_Lights_Off'\n",
            " 'Unknown']\n"
          ]
        }
      ]
    },
    {
      "cell_type": "code",
      "source": [
        "def speed_bin(x):\n",
        "    try:\n",
        "        sl = float(x)\n",
        "    except:\n",
        "        return 'Unknown'\n",
        "    if sl <= 30:\n",
        "        return 'Low_30'\n",
        "    elif sl <= 50:\n",
        "        return 'Mid_50'\n",
        "    elif sl <= 70:\n",
        "        return 'High_70'\n",
        "    else:\n",
        "        return 'Very_High'\n",
        "\n",
        "as_accident_level['Speed_Bin'] = as_accident_level['Speed_limit'].apply(speed_bin)\n",
        "\n",
        "print(\"Unique Speed_Bin values:\", as_accident_level['Speed_Bin'].unique())"
      ],
      "metadata": {
        "colab": {
          "base_uri": "https://localhost:8080/"
        },
        "id": "KWu73E3wyihm",
        "outputId": "dcd37cb7-d118-47ff-91b4-870889b3484b"
      },
      "execution_count": null,
      "outputs": [
        {
          "output_type": "stream",
          "name": "stdout",
          "text": [
            "Unique Speed_Bin values: ['Low_30' 'Mid_50' 'High_70']\n"
          ]
        }
      ]
    },
    {
      "cell_type": "code",
      "source": [
        "# Now that we have mapped/engineered every column, drop the raw ones:\n",
        "cols_to_drop = [\n",
        "    'Date',\n",
        "    'Time',\n",
        "    'Urban_or_Rural_Area',\n",
        "    'Road_Surface_Conditions',\n",
        "    'Road_Type',\n",
        "    'Speed_limit',\n",
        "    'Weather_Conditions',\n",
        "    'Light_Conditions',\n",
        "    'Day_of_Week'\n",
        "]\n",
        "\n",
        "as_accident_level = as_accident_level.drop(columns=[c for c in cols_to_drop if c in as_accident_level.columns],\n",
        "                                     errors='ignore')\n",
        "\n",
        "print(\"\\nFinal columns in accident_level:\")\n",
        "print(as_accident_level.columns.tolist())\n",
        "\n",
        "print(\"\\nFinal shape:\", as_accident_level.shape)"
      ],
      "metadata": {
        "colab": {
          "base_uri": "https://localhost:8080/"
        },
        "id": "_VMsreXsyoJy",
        "outputId": "7bb15893-ec78-47dd-dab8-5fd8da1f61d4"
      },
      "execution_count": null,
      "outputs": [
        {
          "output_type": "stream",
          "name": "stdout",
          "text": [
            "\n",
            "Final columns in accident_level:\n",
            "['Accident_Index', 'Accident_Severity', 'Latitude', 'Longitude', 'Local_Authority_(District)', 'LSOA_of_Accident_Location', 'Number_of_Casualties', 'Number_of_Vehicles', 'Police_Force', 'InScotland', 'Date_dt', 'Hour', 'Weekday_Num', 'Month', 'Day_of_Week_Label', 'Year', 'Season', 'Time_of_Day', 'Urban_Rural_Label', 'Weather_Label', 'Road_Surface_Label', 'Road_Type_Label', 'Light_Label', 'Speed_Bin']\n",
            "\n",
            "Final shape: (2047081, 24)\n"
          ]
        }
      ]
    },
    {
      "cell_type": "code",
      "source": [
        "# Check for any remaining missing values in the columns we care about:\n",
        "to_check = [\n",
        "    'Local_Authority_(District)',\n",
        "    'LSOA_of_Accident_Location',\n",
        "    'Police_Force',\n",
        "    'InScotland',\n",
        "    'Hour',\n",
        "    'Weekday_Num',\n",
        "    'Month',\n",
        "    'Season',\n",
        "    'Time_of_Day',\n",
        "    'Urban_Rural_Label',\n",
        "    'Weather_Label',\n",
        "    'Light_Label',\n",
        "    'Road_Surface_Label',\n",
        "    'Road_Type_Label',\n",
        "    'Speed_Bin',\n",
        "    'Day_of_Week_Label',\n",
        "    'Number_of_Vehicles',\n",
        "    'Number_of_Casualties',\n",
        "    'Latitude',\n",
        "    'Longitude'\n",
        "]\n",
        "\n",
        "print(\"\\nMissing counts in final features:\")\n",
        "print(as_accident_level[to_check].isna().sum())\n",
        "\n",
        "# Show the first few rows of the cleaned DataFrame\n",
        "print(\"\\nSample of final accident_level:\")\n",
        "print(as_accident_level.head())"
      ],
      "metadata": {
        "colab": {
          "base_uri": "https://localhost:8080/"
        },
        "id": "U5L3OocXyzZt",
        "outputId": "6fbf6c32-7805-459b-e8c2-325c4acf8206"
      },
      "execution_count": null,
      "outputs": [
        {
          "output_type": "stream",
          "name": "stdout",
          "text": [
            "\n",
            "Missing counts in final features:\n",
            "Local_Authority_(District)    0\n",
            "LSOA_of_Accident_Location     0\n",
            "Police_Force                  0\n",
            "InScotland                    0\n",
            "Hour                          0\n",
            "Weekday_Num                   0\n",
            "Month                         0\n",
            "Season                        0\n",
            "Time_of_Day                   0\n",
            "Urban_Rural_Label             0\n",
            "Weather_Label                 0\n",
            "Light_Label                   0\n",
            "Road_Surface_Label            0\n",
            "Road_Type_Label               0\n",
            "Speed_Bin                     0\n",
            "Day_of_Week_Label             0\n",
            "Number_of_Vehicles            0\n",
            "Number_of_Casualties          0\n",
            "Latitude                      0\n",
            "Longitude                     0\n",
            "dtype: int64\n",
            "\n",
            "Sample of final accident_level:\n",
            "  Accident_Index Accident_Severity   Latitude  Longitude  \\\n",
            "0  200501BS00001           Serious  51.489096  -0.191170   \n",
            "1  200501BS00002            Slight  51.520075  -0.211708   \n",
            "2  200501BS00003            Slight  51.525301  -0.206458   \n",
            "3  200501BS00004            Slight  51.482442  -0.173862   \n",
            "4  200501BS00005            Slight  51.495752  -0.156618   \n",
            "\n",
            "  Local_Authority_(District) LSOA_of_Accident_Location  Number_of_Casualties  \\\n",
            "0     Kensington and Chelsea                 E01002849                     1   \n",
            "1     Kensington and Chelsea                 E01002909                     1   \n",
            "2     Kensington and Chelsea                 E01002857                     1   \n",
            "3     Kensington and Chelsea                 E01002840                     1   \n",
            "4     Kensington and Chelsea                 E01002863                     1   \n",
            "\n",
            "   Number_of_Vehicles         Police_Force InScotland  ... Day_of_Week_Label  \\\n",
            "0                   1  Metropolitan Police         No  ...           Tuesday   \n",
            "1                   1  Metropolitan Police         No  ...         Wednesday   \n",
            "2                   2  Metropolitan Police         No  ...          Thursday   \n",
            "3                   1  Metropolitan Police         No  ...            Friday   \n",
            "4                   1  Metropolitan Police         No  ...            Monday   \n",
            "\n",
            "   Year  Season   Time_of_Day Urban_Rural_Label  Weather_Label  \\\n",
            "0  2005  Winter  Evening_Peak             Urban        Raining   \n",
            "1  2005  Winter  Evening_Peak             Urban           Fine   \n",
            "2  2005  Winter    Late_Night             Urban           Fine   \n",
            "3  2005  Winter       Daytime             Urban           Fine   \n",
            "4  2005  Winter         Night             Urban           Fine   \n",
            "\n",
            "  Road_Surface_Label     Road_Type_Label         Light_Label Speed_Bin  \n",
            "0        Wet_or_Damp  Single_Carriageway            Daylight    Low_30  \n",
            "1                Dry    Dual_Carriageway  Darkness_Lights_On    Low_30  \n",
            "2                Dry  Single_Carriageway  Darkness_Lights_On    Low_30  \n",
            "3                Dry  Single_Carriageway            Daylight    Low_30  \n",
            "4        Wet_or_Damp  Single_Carriageway    Dark_No_Lighting    Low_30  \n",
            "\n",
            "[5 rows x 24 columns]\n"
          ]
        }
      ]
    },
    {
      "cell_type": "code",
      "source": [
        "# Assuming your cleaned DataFrame is `as_accident_level`\n",
        "print(as_accident_level.columns.tolist())\n"
      ],
      "metadata": {
        "id": "f-j9x9qL10qd",
        "colab": {
          "base_uri": "https://localhost:8080/"
        },
        "outputId": "dc176dd7-98cd-45cb-c0d2-8b3951d92471"
      },
      "execution_count": null,
      "outputs": [
        {
          "output_type": "stream",
          "name": "stdout",
          "text": [
            "['Accident_Index', 'Accident_Severity', 'Latitude', 'Longitude', 'Local_Authority_(District)', 'LSOA_of_Accident_Location', 'Number_of_Casualties', 'Number_of_Vehicles', 'Police_Force', 'InScotland', 'Date_dt', 'Hour', 'Weekday_Num', 'Month', 'Day_of_Week_Label', 'Year', 'Season', 'Time_of_Day', 'Urban_Rural_Label', 'Weather_Label', 'Road_Surface_Label', 'Road_Type_Label', 'Light_Label', 'Speed_Bin']\n"
          ]
        }
      ]
    },
    {
      "cell_type": "code",
      "source": [
        "# Ensure 'Accident_Severity' column exists and has the correct categories\n",
        "order = ['Slight', 'Serious', 'Fatal']\n",
        "\n",
        "plt.figure(figsize=(6, 4))\n",
        "sns.countplot(\n",
        "    data=as_accident_level,\n",
        "    x='Accident_Severity',\n",
        "    hue='Accident_Severity',          # Add this to avoid the future warning\n",
        "    order=order,\n",
        "    palette='Set2',                   # Choose a visually appealing palette\n",
        "    edgecolor='black',\n",
        "    legend=False                      # Remove redundant legend\n",
        ")\n",
        "\n",
        "plt.title('Accident Severity Distribution', fontsize=14)\n",
        "plt.xlabel('Severity Level', fontsize=12)\n",
        "plt.ylabel('Count', fontsize=12)\n",
        "plt.tight_layout()\n",
        "plt.grid(axis='y', linestyle='--', alpha=0.7)\n",
        "plt.show()\n"
      ],
      "metadata": {
        "colab": {
          "base_uri": "https://localhost:8080/",
          "height": 401
        },
        "id": "rw_9SgDvT3qK",
        "outputId": "05652174-4bf6-4842-fbe8-dd994aa28551"
      },
      "execution_count": null,
      "outputs": [
        {
          "output_type": "display_data",
          "data": {
            "text/plain": [
              "<Figure size 600x400 with 1 Axes>"
            ],
            "image/png": "[encoded data removed]"
          },
          "metadata": {}
        }
      ]
    },
    {
      "cell_type": "code",
      "source": [
        "plt.figure(figsize=(10, 6))\n",
        "sns.countplot(data=as_accident_level, x='Weather_Label', hue='Accident_Severity', palette='Set2')\n",
        "plt.title('Accident Severity by Weather Condition')\n",
        "plt.xlabel('Weather Condition')\n",
        "plt.ylabel('Count')\n",
        "plt.xticks(rotation=45)\n",
        "plt.legend(title='Severity')\n",
        "plt.tight_layout()\n",
        "plt.show()\n"
      ],
      "metadata": {
        "colab": {
          "base_uri": "https://localhost:8080/",
          "height": 601
        },
        "id": "uGArStF7UNtx",
        "outputId": "46327f91-5aad-408b-ae19-d8de63d6b0bf"
      },
      "execution_count": null,
      "outputs": [
        {
          "output_type": "display_data",
          "data": {
            "text/plain": [
              "<Figure size 1000x600 with 1 Axes>"
            ],
            "image/png": "[encoded data removed]"
          },
          "metadata": {}
        }
      ]
    },
    {
      "cell_type": "code",
      "source": [
        "plt.figure(figsize=(8, 5))\n",
        "sns.countplot(data=as_accident_level, x='Time_of_Day', hue='Accident_Severity', palette='coolwarm')\n",
        "plt.title('Accident Severity by Time of Day')\n",
        "plt.xlabel('Time of Day')\n",
        "plt.ylabel('Accident Count')\n",
        "plt.legend(title='Severity')\n",
        "plt.tight_layout()\n",
        "plt.show()\n"
      ],
      "metadata": {
        "colab": {
          "base_uri": "https://localhost:8080/",
          "height": 501
        },
        "id": "xX88QCv_VEW2",
        "outputId": "17f462be-5ca5-4b86-df28-3507e87dae5e"
      },
      "execution_count": null,
      "outputs": [
        {
          "output_type": "display_data",
          "data": {
            "text/plain": [
              "<Figure size 800x500 with 1 Axes>"
            ],
            "image/png": "[encoded data removed]"
          },
          "metadata": {}
        }
      ]
    },
    {
      "cell_type": "code",
      "source": [
        "\n",
        "plt.figure(figsize=(10, 5))\n",
        "\n",
        "# Use a well-contrasted palette manually\n",
        "custom_palette = {'Slight': '#1f77b4', 'Serious': '#ff7f0e', 'Fatal': '#d62728'}\n",
        "\n",
        "sns.countplot(\n",
        "    data=as_accident_level,\n",
        "    x='Month',\n",
        "    hue='Accident_Severity',\n",
        "    palette=custom_palette,\n",
        "    edgecolor='black'\n",
        ")\n",
        "\n",
        "plt.title('Monthly Accident Counts by Severity', fontsize=14)\n",
        "plt.xlabel('Month (1=Jan, 12=Dec)')\n",
        "plt.ylabel('Number of Accidents')\n",
        "plt.xticks(ticks=range(0, 12), labels=[\n",
        "    'Jan', 'Feb', 'Mar', 'Apr', 'May', 'Jun',\n",
        "    'Jul', 'Aug', 'Sep', 'Oct', 'Nov', 'Dec'\n",
        "])\n",
        "plt.grid(axis='y', linestyle='--', alpha=0.7)\n",
        "\n",
        "# Move legend outside the plot area to the top right\n",
        "plt.legend(title='Severity', loc='upper left', bbox_to_anchor=(1, 1))\n",
        "\n",
        "plt.tight_layout()\n",
        "plt.show()\n",
        "\n"
      ],
      "metadata": {
        "colab": {
          "base_uri": "https://localhost:8080/",
          "height": 501
        },
        "id": "uMhjAST6VTZd",
        "outputId": "5236cdea-69f0-4711-95d2-3f8d87bf0d61"
      },
      "execution_count": null,
      "outputs": [
        {
          "output_type": "display_data",
          "data": {
            "text/plain": [
              "<Figure size 1000x500 with 1 Axes>"
            ],
            "image/png": "[encoded data removed]"
          },
          "metadata": {}
        }
      ]
    },
    {
      "cell_type": "code",
      "source": [
        "plt.figure(figsize=(8, 5))\n",
        "sns.countplot(\n",
        "    data=as_accident_level,\n",
        "    x='Urban_Rural_Label',\n",
        "    hue='Accident_Severity',\n",
        "    palette='Set2'\n",
        ")\n",
        "plt.title('Accident Severity: Urban vs Rural', fontsize=14)\n",
        "plt.xlabel('Location Type')\n",
        "plt.ylabel('Accident Count')\n",
        "plt.legend(title='Severity')\n",
        "plt.tight_layout()\n",
        "plt.show()\n"
      ],
      "metadata": {
        "id": "9votNxRBW9bU",
        "colab": {
          "base_uri": "https://localhost:8080/",
          "height": 501
        },
        "outputId": "548de599-07d2-42e9-9eb2-dc90fc98a521"
      },
      "execution_count": 66,
      "outputs": [
        {
          "output_type": "display_data",
          "data": {
            "text/plain": [
              "<Figure size 800x500 with 1 Axes>"
            ],
            "image/png": "[encoded data removed]"
          },
          "metadata": {}
        }
      ]
    },
    {
      "cell_type": "code",
      "source": [],
      "metadata": {
        "id": "SsqjQox4XTXD"
      },
      "execution_count": null,
      "outputs": []
    }
  ]
}